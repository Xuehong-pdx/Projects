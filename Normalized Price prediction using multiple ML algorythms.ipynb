{
 "cells": [
  {
   "cell_type": "markdown",
   "metadata": {},
   "source": [
    "In this notebook, I will compare the predictions of sales price using various machine learning algorythms, i ncluding linear regression, knn, random ofrest.  "
   ]
  },
  {
   "cell_type": "markdown",
   "metadata": {},
   "source": [
    "## <b>Importing and Preparing data"
   ]
  },
  {
   "cell_type": "code",
   "execution_count": 1,
   "metadata": {},
   "outputs": [
    {
     "data": {
      "text/html": [
       "<div>\n",
       "<style scoped>\n",
       "    .dataframe tbody tr th:only-of-type {\n",
       "        vertical-align: middle;\n",
       "    }\n",
       "\n",
       "    .dataframe tbody tr th {\n",
       "        vertical-align: top;\n",
       "    }\n",
       "\n",
       "    .dataframe thead th {\n",
       "        text-align: right;\n",
       "    }\n",
       "</style>\n",
       "<table border=\"1\" class=\"dataframe\">\n",
       "  <thead>\n",
       "    <tr style=\"text-align: right;\">\n",
       "      <th></th>\n",
       "      <th>Id</th>\n",
       "      <th>MSSubClass</th>\n",
       "      <th>MSZoning</th>\n",
       "      <th>LotFrontage</th>\n",
       "      <th>LotArea</th>\n",
       "      <th>Street</th>\n",
       "      <th>Alley</th>\n",
       "      <th>LotShape</th>\n",
       "      <th>LandContour</th>\n",
       "      <th>Utilities</th>\n",
       "      <th>...</th>\n",
       "      <th>PoolArea</th>\n",
       "      <th>PoolQC</th>\n",
       "      <th>Fence</th>\n",
       "      <th>MiscFeature</th>\n",
       "      <th>MiscVal</th>\n",
       "      <th>MoSold</th>\n",
       "      <th>YrSold</th>\n",
       "      <th>SaleType</th>\n",
       "      <th>SaleCondition</th>\n",
       "      <th>SalePrice</th>\n",
       "    </tr>\n",
       "  </thead>\n",
       "  <tbody>\n",
       "    <tr>\n",
       "      <th>0</th>\n",
       "      <td>1</td>\n",
       "      <td>60</td>\n",
       "      <td>RL</td>\n",
       "      <td>65.0</td>\n",
       "      <td>8450</td>\n",
       "      <td>Pave</td>\n",
       "      <td>NaN</td>\n",
       "      <td>Reg</td>\n",
       "      <td>Lvl</td>\n",
       "      <td>AllPub</td>\n",
       "      <td>...</td>\n",
       "      <td>0</td>\n",
       "      <td>NaN</td>\n",
       "      <td>NaN</td>\n",
       "      <td>NaN</td>\n",
       "      <td>0</td>\n",
       "      <td>2</td>\n",
       "      <td>2008</td>\n",
       "      <td>WD</td>\n",
       "      <td>Normal</td>\n",
       "      <td>208500</td>\n",
       "    </tr>\n",
       "    <tr>\n",
       "      <th>1</th>\n",
       "      <td>2</td>\n",
       "      <td>20</td>\n",
       "      <td>RL</td>\n",
       "      <td>80.0</td>\n",
       "      <td>9600</td>\n",
       "      <td>Pave</td>\n",
       "      <td>NaN</td>\n",
       "      <td>Reg</td>\n",
       "      <td>Lvl</td>\n",
       "      <td>AllPub</td>\n",
       "      <td>...</td>\n",
       "      <td>0</td>\n",
       "      <td>NaN</td>\n",
       "      <td>NaN</td>\n",
       "      <td>NaN</td>\n",
       "      <td>0</td>\n",
       "      <td>5</td>\n",
       "      <td>2007</td>\n",
       "      <td>WD</td>\n",
       "      <td>Normal</td>\n",
       "      <td>181500</td>\n",
       "    </tr>\n",
       "    <tr>\n",
       "      <th>2</th>\n",
       "      <td>3</td>\n",
       "      <td>60</td>\n",
       "      <td>RL</td>\n",
       "      <td>68.0</td>\n",
       "      <td>11250</td>\n",
       "      <td>Pave</td>\n",
       "      <td>NaN</td>\n",
       "      <td>IR1</td>\n",
       "      <td>Lvl</td>\n",
       "      <td>AllPub</td>\n",
       "      <td>...</td>\n",
       "      <td>0</td>\n",
       "      <td>NaN</td>\n",
       "      <td>NaN</td>\n",
       "      <td>NaN</td>\n",
       "      <td>0</td>\n",
       "      <td>9</td>\n",
       "      <td>2008</td>\n",
       "      <td>WD</td>\n",
       "      <td>Normal</td>\n",
       "      <td>223500</td>\n",
       "    </tr>\n",
       "  </tbody>\n",
       "</table>\n",
       "<p>3 rows × 81 columns</p>\n",
       "</div>"
      ],
      "text/plain": [
       "   Id  MSSubClass MSZoning  LotFrontage  LotArea Street Alley LotShape  \\\n",
       "0   1          60       RL         65.0     8450   Pave   NaN      Reg   \n",
       "1   2          20       RL         80.0     9600   Pave   NaN      Reg   \n",
       "2   3          60       RL         68.0    11250   Pave   NaN      IR1   \n",
       "\n",
       "  LandContour Utilities  ... PoolArea PoolQC Fence MiscFeature MiscVal MoSold  \\\n",
       "0         Lvl    AllPub  ...        0    NaN   NaN         NaN       0      2   \n",
       "1         Lvl    AllPub  ...        0    NaN   NaN         NaN       0      5   \n",
       "2         Lvl    AllPub  ...        0    NaN   NaN         NaN       0      9   \n",
       "\n",
       "  YrSold  SaleType  SaleCondition  SalePrice  \n",
       "0   2008        WD         Normal     208500  \n",
       "1   2007        WD         Normal     181500  \n",
       "2   2008        WD         Normal     223500  \n",
       "\n",
       "[3 rows x 81 columns]"
      ]
     },
     "execution_count": 1,
     "metadata": {},
     "output_type": "execute_result"
    }
   ],
   "source": [
    "import pandas as pd\n",
    "import matplotlib.pyplot as plt\n",
    "%matplotlib inline\n",
    "\n",
    "# Load the dataset into a dataframe using pandas\n",
    "df = pd.read_csv('dataset.csv')\n",
    "df.head(3)"
   ]
  },
  {
   "cell_type": "code",
   "execution_count": 2,
   "metadata": {},
   "outputs": [
    {
     "data": {
      "text/plain": [
       "(1460, 81)"
      ]
     },
     "execution_count": 2,
     "metadata": {},
     "output_type": "execute_result"
    }
   ],
   "source": [
    "# Get a sense of the size of the datasest\n",
    "df.shape"
   ]
  },
  {
   "cell_type": "code",
   "execution_count": 3,
   "metadata": {},
   "outputs": [
    {
     "name": "stdout",
     "output_type": "stream",
     "text": [
      "There are 19 columns that have missing values.\n"
     ]
    },
    {
     "data": {
      "text/html": [
       "<div>\n",
       "<style scoped>\n",
       "    .dataframe tbody tr th:only-of-type {\n",
       "        vertical-align: middle;\n",
       "    }\n",
       "\n",
       "    .dataframe tbody tr th {\n",
       "        vertical-align: top;\n",
       "    }\n",
       "\n",
       "    .dataframe thead th {\n",
       "        text-align: right;\n",
       "    }\n",
       "</style>\n",
       "<table border=\"1\" class=\"dataframe\">\n",
       "  <thead>\n",
       "    <tr style=\"text-align: right;\">\n",
       "      <th></th>\n",
       "      <th>Zero Values</th>\n",
       "      <th>Missing Values</th>\n",
       "      <th>% of Total Values</th>\n",
       "      <th>Total Zero Missing Values</th>\n",
       "      <th>% Total Zero Missing Values</th>\n",
       "      <th>Data Type</th>\n",
       "    </tr>\n",
       "  </thead>\n",
       "  <tbody>\n",
       "    <tr>\n",
       "      <th>PoolQC</th>\n",
       "      <td>0</td>\n",
       "      <td>1453</td>\n",
       "      <td>99.5</td>\n",
       "      <td>1453</td>\n",
       "      <td>99.5</td>\n",
       "      <td>object</td>\n",
       "    </tr>\n",
       "    <tr>\n",
       "      <th>MiscFeature</th>\n",
       "      <td>0</td>\n",
       "      <td>1406</td>\n",
       "      <td>96.3</td>\n",
       "      <td>1406</td>\n",
       "      <td>96.3</td>\n",
       "      <td>object</td>\n",
       "    </tr>\n",
       "    <tr>\n",
       "      <th>Alley</th>\n",
       "      <td>0</td>\n",
       "      <td>1369</td>\n",
       "      <td>93.8</td>\n",
       "      <td>1369</td>\n",
       "      <td>93.8</td>\n",
       "      <td>object</td>\n",
       "    </tr>\n",
       "    <tr>\n",
       "      <th>Fence</th>\n",
       "      <td>0</td>\n",
       "      <td>1179</td>\n",
       "      <td>80.8</td>\n",
       "      <td>1179</td>\n",
       "      <td>80.8</td>\n",
       "      <td>object</td>\n",
       "    </tr>\n",
       "    <tr>\n",
       "      <th>FireplaceQu</th>\n",
       "      <td>0</td>\n",
       "      <td>690</td>\n",
       "      <td>47.3</td>\n",
       "      <td>690</td>\n",
       "      <td>47.3</td>\n",
       "      <td>object</td>\n",
       "    </tr>\n",
       "    <tr>\n",
       "      <th>LotFrontage</th>\n",
       "      <td>0</td>\n",
       "      <td>259</td>\n",
       "      <td>17.7</td>\n",
       "      <td>259</td>\n",
       "      <td>17.7</td>\n",
       "      <td>float64</td>\n",
       "    </tr>\n",
       "    <tr>\n",
       "      <th>GarageType</th>\n",
       "      <td>0</td>\n",
       "      <td>81</td>\n",
       "      <td>5.5</td>\n",
       "      <td>81</td>\n",
       "      <td>5.5</td>\n",
       "      <td>object</td>\n",
       "    </tr>\n",
       "    <tr>\n",
       "      <th>GarageYrBlt</th>\n",
       "      <td>0</td>\n",
       "      <td>81</td>\n",
       "      <td>5.5</td>\n",
       "      <td>81</td>\n",
       "      <td>5.5</td>\n",
       "      <td>float64</td>\n",
       "    </tr>\n",
       "    <tr>\n",
       "      <th>GarageFinish</th>\n",
       "      <td>0</td>\n",
       "      <td>81</td>\n",
       "      <td>5.5</td>\n",
       "      <td>81</td>\n",
       "      <td>5.5</td>\n",
       "      <td>object</td>\n",
       "    </tr>\n",
       "    <tr>\n",
       "      <th>GarageQual</th>\n",
       "      <td>0</td>\n",
       "      <td>81</td>\n",
       "      <td>5.5</td>\n",
       "      <td>81</td>\n",
       "      <td>5.5</td>\n",
       "      <td>object</td>\n",
       "    </tr>\n",
       "    <tr>\n",
       "      <th>GarageCond</th>\n",
       "      <td>0</td>\n",
       "      <td>81</td>\n",
       "      <td>5.5</td>\n",
       "      <td>81</td>\n",
       "      <td>5.5</td>\n",
       "      <td>object</td>\n",
       "    </tr>\n",
       "    <tr>\n",
       "      <th>BsmtExposure</th>\n",
       "      <td>0</td>\n",
       "      <td>38</td>\n",
       "      <td>2.6</td>\n",
       "      <td>38</td>\n",
       "      <td>2.6</td>\n",
       "      <td>object</td>\n",
       "    </tr>\n",
       "    <tr>\n",
       "      <th>BsmtFinType2</th>\n",
       "      <td>0</td>\n",
       "      <td>38</td>\n",
       "      <td>2.6</td>\n",
       "      <td>38</td>\n",
       "      <td>2.6</td>\n",
       "      <td>object</td>\n",
       "    </tr>\n",
       "    <tr>\n",
       "      <th>BsmtFinType1</th>\n",
       "      <td>0</td>\n",
       "      <td>37</td>\n",
       "      <td>2.5</td>\n",
       "      <td>37</td>\n",
       "      <td>2.5</td>\n",
       "      <td>object</td>\n",
       "    </tr>\n",
       "    <tr>\n",
       "      <th>BsmtCond</th>\n",
       "      <td>0</td>\n",
       "      <td>37</td>\n",
       "      <td>2.5</td>\n",
       "      <td>37</td>\n",
       "      <td>2.5</td>\n",
       "      <td>object</td>\n",
       "    </tr>\n",
       "    <tr>\n",
       "      <th>BsmtQual</th>\n",
       "      <td>0</td>\n",
       "      <td>37</td>\n",
       "      <td>2.5</td>\n",
       "      <td>37</td>\n",
       "      <td>2.5</td>\n",
       "      <td>object</td>\n",
       "    </tr>\n",
       "    <tr>\n",
       "      <th>MasVnrArea</th>\n",
       "      <td>861</td>\n",
       "      <td>8</td>\n",
       "      <td>0.5</td>\n",
       "      <td>869</td>\n",
       "      <td>59.5</td>\n",
       "      <td>float64</td>\n",
       "    </tr>\n",
       "    <tr>\n",
       "      <th>MasVnrType</th>\n",
       "      <td>0</td>\n",
       "      <td>8</td>\n",
       "      <td>0.5</td>\n",
       "      <td>8</td>\n",
       "      <td>0.5</td>\n",
       "      <td>object</td>\n",
       "    </tr>\n",
       "    <tr>\n",
       "      <th>Electrical</th>\n",
       "      <td>0</td>\n",
       "      <td>1</td>\n",
       "      <td>0.1</td>\n",
       "      <td>1</td>\n",
       "      <td>0.1</td>\n",
       "      <td>object</td>\n",
       "    </tr>\n",
       "  </tbody>\n",
       "</table>\n",
       "</div>"
      ],
      "text/plain": [
       "              Zero Values  Missing Values  % of Total Values  \\\n",
       "PoolQC                  0            1453               99.5   \n",
       "MiscFeature             0            1406               96.3   \n",
       "Alley                   0            1369               93.8   \n",
       "Fence                   0            1179               80.8   \n",
       "FireplaceQu             0             690               47.3   \n",
       "LotFrontage             0             259               17.7   \n",
       "GarageType              0              81                5.5   \n",
       "GarageYrBlt             0              81                5.5   \n",
       "GarageFinish            0              81                5.5   \n",
       "GarageQual              0              81                5.5   \n",
       "GarageCond              0              81                5.5   \n",
       "BsmtExposure            0              38                2.6   \n",
       "BsmtFinType2            0              38                2.6   \n",
       "BsmtFinType1            0              37                2.5   \n",
       "BsmtCond                0              37                2.5   \n",
       "BsmtQual                0              37                2.5   \n",
       "MasVnrArea            861               8                0.5   \n",
       "MasVnrType              0               8                0.5   \n",
       "Electrical              0               1                0.1   \n",
       "\n",
       "              Total Zero Missing Values  % Total Zero Missing Values Data Type  \n",
       "PoolQC                             1453                         99.5    object  \n",
       "MiscFeature                        1406                         96.3    object  \n",
       "Alley                              1369                         93.8    object  \n",
       "Fence                              1179                         80.8    object  \n",
       "FireplaceQu                         690                         47.3    object  \n",
       "LotFrontage                         259                         17.7   float64  \n",
       "GarageType                           81                          5.5    object  \n",
       "GarageYrBlt                          81                          5.5   float64  \n",
       "GarageFinish                         81                          5.5    object  \n",
       "GarageQual                           81                          5.5    object  \n",
       "GarageCond                           81                          5.5    object  \n",
       "BsmtExposure                         38                          2.6    object  \n",
       "BsmtFinType2                         38                          2.6    object  \n",
       "BsmtFinType1                         37                          2.5    object  \n",
       "BsmtCond                             37                          2.5    object  \n",
       "BsmtQual                             37                          2.5    object  \n",
       "MasVnrArea                          869                         59.5   float64  \n",
       "MasVnrType                            8                          0.5    object  \n",
       "Electrical                            1                          0.1    object  "
      ]
     },
     "execution_count": 3,
     "metadata": {},
     "output_type": "execute_result"
    }
   ],
   "source": [
    "# Summarize columns with missing values\n",
    "def missing_zero_values_table(df):\n",
    "        zero_val = (df == 0.00).astype(int).sum(axis = 0)\n",
    "        mis_val = df.isnull().sum()\n",
    "        mis_val_percent = 100 * mis_val / len(df)\n",
    "        mz_table = pd.concat([zero_val, mis_val, mis_val_percent], axis = 1)\n",
    "        mz_table = mz_table.rename(\n",
    "        columns = {0 : 'Zero Values', 1 : 'Missing Values', 2 : '% of Total Values'})\n",
    "        mz_table['Total Zero Missing Values'] = mz_table['Zero Values'] + mz_table['Missing Values']\n",
    "        mz_table['% Total Zero Missing Values'] = 100 * mz_table['Total Zero Missing Values'] / len(df)\n",
    "        mz_table['Data Type'] = df.dtypes\n",
    "        mz_table = mz_table[\n",
    "            mz_table.iloc[:,1] != 0].sort_values(\n",
    "        '% of Total Values', ascending = False).round(1)\n",
    "        print (\"There are \" + str(mz_table.shape[0]) + \" columns that have missing values.\")\n",
    "        return mz_table\n",
    "\n",
    "missing_zero_values_table(df)"
   ]
  },
  {
   "cell_type": "code",
   "execution_count": 4,
   "metadata": {},
   "outputs": [
    {
     "data": {
      "text/plain": [
       "(1460, 76)"
      ]
     },
     "execution_count": 4,
     "metadata": {},
     "output_type": "execute_result"
    }
   ],
   "source": [
    "# Drop columns containing less than 60% non-null values\n",
    "df.dropna(thresh = df.shape[0]*0.6, how = 'all', inplace = True, axis=1)\n",
    "df.shape"
   ]
  },
  {
   "cell_type": "code",
   "execution_count": 5,
   "metadata": {},
   "outputs": [
    {
     "name": "stdout",
     "output_type": "stream",
     "text": [
      "MasVnrArea_median value =  0.0\n"
     ]
    },
    {
     "data": {
      "image/png": "[encoded data removed]",
      "text/plain": [
       "<Figure size 288x144 with 1 Axes>"
      ]
     },
     "metadata": {
      "needs_background": "light"
     },
     "output_type": "display_data"
    }
   ],
   "source": [
    "# Check the value distribution in MasVnrArea, which has 861 zero values.  \n",
    "plt.figure(figsize=(4,2))\n",
    "df['MasVnrArea'].hist()\n",
    "print('MasVnrArea_median value = ', df['MasVnrArea'].median())"
   ]
  },
  {
   "cell_type": "code",
   "execution_count": 6,
   "metadata": {},
   "outputs": [
    {
     "name": "stdout",
     "output_type": "stream",
     "text": [
      "There are 13 columns that have missing values.\n"
     ]
    },
    {
     "data": {
      "text/html": [
       "<div>\n",
       "<style scoped>\n",
       "    .dataframe tbody tr th:only-of-type {\n",
       "        vertical-align: middle;\n",
       "    }\n",
       "\n",
       "    .dataframe tbody tr th {\n",
       "        vertical-align: top;\n",
       "    }\n",
       "\n",
       "    .dataframe thead th {\n",
       "        text-align: right;\n",
       "    }\n",
       "</style>\n",
       "<table border=\"1\" class=\"dataframe\">\n",
       "  <thead>\n",
       "    <tr style=\"text-align: right;\">\n",
       "      <th></th>\n",
       "      <th>Zero Values</th>\n",
       "      <th>Missing Values</th>\n",
       "      <th>% of Total Values</th>\n",
       "      <th>Total Zero Missing Values</th>\n",
       "      <th>% Total Zero Missing Values</th>\n",
       "      <th>Data Type</th>\n",
       "    </tr>\n",
       "  </thead>\n",
       "  <tbody>\n",
       "    <tr>\n",
       "      <th>LotFrontage</th>\n",
       "      <td>0</td>\n",
       "      <td>259</td>\n",
       "      <td>17.7</td>\n",
       "      <td>259</td>\n",
       "      <td>17.7</td>\n",
       "      <td>float64</td>\n",
       "    </tr>\n",
       "    <tr>\n",
       "      <th>GarageType</th>\n",
       "      <td>0</td>\n",
       "      <td>81</td>\n",
       "      <td>5.5</td>\n",
       "      <td>81</td>\n",
       "      <td>5.5</td>\n",
       "      <td>object</td>\n",
       "    </tr>\n",
       "    <tr>\n",
       "      <th>GarageYrBlt</th>\n",
       "      <td>0</td>\n",
       "      <td>81</td>\n",
       "      <td>5.5</td>\n",
       "      <td>81</td>\n",
       "      <td>5.5</td>\n",
       "      <td>float64</td>\n",
       "    </tr>\n",
       "    <tr>\n",
       "      <th>GarageFinish</th>\n",
       "      <td>0</td>\n",
       "      <td>81</td>\n",
       "      <td>5.5</td>\n",
       "      <td>81</td>\n",
       "      <td>5.5</td>\n",
       "      <td>object</td>\n",
       "    </tr>\n",
       "    <tr>\n",
       "      <th>GarageQual</th>\n",
       "      <td>0</td>\n",
       "      <td>81</td>\n",
       "      <td>5.5</td>\n",
       "      <td>81</td>\n",
       "      <td>5.5</td>\n",
       "      <td>object</td>\n",
       "    </tr>\n",
       "    <tr>\n",
       "      <th>GarageCond</th>\n",
       "      <td>0</td>\n",
       "      <td>81</td>\n",
       "      <td>5.5</td>\n",
       "      <td>81</td>\n",
       "      <td>5.5</td>\n",
       "      <td>object</td>\n",
       "    </tr>\n",
       "    <tr>\n",
       "      <th>BsmtExposure</th>\n",
       "      <td>0</td>\n",
       "      <td>38</td>\n",
       "      <td>2.6</td>\n",
       "      <td>38</td>\n",
       "      <td>2.6</td>\n",
       "      <td>object</td>\n",
       "    </tr>\n",
       "    <tr>\n",
       "      <th>BsmtFinType2</th>\n",
       "      <td>0</td>\n",
       "      <td>38</td>\n",
       "      <td>2.6</td>\n",
       "      <td>38</td>\n",
       "      <td>2.6</td>\n",
       "      <td>object</td>\n",
       "    </tr>\n",
       "    <tr>\n",
       "      <th>BsmtQual</th>\n",
       "      <td>0</td>\n",
       "      <td>37</td>\n",
       "      <td>2.5</td>\n",
       "      <td>37</td>\n",
       "      <td>2.5</td>\n",
       "      <td>object</td>\n",
       "    </tr>\n",
       "    <tr>\n",
       "      <th>BsmtCond</th>\n",
       "      <td>0</td>\n",
       "      <td>37</td>\n",
       "      <td>2.5</td>\n",
       "      <td>37</td>\n",
       "      <td>2.5</td>\n",
       "      <td>object</td>\n",
       "    </tr>\n",
       "    <tr>\n",
       "      <th>BsmtFinType1</th>\n",
       "      <td>0</td>\n",
       "      <td>37</td>\n",
       "      <td>2.5</td>\n",
       "      <td>37</td>\n",
       "      <td>2.5</td>\n",
       "      <td>object</td>\n",
       "    </tr>\n",
       "    <tr>\n",
       "      <th>MasVnrType</th>\n",
       "      <td>0</td>\n",
       "      <td>8</td>\n",
       "      <td>0.5</td>\n",
       "      <td>8</td>\n",
       "      <td>0.5</td>\n",
       "      <td>object</td>\n",
       "    </tr>\n",
       "    <tr>\n",
       "      <th>Electrical</th>\n",
       "      <td>0</td>\n",
       "      <td>1</td>\n",
       "      <td>0.1</td>\n",
       "      <td>1</td>\n",
       "      <td>0.1</td>\n",
       "      <td>object</td>\n",
       "    </tr>\n",
       "  </tbody>\n",
       "</table>\n",
       "</div>"
      ],
      "text/plain": [
       "              Zero Values  Missing Values  % of Total Values  \\\n",
       "LotFrontage             0             259               17.7   \n",
       "GarageType              0              81                5.5   \n",
       "GarageYrBlt             0              81                5.5   \n",
       "GarageFinish            0              81                5.5   \n",
       "GarageQual              0              81                5.5   \n",
       "GarageCond              0              81                5.5   \n",
       "BsmtExposure            0              38                2.6   \n",
       "BsmtFinType2            0              38                2.6   \n",
       "BsmtQual                0              37                2.5   \n",
       "BsmtCond                0              37                2.5   \n",
       "BsmtFinType1            0              37                2.5   \n",
       "MasVnrType              0               8                0.5   \n",
       "Electrical              0               1                0.1   \n",
       "\n",
       "              Total Zero Missing Values  % Total Zero Missing Values Data Type  \n",
       "LotFrontage                         259                         17.7   float64  \n",
       "GarageType                           81                          5.5    object  \n",
       "GarageYrBlt                          81                          5.5   float64  \n",
       "GarageFinish                         81                          5.5    object  \n",
       "GarageQual                           81                          5.5    object  \n",
       "GarageCond                           81                          5.5    object  \n",
       "BsmtExposure                         38                          2.6    object  \n",
       "BsmtFinType2                         38                          2.6    object  \n",
       "BsmtQual                             37                          2.5    object  \n",
       "BsmtCond                             37                          2.5    object  \n",
       "BsmtFinType1                         37                          2.5    object  \n",
       "MasVnrType                            8                          0.5    object  \n",
       "Electrical                            1                          0.1    object  "
      ]
     },
     "execution_count": 6,
     "metadata": {},
     "output_type": "execute_result"
    }
   ],
   "source": [
    "# Data in MasVnrArea column are largely zeros and unlikely to be useful.  Thus will be dropped.\n",
    "df.drop(['MasVnrArea'], axis = 1, inplace = True)\n",
    "missing_zero_values_table(df)"
   ]
  },
  {
   "cell_type": "code",
   "execution_count": 7,
   "metadata": {},
   "outputs": [
    {
     "data": {
      "text/html": [
       "<div>\n",
       "<style scoped>\n",
       "    .dataframe tbody tr th:only-of-type {\n",
       "        vertical-align: middle;\n",
       "    }\n",
       "\n",
       "    .dataframe tbody tr th {\n",
       "        vertical-align: top;\n",
       "    }\n",
       "\n",
       "    .dataframe thead th {\n",
       "        text-align: right;\n",
       "    }\n",
       "</style>\n",
       "<table border=\"1\" class=\"dataframe\">\n",
       "  <thead>\n",
       "    <tr style=\"text-align: right;\">\n",
       "      <th></th>\n",
       "      <th>Id</th>\n",
       "      <th>MSSubClass</th>\n",
       "      <th>LotFrontage</th>\n",
       "      <th>LotArea</th>\n",
       "      <th>OverallQual</th>\n",
       "      <th>OverallCond</th>\n",
       "      <th>YearBuilt</th>\n",
       "      <th>YearRemodAdd</th>\n",
       "      <th>BsmtFinSF1</th>\n",
       "      <th>BsmtFinSF2</th>\n",
       "      <th>...</th>\n",
       "      <th>WoodDeckSF</th>\n",
       "      <th>OpenPorchSF</th>\n",
       "      <th>EnclosedPorch</th>\n",
       "      <th>3SsnPorch</th>\n",
       "      <th>ScreenPorch</th>\n",
       "      <th>PoolArea</th>\n",
       "      <th>MiscVal</th>\n",
       "      <th>MoSold</th>\n",
       "      <th>YrSold</th>\n",
       "      <th>SalePrice</th>\n",
       "    </tr>\n",
       "  </thead>\n",
       "  <tbody>\n",
       "    <tr>\n",
       "      <th>count</th>\n",
       "      <td>1460.000000</td>\n",
       "      <td>1460.000000</td>\n",
       "      <td>1460.000000</td>\n",
       "      <td>1460.000000</td>\n",
       "      <td>1460.000000</td>\n",
       "      <td>1460.000000</td>\n",
       "      <td>1460.000000</td>\n",
       "      <td>1460.000000</td>\n",
       "      <td>1460.000000</td>\n",
       "      <td>1460.000000</td>\n",
       "      <td>...</td>\n",
       "      <td>1460.000000</td>\n",
       "      <td>1460.000000</td>\n",
       "      <td>1460.000000</td>\n",
       "      <td>1460.000000</td>\n",
       "      <td>1460.000000</td>\n",
       "      <td>1460.000000</td>\n",
       "      <td>1460.000000</td>\n",
       "      <td>1460.000000</td>\n",
       "      <td>1460.000000</td>\n",
       "      <td>1460.000000</td>\n",
       "    </tr>\n",
       "    <tr>\n",
       "      <th>mean</th>\n",
       "      <td>730.500000</td>\n",
       "      <td>56.897260</td>\n",
       "      <td>70.049958</td>\n",
       "      <td>10516.828082</td>\n",
       "      <td>6.099315</td>\n",
       "      <td>5.575342</td>\n",
       "      <td>1971.267808</td>\n",
       "      <td>1984.865753</td>\n",
       "      <td>443.639726</td>\n",
       "      <td>46.549315</td>\n",
       "      <td>...</td>\n",
       "      <td>94.244521</td>\n",
       "      <td>46.660274</td>\n",
       "      <td>21.954110</td>\n",
       "      <td>3.409589</td>\n",
       "      <td>15.060959</td>\n",
       "      <td>2.758904</td>\n",
       "      <td>43.489041</td>\n",
       "      <td>6.321918</td>\n",
       "      <td>2007.815753</td>\n",
       "      <td>180921.195890</td>\n",
       "    </tr>\n",
       "    <tr>\n",
       "      <th>std</th>\n",
       "      <td>421.610009</td>\n",
       "      <td>42.300571</td>\n",
       "      <td>22.024023</td>\n",
       "      <td>9981.264932</td>\n",
       "      <td>1.382997</td>\n",
       "      <td>1.112799</td>\n",
       "      <td>30.202904</td>\n",
       "      <td>20.645407</td>\n",
       "      <td>456.098091</td>\n",
       "      <td>161.319273</td>\n",
       "      <td>...</td>\n",
       "      <td>125.338794</td>\n",
       "      <td>66.256028</td>\n",
       "      <td>61.119149</td>\n",
       "      <td>29.317331</td>\n",
       "      <td>55.757415</td>\n",
       "      <td>40.177307</td>\n",
       "      <td>496.123024</td>\n",
       "      <td>2.703626</td>\n",
       "      <td>1.328095</td>\n",
       "      <td>79442.502883</td>\n",
       "    </tr>\n",
       "    <tr>\n",
       "      <th>min</th>\n",
       "      <td>1.000000</td>\n",
       "      <td>20.000000</td>\n",
       "      <td>21.000000</td>\n",
       "      <td>1300.000000</td>\n",
       "      <td>1.000000</td>\n",
       "      <td>1.000000</td>\n",
       "      <td>1872.000000</td>\n",
       "      <td>1950.000000</td>\n",
       "      <td>0.000000</td>\n",
       "      <td>0.000000</td>\n",
       "      <td>...</td>\n",
       "      <td>0.000000</td>\n",
       "      <td>0.000000</td>\n",
       "      <td>0.000000</td>\n",
       "      <td>0.000000</td>\n",
       "      <td>0.000000</td>\n",
       "      <td>0.000000</td>\n",
       "      <td>0.000000</td>\n",
       "      <td>1.000000</td>\n",
       "      <td>2006.000000</td>\n",
       "      <td>34900.000000</td>\n",
       "    </tr>\n",
       "    <tr>\n",
       "      <th>25%</th>\n",
       "      <td>365.750000</td>\n",
       "      <td>20.000000</td>\n",
       "      <td>60.000000</td>\n",
       "      <td>7553.500000</td>\n",
       "      <td>5.000000</td>\n",
       "      <td>5.000000</td>\n",
       "      <td>1954.000000</td>\n",
       "      <td>1967.000000</td>\n",
       "      <td>0.000000</td>\n",
       "      <td>0.000000</td>\n",
       "      <td>...</td>\n",
       "      <td>0.000000</td>\n",
       "      <td>0.000000</td>\n",
       "      <td>0.000000</td>\n",
       "      <td>0.000000</td>\n",
       "      <td>0.000000</td>\n",
       "      <td>0.000000</td>\n",
       "      <td>0.000000</td>\n",
       "      <td>5.000000</td>\n",
       "      <td>2007.000000</td>\n",
       "      <td>129975.000000</td>\n",
       "    </tr>\n",
       "    <tr>\n",
       "      <th>50%</th>\n",
       "      <td>730.500000</td>\n",
       "      <td>50.000000</td>\n",
       "      <td>70.049958</td>\n",
       "      <td>9478.500000</td>\n",
       "      <td>6.000000</td>\n",
       "      <td>5.000000</td>\n",
       "      <td>1973.000000</td>\n",
       "      <td>1994.000000</td>\n",
       "      <td>383.500000</td>\n",
       "      <td>0.000000</td>\n",
       "      <td>...</td>\n",
       "      <td>0.000000</td>\n",
       "      <td>25.000000</td>\n",
       "      <td>0.000000</td>\n",
       "      <td>0.000000</td>\n",
       "      <td>0.000000</td>\n",
       "      <td>0.000000</td>\n",
       "      <td>0.000000</td>\n",
       "      <td>6.000000</td>\n",
       "      <td>2008.000000</td>\n",
       "      <td>163000.000000</td>\n",
       "    </tr>\n",
       "    <tr>\n",
       "      <th>75%</th>\n",
       "      <td>1095.250000</td>\n",
       "      <td>70.000000</td>\n",
       "      <td>79.000000</td>\n",
       "      <td>11601.500000</td>\n",
       "      <td>7.000000</td>\n",
       "      <td>6.000000</td>\n",
       "      <td>2000.000000</td>\n",
       "      <td>2004.000000</td>\n",
       "      <td>712.250000</td>\n",
       "      <td>0.000000</td>\n",
       "      <td>...</td>\n",
       "      <td>168.000000</td>\n",
       "      <td>68.000000</td>\n",
       "      <td>0.000000</td>\n",
       "      <td>0.000000</td>\n",
       "      <td>0.000000</td>\n",
       "      <td>0.000000</td>\n",
       "      <td>0.000000</td>\n",
       "      <td>8.000000</td>\n",
       "      <td>2009.000000</td>\n",
       "      <td>214000.000000</td>\n",
       "    </tr>\n",
       "    <tr>\n",
       "      <th>max</th>\n",
       "      <td>1460.000000</td>\n",
       "      <td>190.000000</td>\n",
       "      <td>313.000000</td>\n",
       "      <td>215245.000000</td>\n",
       "      <td>10.000000</td>\n",
       "      <td>9.000000</td>\n",
       "      <td>2010.000000</td>\n",
       "      <td>2010.000000</td>\n",
       "      <td>5644.000000</td>\n",
       "      <td>1474.000000</td>\n",
       "      <td>...</td>\n",
       "      <td>857.000000</td>\n",
       "      <td>547.000000</td>\n",
       "      <td>552.000000</td>\n",
       "      <td>508.000000</td>\n",
       "      <td>480.000000</td>\n",
       "      <td>738.000000</td>\n",
       "      <td>15500.000000</td>\n",
       "      <td>12.000000</td>\n",
       "      <td>2010.000000</td>\n",
       "      <td>755000.000000</td>\n",
       "    </tr>\n",
       "  </tbody>\n",
       "</table>\n",
       "<p>8 rows × 37 columns</p>\n",
       "</div>"
      ],
      "text/plain": [
       "                Id   MSSubClass  LotFrontage        LotArea  OverallQual  \\\n",
       "count  1460.000000  1460.000000  1460.000000    1460.000000  1460.000000   \n",
       "mean    730.500000    56.897260    70.049958   10516.828082     6.099315   \n",
       "std     421.610009    42.300571    22.024023    9981.264932     1.382997   \n",
       "min       1.000000    20.000000    21.000000    1300.000000     1.000000   \n",
       "25%     365.750000    20.000000    60.000000    7553.500000     5.000000   \n",
       "50%     730.500000    50.000000    70.049958    9478.500000     6.000000   \n",
       "75%    1095.250000    70.000000    79.000000   11601.500000     7.000000   \n",
       "max    1460.000000   190.000000   313.000000  215245.000000    10.000000   \n",
       "\n",
       "       OverallCond    YearBuilt  YearRemodAdd   BsmtFinSF1   BsmtFinSF2  ...  \\\n",
       "count  1460.000000  1460.000000   1460.000000  1460.000000  1460.000000  ...   \n",
       "mean      5.575342  1971.267808   1984.865753   443.639726    46.549315  ...   \n",
       "std       1.112799    30.202904     20.645407   456.098091   161.319273  ...   \n",
       "min       1.000000  1872.000000   1950.000000     0.000000     0.000000  ...   \n",
       "25%       5.000000  1954.000000   1967.000000     0.000000     0.000000  ...   \n",
       "50%       5.000000  1973.000000   1994.000000   383.500000     0.000000  ...   \n",
       "75%       6.000000  2000.000000   2004.000000   712.250000     0.000000  ...   \n",
       "max       9.000000  2010.000000   2010.000000  5644.000000  1474.000000  ...   \n",
       "\n",
       "        WoodDeckSF  OpenPorchSF  EnclosedPorch    3SsnPorch  ScreenPorch  \\\n",
       "count  1460.000000  1460.000000    1460.000000  1460.000000  1460.000000   \n",
       "mean     94.244521    46.660274      21.954110     3.409589    15.060959   \n",
       "std     125.338794    66.256028      61.119149    29.317331    55.757415   \n",
       "min       0.000000     0.000000       0.000000     0.000000     0.000000   \n",
       "25%       0.000000     0.000000       0.000000     0.000000     0.000000   \n",
       "50%       0.000000    25.000000       0.000000     0.000000     0.000000   \n",
       "75%     168.000000    68.000000       0.000000     0.000000     0.000000   \n",
       "max     857.000000   547.000000     552.000000   508.000000   480.000000   \n",
       "\n",
       "          PoolArea       MiscVal       MoSold       YrSold      SalePrice  \n",
       "count  1460.000000   1460.000000  1460.000000  1460.000000    1460.000000  \n",
       "mean      2.758904     43.489041     6.321918  2007.815753  180921.195890  \n",
       "std      40.177307    496.123024     2.703626     1.328095   79442.502883  \n",
       "min       0.000000      0.000000     1.000000  2006.000000   34900.000000  \n",
       "25%       0.000000      0.000000     5.000000  2007.000000  129975.000000  \n",
       "50%       0.000000      0.000000     6.000000  2008.000000  163000.000000  \n",
       "75%       0.000000      0.000000     8.000000  2009.000000  214000.000000  \n",
       "max     738.000000  15500.000000    12.000000  2010.000000  755000.000000  \n",
       "\n",
       "[8 rows x 37 columns]"
      ]
     },
     "execution_count": 7,
     "metadata": {},
     "output_type": "execute_result"
    }
   ],
   "source": [
    "# Fill null values in LotFrontage column with the average value\n",
    "df['LotFrontage'].fillna((df['LotFrontage'].mean()), inplace = True)\n",
    "df.describe()"
   ]
  },
  {
   "cell_type": "markdown",
   "metadata": {},
   "source": [
    "The LotFrontage column has the most null value after dropping columns with more than 60% null values. Replacing NA values with the average did not change the mean for the column, thus it is a reasonable approach to preserve the column for later analysis."
   ]
  },
  {
   "cell_type": "code",
   "execution_count": 8,
   "metadata": {},
   "outputs": [
    {
     "data": {
      "text/plain": [
       "<matplotlib.axes._subplots.AxesSubplot at 0x1fcfd95c048>"
      ]
     },
     "execution_count": 8,
     "metadata": {},
     "output_type": "execute_result"
    },
    {
     "data": {
      "image/png": "[encoded data removed]",
      "text/plain": [
       "<Figure size 720x504 with 2 Axes>"
      ]
     },
     "metadata": {
      "needs_background": "light"
     },
     "output_type": "display_data"
    }
   ],
   "source": [
    "# Check correlations among columns\n",
    "corr = df.corr()\n",
    "\n",
    "# Plot heatmap for corr\n",
    "import seaborn as sns\n",
    "plt.figure(figsize = (10, 7))\n",
    "sns.heatmap(corr)"
   ]
  },
  {
   "cell_type": "markdown",
   "metadata": {},
   "source": [
    "Based on the heatmap, one can see that some fields correlate more with SalePrice than others.  \n",
    "Examining the top 20 below"
   ]
  },
  {
   "cell_type": "code",
   "execution_count": 9,
   "metadata": {},
   "outputs": [
    {
     "data": {
      "text/plain": [
       "SalePrice       1.000000\n",
       "OverallQual     0.790982\n",
       "GrLivArea       0.708624\n",
       "GarageCars      0.640409\n",
       "GarageArea      0.623431\n",
       "TotalBsmtSF     0.613581\n",
       "1stFlrSF        0.605852\n",
       "FullBath        0.560664\n",
       "TotRmsAbvGrd    0.533723\n",
       "YearBuilt       0.522897\n",
       "YearRemodAdd    0.507101\n",
       "GarageYrBlt     0.486362\n",
       "Fireplaces      0.466929\n",
       "BsmtFinSF1      0.386420\n",
       "LotFrontage     0.334901\n",
       "WoodDeckSF      0.324413\n",
       "2ndFlrSF        0.319334\n",
       "OpenPorchSF     0.315856\n",
       "HalfBath        0.284108\n",
       "LotArea         0.263843\n",
       "Name: SalePrice, dtype: float64"
      ]
     },
     "execution_count": 9,
     "metadata": {},
     "output_type": "execute_result"
    }
   ],
   "source": [
    "corr['SalePrice'].abs().sort_values(ascending = False).head(20)"
   ]
  },
  {
   "cell_type": "markdown",
   "metadata": {},
   "source": [
    "Based on the above analysis, OverallQual column has the highest correlation coefficient (0.79) in relation to the SalePrice and it should be considered as the one best describes the SalesPrice field."
   ]
  },
  {
   "cell_type": "code",
   "execution_count": 10,
   "metadata": {},
   "outputs": [
    {
     "data": {
      "text/plain": [
       "GarageCars    GarageArea      0.882475\n",
       "GarageArea    GarageCars      0.882475\n",
       "YearBuilt     GarageYrBlt     0.825667\n",
       "GarageYrBlt   YearBuilt       0.825667\n",
       "TotRmsAbvGrd  GrLivArea       0.825489\n",
       "GrLivArea     TotRmsAbvGrd    0.825489\n",
       "TotalBsmtSF   1stFlrSF        0.819530\n",
       "1stFlrSF      TotalBsmtSF     0.819530\n",
       "OverallQual   SalePrice       0.790982\n",
       "SalePrice     OverallQual     0.790982\n",
       "GrLivArea     SalePrice       0.708624\n",
       "SalePrice     GrLivArea       0.708624\n",
       "2ndFlrSF      GrLivArea       0.687501\n",
       "GrLivArea     2ndFlrSF        0.687501\n",
       "TotRmsAbvGrd  BedroomAbvGr    0.676620\n",
       "BedroomAbvGr  TotRmsAbvGrd    0.676620\n",
       "BsmtFullBath  BsmtFinSF1      0.649212\n",
       "BsmtFinSF1    BsmtFullBath    0.649212\n",
       "GarageYrBlt   YearRemodAdd    0.642277\n",
       "YearRemodAdd  GarageYrBlt     0.642277\n",
       "SalePrice     GarageCars      0.640409\n",
       "GarageCars    SalePrice       0.640409\n",
       "FullBath      GrLivArea       0.630012\n",
       "GrLivArea     FullBath        0.630012\n",
       "GarageArea    SalePrice       0.623431\n",
       "SalePrice     GarageArea      0.623431\n",
       "TotRmsAbvGrd  2ndFlrSF        0.616423\n",
       "2ndFlrSF      TotRmsAbvGrd    0.616423\n",
       "SalePrice     TotalBsmtSF     0.613581\n",
       "TotalBsmtSF   SalePrice       0.613581\n",
       "2ndFlrSF      HalfBath        0.609707\n",
       "HalfBath      2ndFlrSF        0.609707\n",
       "SalePrice     1stFlrSF        0.605852\n",
       "1stFlrSF      SalePrice       0.605852\n",
       "GarageCars    OverallQual     0.600671\n",
       "OverallQual   GarageCars      0.600671\n",
       "GrLivArea     OverallQual     0.593007\n",
       "OverallQual   GrLivArea       0.593007\n",
       "YearRemodAdd  YearBuilt       0.592855\n",
       "YearBuilt     YearRemodAdd    0.592855\n",
       "dtype: float64"
      ]
     },
     "execution_count": 10,
     "metadata": {},
     "output_type": "execute_result"
    }
   ],
   "source": [
    "# Find highly correlated columns\n",
    "s = corr.unstack()\n",
    "so = s.sort_values(ascending = False)\n",
    "so[so!=1].head(40)"
   ]
  },
  {
   "cell_type": "markdown",
   "metadata": {},
   "source": [
    "Based on the values and description of the data, the first eight pairs are likely duplicate data. For example,\n",
    "   GarageCars indicates the \"Size of garage in car capacity\" while GarageArea indicates the \"Size of garage in square   feet\", they are just different ways to measure the size of the garage.  \n",
    "   The same is likely holds true for YearBuilt&GarageYrBlt, TotalBsmtSF&1stFlrSF, TotRmsAbvGrd&GrLivArea.  \n",
    "   Continue down the list, 2ndFlrSF, BedroomAbvGr, BsmtFinSF1 are also likely to have similar information as their pairs.\n",
    "   Based on this analysis, these columns will be dropped: ['GarageCars','GarageYrBlt','TotalBsmtSF','TotRmsAbvGrd',2ndFlrSF, BedroomAbvGr, BsmtFinSF1]. "
   ]
  },
  {
   "cell_type": "code",
   "execution_count": 11,
   "metadata": {},
   "outputs": [],
   "source": [
    "df = df.drop(['GarageCars','GarageYrBlt','TotalBsmtSF','TotRmsAbvGrd','2ndFlrSF', 'BedroomAbvGr', 'BsmtFinSF1'], axis = 1)"
   ]
  },
  {
   "cell_type": "code",
   "execution_count": 12,
   "metadata": {},
   "outputs": [
    {
     "name": "stdout",
     "output_type": "stream",
     "text": [
      "There are 11 columns that have missing values.\n"
     ]
    },
    {
     "data": {
      "text/html": [
       "<div>\n",
       "<style scoped>\n",
       "    .dataframe tbody tr th:only-of-type {\n",
       "        vertical-align: middle;\n",
       "    }\n",
       "\n",
       "    .dataframe tbody tr th {\n",
       "        vertical-align: top;\n",
       "    }\n",
       "\n",
       "    .dataframe thead th {\n",
       "        text-align: right;\n",
       "    }\n",
       "</style>\n",
       "<table border=\"1\" class=\"dataframe\">\n",
       "  <thead>\n",
       "    <tr style=\"text-align: right;\">\n",
       "      <th></th>\n",
       "      <th>Zero Values</th>\n",
       "      <th>Missing Values</th>\n",
       "      <th>% of Total Values</th>\n",
       "      <th>Total Zero Missing Values</th>\n",
       "      <th>% Total Zero Missing Values</th>\n",
       "      <th>Data Type</th>\n",
       "    </tr>\n",
       "  </thead>\n",
       "  <tbody>\n",
       "    <tr>\n",
       "      <th>GarageType</th>\n",
       "      <td>0</td>\n",
       "      <td>81</td>\n",
       "      <td>5.5</td>\n",
       "      <td>81</td>\n",
       "      <td>5.5</td>\n",
       "      <td>object</td>\n",
       "    </tr>\n",
       "    <tr>\n",
       "      <th>GarageFinish</th>\n",
       "      <td>0</td>\n",
       "      <td>81</td>\n",
       "      <td>5.5</td>\n",
       "      <td>81</td>\n",
       "      <td>5.5</td>\n",
       "      <td>object</td>\n",
       "    </tr>\n",
       "    <tr>\n",
       "      <th>GarageQual</th>\n",
       "      <td>0</td>\n",
       "      <td>81</td>\n",
       "      <td>5.5</td>\n",
       "      <td>81</td>\n",
       "      <td>5.5</td>\n",
       "      <td>object</td>\n",
       "    </tr>\n",
       "    <tr>\n",
       "      <th>GarageCond</th>\n",
       "      <td>0</td>\n",
       "      <td>81</td>\n",
       "      <td>5.5</td>\n",
       "      <td>81</td>\n",
       "      <td>5.5</td>\n",
       "      <td>object</td>\n",
       "    </tr>\n",
       "    <tr>\n",
       "      <th>BsmtExposure</th>\n",
       "      <td>0</td>\n",
       "      <td>38</td>\n",
       "      <td>2.6</td>\n",
       "      <td>38</td>\n",
       "      <td>2.6</td>\n",
       "      <td>object</td>\n",
       "    </tr>\n",
       "    <tr>\n",
       "      <th>BsmtFinType2</th>\n",
       "      <td>0</td>\n",
       "      <td>38</td>\n",
       "      <td>2.6</td>\n",
       "      <td>38</td>\n",
       "      <td>2.6</td>\n",
       "      <td>object</td>\n",
       "    </tr>\n",
       "    <tr>\n",
       "      <th>BsmtQual</th>\n",
       "      <td>0</td>\n",
       "      <td>37</td>\n",
       "      <td>2.5</td>\n",
       "      <td>37</td>\n",
       "      <td>2.5</td>\n",
       "      <td>object</td>\n",
       "    </tr>\n",
       "    <tr>\n",
       "      <th>BsmtCond</th>\n",
       "      <td>0</td>\n",
       "      <td>37</td>\n",
       "      <td>2.5</td>\n",
       "      <td>37</td>\n",
       "      <td>2.5</td>\n",
       "      <td>object</td>\n",
       "    </tr>\n",
       "    <tr>\n",
       "      <th>BsmtFinType1</th>\n",
       "      <td>0</td>\n",
       "      <td>37</td>\n",
       "      <td>2.5</td>\n",
       "      <td>37</td>\n",
       "      <td>2.5</td>\n",
       "      <td>object</td>\n",
       "    </tr>\n",
       "    <tr>\n",
       "      <th>MasVnrType</th>\n",
       "      <td>0</td>\n",
       "      <td>8</td>\n",
       "      <td>0.5</td>\n",
       "      <td>8</td>\n",
       "      <td>0.5</td>\n",
       "      <td>object</td>\n",
       "    </tr>\n",
       "    <tr>\n",
       "      <th>Electrical</th>\n",
       "      <td>0</td>\n",
       "      <td>1</td>\n",
       "      <td>0.1</td>\n",
       "      <td>1</td>\n",
       "      <td>0.1</td>\n",
       "      <td>object</td>\n",
       "    </tr>\n",
       "  </tbody>\n",
       "</table>\n",
       "</div>"
      ],
      "text/plain": [
       "              Zero Values  Missing Values  % of Total Values  \\\n",
       "GarageType              0              81                5.5   \n",
       "GarageFinish            0              81                5.5   \n",
       "GarageQual              0              81                5.5   \n",
       "GarageCond              0              81                5.5   \n",
       "BsmtExposure            0              38                2.6   \n",
       "BsmtFinType2            0              38                2.6   \n",
       "BsmtQual                0              37                2.5   \n",
       "BsmtCond                0              37                2.5   \n",
       "BsmtFinType1            0              37                2.5   \n",
       "MasVnrType              0               8                0.5   \n",
       "Electrical              0               1                0.1   \n",
       "\n",
       "              Total Zero Missing Values  % Total Zero Missing Values Data Type  \n",
       "GarageType                           81                          5.5    object  \n",
       "GarageFinish                         81                          5.5    object  \n",
       "GarageQual                           81                          5.5    object  \n",
       "GarageCond                           81                          5.5    object  \n",
       "BsmtExposure                         38                          2.6    object  \n",
       "BsmtFinType2                         38                          2.6    object  \n",
       "BsmtQual                             37                          2.5    object  \n",
       "BsmtCond                             37                          2.5    object  \n",
       "BsmtFinType1                         37                          2.5    object  \n",
       "MasVnrType                            8                          0.5    object  \n",
       "Electrical                            1                          0.1    object  "
      ]
     },
     "execution_count": 12,
     "metadata": {},
     "output_type": "execute_result"
    }
   ],
   "source": [
    "# Check for missing values again\n",
    "missing_zero_values_table(df)"
   ]
  },
  {
   "cell_type": "markdown",
   "metadata": {},
   "source": [
    "Among the four columns related to Garage that still have missing values, \"GarageType\" refers to the Garage \n",
    "location, \"GarageFinish\" refers to the Interior finish of the garage, \"GarageQual\" refers to Garage quality,\n",
    "\"GarageCond\" refers to Garage condition.  I concluded that \"GarageCond\" should be a sufficient parameter to evalute \n",
    "the garage condition. "
   ]
  },
  {
   "cell_type": "code",
   "execution_count": 13,
   "metadata": {},
   "outputs": [],
   "source": [
    "df = df.drop(['GarageType', 'GarageFinish', 'GarageQual'], axis = 1)"
   ]
  },
  {
   "cell_type": "markdown",
   "metadata": {},
   "source": [
    "Among the five columns related to basement that still have missing values, \"BsmtExposure\" refers to walkout or \n",
    "garden level walls, \"BsmtFinType2\" is the rating of basement finished area (if multiple types), \"BsmtQual\" \n",
    "evaluates the height of the basement, \"BsmtCond\" evaluates the general condition of the basement, \n",
    "\"BsmtFinType1\" is the rating of basement finished area.  I concluded that \"BsmtCond\" should be a sufficient \n",
    "parameter to evalute the basement condition."
   ]
  },
  {
   "cell_type": "code",
   "execution_count": 14,
   "metadata": {},
   "outputs": [],
   "source": [
    "df = df.drop(['BsmtExposure', 'BsmtFinType2', 'BsmtQual', 'BsmtFinType1'], axis = 1)"
   ]
  },
  {
   "cell_type": "code",
   "execution_count": 15,
   "metadata": {},
   "outputs": [
    {
     "name": "stdout",
     "output_type": "stream",
     "text": [
      "There are 4 columns that have missing values.\n"
     ]
    },
    {
     "data": {
      "text/html": [
       "<div>\n",
       "<style scoped>\n",
       "    .dataframe tbody tr th:only-of-type {\n",
       "        vertical-align: middle;\n",
       "    }\n",
       "\n",
       "    .dataframe tbody tr th {\n",
       "        vertical-align: top;\n",
       "    }\n",
       "\n",
       "    .dataframe thead th {\n",
       "        text-align: right;\n",
       "    }\n",
       "</style>\n",
       "<table border=\"1\" class=\"dataframe\">\n",
       "  <thead>\n",
       "    <tr style=\"text-align: right;\">\n",
       "      <th></th>\n",
       "      <th>Zero Values</th>\n",
       "      <th>Missing Values</th>\n",
       "      <th>% of Total Values</th>\n",
       "      <th>Total Zero Missing Values</th>\n",
       "      <th>% Total Zero Missing Values</th>\n",
       "      <th>Data Type</th>\n",
       "    </tr>\n",
       "  </thead>\n",
       "  <tbody>\n",
       "    <tr>\n",
       "      <th>GarageCond</th>\n",
       "      <td>0</td>\n",
       "      <td>81</td>\n",
       "      <td>5.5</td>\n",
       "      <td>81</td>\n",
       "      <td>5.5</td>\n",
       "      <td>object</td>\n",
       "    </tr>\n",
       "    <tr>\n",
       "      <th>BsmtCond</th>\n",
       "      <td>0</td>\n",
       "      <td>37</td>\n",
       "      <td>2.5</td>\n",
       "      <td>37</td>\n",
       "      <td>2.5</td>\n",
       "      <td>object</td>\n",
       "    </tr>\n",
       "    <tr>\n",
       "      <th>MasVnrType</th>\n",
       "      <td>0</td>\n",
       "      <td>8</td>\n",
       "      <td>0.5</td>\n",
       "      <td>8</td>\n",
       "      <td>0.5</td>\n",
       "      <td>object</td>\n",
       "    </tr>\n",
       "    <tr>\n",
       "      <th>Electrical</th>\n",
       "      <td>0</td>\n",
       "      <td>1</td>\n",
       "      <td>0.1</td>\n",
       "      <td>1</td>\n",
       "      <td>0.1</td>\n",
       "      <td>object</td>\n",
       "    </tr>\n",
       "  </tbody>\n",
       "</table>\n",
       "</div>"
      ],
      "text/plain": [
       "            Zero Values  Missing Values  % of Total Values  \\\n",
       "GarageCond            0              81                5.5   \n",
       "BsmtCond              0              37                2.5   \n",
       "MasVnrType            0               8                0.5   \n",
       "Electrical            0               1                0.1   \n",
       "\n",
       "            Total Zero Missing Values  % Total Zero Missing Values Data Type  \n",
       "GarageCond                         81                          5.5    object  \n",
       "BsmtCond                           37                          2.5    object  \n",
       "MasVnrType                          8                          0.5    object  \n",
       "Electrical                          1                          0.1    object  "
      ]
     },
     "execution_count": 15,
     "metadata": {},
     "output_type": "execute_result"
    }
   ],
   "source": [
    "# Check for missing values again\n",
    "missing_zero_values_table(df)"
   ]
  },
  {
   "cell_type": "markdown",
   "metadata": {},
   "source": [
    "Since the total missing values now only comprised of less than 10% of the total data, I decided to preserve the features and drop the rows containing missing values."
   ]
  },
  {
   "cell_type": "code",
   "execution_count": 16,
   "metadata": {},
   "outputs": [
    {
     "name": "stdout",
     "output_type": "stream",
     "text": [
      "There are 0 columns that have missing values.\n"
     ]
    },
    {
     "data": {
      "text/html": [
       "<div>\n",
       "<style scoped>\n",
       "    .dataframe tbody tr th:only-of-type {\n",
       "        vertical-align: middle;\n",
       "    }\n",
       "\n",
       "    .dataframe tbody tr th {\n",
       "        vertical-align: top;\n",
       "    }\n",
       "\n",
       "    .dataframe thead th {\n",
       "        text-align: right;\n",
       "    }\n",
       "</style>\n",
       "<table border=\"1\" class=\"dataframe\">\n",
       "  <thead>\n",
       "    <tr style=\"text-align: right;\">\n",
       "      <th></th>\n",
       "      <th>Zero Values</th>\n",
       "      <th>Missing Values</th>\n",
       "      <th>% of Total Values</th>\n",
       "      <th>Total Zero Missing Values</th>\n",
       "      <th>% Total Zero Missing Values</th>\n",
       "      <th>Data Type</th>\n",
       "    </tr>\n",
       "  </thead>\n",
       "  <tbody>\n",
       "  </tbody>\n",
       "</table>\n",
       "</div>"
      ],
      "text/plain": [
       "Empty DataFrame\n",
       "Columns: [Zero Values, Missing Values, % of Total Values, Total Zero Missing Values, % Total Zero Missing Values, Data Type]\n",
       "Index: []"
      ]
     },
     "execution_count": 16,
     "metadata": {},
     "output_type": "execute_result"
    }
   ],
   "source": [
    "df.dropna(inplace = True)\n",
    "\n",
    "# Check for missing values again\n",
    "missing_zero_values_table(df)"
   ]
  },
  {
   "cell_type": "code",
   "execution_count": 17,
   "metadata": {},
   "outputs": [
    {
     "data": {
      "text/plain": [
       "(1340, 61)"
      ]
     },
     "execution_count": 17,
     "metadata": {},
     "output_type": "execute_result"
    }
   ],
   "source": [
    "df.shape"
   ]
  },
  {
   "cell_type": "code",
   "execution_count": 18,
   "metadata": {},
   "outputs": [
    {
     "name": "stdout",
     "output_type": "stream",
     "text": [
      "<class 'pandas.core.frame.DataFrame'>\n",
      "Int64Index: 1340 entries, 0 to 1459\n",
      "Data columns (total 61 columns):\n",
      " #   Column         Non-Null Count  Dtype  \n",
      "---  ------         --------------  -----  \n",
      " 0   Id             1340 non-null   int64  \n",
      " 1   MSSubClass     1340 non-null   int64  \n",
      " 2   MSZoning       1340 non-null   object \n",
      " 3   LotFrontage    1340 non-null   float64\n",
      " 4   LotArea        1340 non-null   int64  \n",
      " 5   Street         1340 non-null   object \n",
      " 6   LotShape       1340 non-null   object \n",
      " 7   LandContour    1340 non-null   object \n",
      " 8   Utilities      1340 non-null   object \n",
      " 9   LotConfig      1340 non-null   object \n",
      " 10  LandSlope      1340 non-null   object \n",
      " 11  Neighborhood   1340 non-null   object \n",
      " 12  Condition1     1340 non-null   object \n",
      " 13  Condition2     1340 non-null   object \n",
      " 14  BldgType       1340 non-null   object \n",
      " 15  HouseStyle     1340 non-null   object \n",
      " 16  OverallQual    1340 non-null   int64  \n",
      " 17  OverallCond    1340 non-null   int64  \n",
      " 18  YearBuilt      1340 non-null   int64  \n",
      " 19  YearRemodAdd   1340 non-null   int64  \n",
      " 20  RoofStyle      1340 non-null   object \n",
      " 21  RoofMatl       1340 non-null   object \n",
      " 22  Exterior1st    1340 non-null   object \n",
      " 23  Exterior2nd    1340 non-null   object \n",
      " 24  MasVnrType     1340 non-null   object \n",
      " 25  ExterQual      1340 non-null   object \n",
      " 26  ExterCond      1340 non-null   object \n",
      " 27  Foundation     1340 non-null   object \n",
      " 28  BsmtCond       1340 non-null   object \n",
      " 29  BsmtFinSF2     1340 non-null   int64  \n",
      " 30  BsmtUnfSF      1340 non-null   int64  \n",
      " 31  Heating        1340 non-null   object \n",
      " 32  HeatingQC      1340 non-null   object \n",
      " 33  CentralAir     1340 non-null   object \n",
      " 34  Electrical     1340 non-null   object \n",
      " 35  1stFlrSF       1340 non-null   int64  \n",
      " 36  LowQualFinSF   1340 non-null   int64  \n",
      " 37  GrLivArea      1340 non-null   int64  \n",
      " 38  BsmtFullBath   1340 non-null   int64  \n",
      " 39  BsmtHalfBath   1340 non-null   int64  \n",
      " 40  FullBath       1340 non-null   int64  \n",
      " 41  HalfBath       1340 non-null   int64  \n",
      " 42  KitchenAbvGr   1340 non-null   int64  \n",
      " 43  KitchenQual    1340 non-null   object \n",
      " 44  Functional     1340 non-null   object \n",
      " 45  Fireplaces     1340 non-null   int64  \n",
      " 46  GarageArea     1340 non-null   int64  \n",
      " 47  GarageCond     1340 non-null   object \n",
      " 48  PavedDrive     1340 non-null   object \n",
      " 49  WoodDeckSF     1340 non-null   int64  \n",
      " 50  OpenPorchSF    1340 non-null   int64  \n",
      " 51  EnclosedPorch  1340 non-null   int64  \n",
      " 52  3SsnPorch      1340 non-null   int64  \n",
      " 53  ScreenPorch    1340 non-null   int64  \n",
      " 54  PoolArea       1340 non-null   int64  \n",
      " 55  MiscVal        1340 non-null   int64  \n",
      " 56  MoSold         1340 non-null   int64  \n",
      " 57  YrSold         1340 non-null   int64  \n",
      " 58  SaleType       1340 non-null   object \n",
      " 59  SaleCondition  1340 non-null   object \n",
      " 60  SalePrice      1340 non-null   int64  \n",
      "dtypes: float64(1), int64(29), object(31)\n",
      "memory usage: 649.1+ KB\n"
     ]
    }
   ],
   "source": [
    "df.info()"
   ]
  },
  {
   "cell_type": "code",
   "execution_count": 19,
   "metadata": {},
   "outputs": [
    {
     "data": {
      "text/plain": [
       "0"
      ]
     },
     "execution_count": 19,
     "metadata": {},
     "output_type": "execute_result"
    }
   ],
   "source": [
    "# check the total number of missing values in the DataFrame again\n",
    "df.isnull().values.sum()"
   ]
  },
  {
   "cell_type": "markdown",
   "metadata": {},
   "source": [
    "### Make a copy of df"
   ]
  },
  {
   "cell_type": "code",
   "execution_count": 20,
   "metadata": {},
   "outputs": [],
   "source": [
    "backdf = df.copy()"
   ]
  },
  {
   "cell_type": "markdown",
   "metadata": {},
   "source": [
    "I decided to hand pick potential useful features and exclude features that may contain reducant information based on the data description.  I will also exclude features that are not likely to be important for home buyers based on my own intuiation."
   ]
  },
  {
   "cell_type": "code",
   "execution_count": 21,
   "metadata": {},
   "outputs": [
    {
     "name": "stdout",
     "output_type": "stream",
     "text": [
      "(1340, 19)\n"
     ]
    }
   ],
   "source": [
    "s_col = ['MSSubClass', 'MSZoning','LotFrontage','LotArea','LandSlope','Neighborhood','OverallQual','YearBuilt','YearRemodAdd','BsmtCond','GrLivArea','FullBath','HalfBath','KitchenQual','Fireplaces','GarageArea','GarageCond','YrSold', 'SalePrice']\n",
    "df = df[s_col]\n",
    "print(df.shape)"
   ]
  },
  {
   "cell_type": "markdown",
   "metadata": {},
   "source": [
    "YearBuilt, YearRemodAdd and YrSold alone are not as useful.  It's better to make a new column with information on\n",
    "the age of the house.  If it is remodeled, the age will be calculated as from the year it was remodeled to the \n",
    "year it was sold.  "
   ]
  },
  {
   "cell_type": "code",
   "execution_count": 22,
   "metadata": {},
   "outputs": [
    {
     "data": {
      "text/plain": [
       "True    1340\n",
       "dtype: int64"
      ]
     },
     "execution_count": 22,
     "metadata": {},
     "output_type": "execute_result"
    }
   ],
   "source": [
    "# Check to make sure that the dates make sense. \n",
    "c = df['YearRemodAdd'] >= df['YearBuilt']\n",
    "c.value_counts()"
   ]
  },
  {
   "cell_type": "code",
   "execution_count": 23,
   "metadata": {},
   "outputs": [
    {
     "data": {
      "text/plain": [
       "(1340, 18)"
      ]
     },
     "execution_count": 23,
     "metadata": {},
     "output_type": "execute_result"
    }
   ],
   "source": [
    "# Create a new HouseAge column based on YearRemodAdd and YrSold\n",
    "c = df['YearRemodAdd'] - df['YearBuilt']\n",
    "df['HouseAge'] = c\n",
    "df = df.drop(['YearBuilt', 'YearRemodAdd'], axis = 1)\n",
    "df.shape"
   ]
  },
  {
   "cell_type": "code",
   "execution_count": 24,
   "metadata": {},
   "outputs": [
    {
     "data": {
      "text/plain": [
       "SalePrice      1.000000\n",
       "OverallQual    0.783738\n",
       "GrLivArea      0.711424\n",
       "GarageArea     0.608110\n",
       "FullBath       0.569488\n",
       "Fireplaces     0.445613\n",
       "LotFrontage    0.328168\n",
       "HalfBath       0.257160\n",
       "LotArea        0.254615\n",
       "HouseAge       0.202945\n",
       "MSSubClass     0.080331\n",
       "YrSold         0.019667\n",
       "Name: SalePrice, dtype: float64"
      ]
     },
     "execution_count": 24,
     "metadata": {},
     "output_type": "execute_result"
    }
   ],
   "source": [
    "# Check feature correlation with sales price\n",
    "corr = df.corr()\n",
    "corr['SalePrice'].abs().sort_values(ascending = False)"
   ]
  },
  {
   "cell_type": "code",
   "execution_count": 25,
   "metadata": {},
   "outputs": [
    {
     "name": "stdout",
     "output_type": "stream",
     "text": [
      "<class 'pandas.core.frame.DataFrame'>\n",
      "Int64Index: 1340 entries, 0 to 1459\n",
      "Data columns (total 17 columns):\n",
      " #   Column        Non-Null Count  Dtype  \n",
      "---  ------        --------------  -----  \n",
      " 0   MSZoning      1340 non-null   object \n",
      " 1   LotFrontage   1340 non-null   float64\n",
      " 2   LotArea       1340 non-null   int64  \n",
      " 3   LandSlope     1340 non-null   object \n",
      " 4   Neighborhood  1340 non-null   object \n",
      " 5   OverallQual   1340 non-null   int64  \n",
      " 6   BsmtCond      1340 non-null   object \n",
      " 7   GrLivArea     1340 non-null   int64  \n",
      " 8   FullBath      1340 non-null   int64  \n",
      " 9   HalfBath      1340 non-null   int64  \n",
      " 10  KitchenQual   1340 non-null   object \n",
      " 11  Fireplaces    1340 non-null   int64  \n",
      " 12  GarageArea    1340 non-null   int64  \n",
      " 13  GarageCond    1340 non-null   object \n",
      " 14  YrSold        1340 non-null   int64  \n",
      " 15  SalePrice     1340 non-null   int64  \n",
      " 16  HouseAge      1340 non-null   int64  \n",
      "dtypes: float64(1), int64(10), object(6)\n",
      "memory usage: 188.4+ KB\n"
     ]
    }
   ],
   "source": [
    "# MSSubClass is poorly correlated with SalePrice, will drop it\n",
    "df = df.drop(['MSSubClass'], axis = 1)\n",
    "df.info()"
   ]
  },
  {
   "cell_type": "code",
   "execution_count": 26,
   "metadata": {},
   "outputs": [
    {
     "data": {
      "text/html": [
       "<div>\n",
       "<style scoped>\n",
       "    .dataframe tbody tr th:only-of-type {\n",
       "        vertical-align: middle;\n",
       "    }\n",
       "\n",
       "    .dataframe tbody tr th {\n",
       "        vertical-align: top;\n",
       "    }\n",
       "\n",
       "    .dataframe thead th {\n",
       "        text-align: right;\n",
       "    }\n",
       "</style>\n",
       "<table border=\"1\" class=\"dataframe\">\n",
       "  <thead>\n",
       "    <tr style=\"text-align: right;\">\n",
       "      <th></th>\n",
       "      <th>MSZoning</th>\n",
       "      <th>LotFrontage</th>\n",
       "      <th>LotArea</th>\n",
       "      <th>LandSlope</th>\n",
       "      <th>Neighborhood</th>\n",
       "      <th>OverallQual</th>\n",
       "      <th>BsmtCond</th>\n",
       "      <th>GrLivArea</th>\n",
       "      <th>FullBath</th>\n",
       "      <th>HalfBath</th>\n",
       "      <th>KitchenQual</th>\n",
       "      <th>Fireplaces</th>\n",
       "      <th>GarageArea</th>\n",
       "      <th>GarageCond</th>\n",
       "      <th>YrSold</th>\n",
       "      <th>SalePrice</th>\n",
       "      <th>HouseAge</th>\n",
       "    </tr>\n",
       "  </thead>\n",
       "  <tbody>\n",
       "    <tr>\n",
       "      <th>0</th>\n",
       "      <td>RL</td>\n",
       "      <td>65.0</td>\n",
       "      <td>8450</td>\n",
       "      <td>Gtl</td>\n",
       "      <td>CollgCr</td>\n",
       "      <td>7</td>\n",
       "      <td>TA</td>\n",
       "      <td>1710</td>\n",
       "      <td>2</td>\n",
       "      <td>1</td>\n",
       "      <td>Gd</td>\n",
       "      <td>0</td>\n",
       "      <td>548</td>\n",
       "      <td>TA</td>\n",
       "      <td>2008</td>\n",
       "      <td>208500</td>\n",
       "      <td>0</td>\n",
       "    </tr>\n",
       "    <tr>\n",
       "      <th>1</th>\n",
       "      <td>RL</td>\n",
       "      <td>80.0</td>\n",
       "      <td>9600</td>\n",
       "      <td>Gtl</td>\n",
       "      <td>Veenker</td>\n",
       "      <td>6</td>\n",
       "      <td>TA</td>\n",
       "      <td>1262</td>\n",
       "      <td>2</td>\n",
       "      <td>0</td>\n",
       "      <td>TA</td>\n",
       "      <td>1</td>\n",
       "      <td>460</td>\n",
       "      <td>TA</td>\n",
       "      <td>2007</td>\n",
       "      <td>181500</td>\n",
       "      <td>0</td>\n",
       "    </tr>\n",
       "    <tr>\n",
       "      <th>2</th>\n",
       "      <td>RL</td>\n",
       "      <td>68.0</td>\n",
       "      <td>11250</td>\n",
       "      <td>Gtl</td>\n",
       "      <td>CollgCr</td>\n",
       "      <td>7</td>\n",
       "      <td>TA</td>\n",
       "      <td>1786</td>\n",
       "      <td>2</td>\n",
       "      <td>1</td>\n",
       "      <td>Gd</td>\n",
       "      <td>1</td>\n",
       "      <td>608</td>\n",
       "      <td>TA</td>\n",
       "      <td>2008</td>\n",
       "      <td>223500</td>\n",
       "      <td>1</td>\n",
       "    </tr>\n",
       "  </tbody>\n",
       "</table>\n",
       "</div>"
      ],
      "text/plain": [
       "  MSZoning  LotFrontage  LotArea LandSlope Neighborhood  OverallQual BsmtCond  \\\n",
       "0       RL         65.0     8450       Gtl      CollgCr            7       TA   \n",
       "1       RL         80.0     9600       Gtl      Veenker            6       TA   \n",
       "2       RL         68.0    11250       Gtl      CollgCr            7       TA   \n",
       "\n",
       "   GrLivArea  FullBath  HalfBath KitchenQual  Fireplaces  GarageArea  \\\n",
       "0       1710         2         1          Gd           0         548   \n",
       "1       1262         2         0          TA           1         460   \n",
       "2       1786         2         1          Gd           1         608   \n",
       "\n",
       "  GarageCond  YrSold  SalePrice  HouseAge  \n",
       "0         TA    2008     208500         0  \n",
       "1         TA    2007     181500         0  \n",
       "2         TA    2008     223500         1  "
      ]
     },
     "execution_count": 26,
     "metadata": {},
     "output_type": "execute_result"
    }
   ],
   "source": [
    "df.head(3)"
   ]
  },
  {
   "cell_type": "code",
   "execution_count": 28,
   "metadata": {},
   "outputs": [],
   "source": [
    "import numpy as np\n",
    "n_cols = df.select_dtypes(include=[np.number]).columns"
   ]
  },
  {
   "cell_type": "code",
   "execution_count": 29,
   "metadata": {},
   "outputs": [
    {
     "data": {
      "text/html": [
       "<div>\n",
       "<style scoped>\n",
       "    .dataframe tbody tr th:only-of-type {\n",
       "        vertical-align: middle;\n",
       "    }\n",
       "\n",
       "    .dataframe tbody tr th {\n",
       "        vertical-align: top;\n",
       "    }\n",
       "\n",
       "    .dataframe thead th {\n",
       "        text-align: right;\n",
       "    }\n",
       "</style>\n",
       "<table border=\"1\" class=\"dataframe\">\n",
       "  <thead>\n",
       "    <tr style=\"text-align: right;\">\n",
       "      <th></th>\n",
       "      <th>MSZoning</th>\n",
       "      <th>LotFrontage</th>\n",
       "      <th>LotArea</th>\n",
       "      <th>LandSlope</th>\n",
       "      <th>Neighborhood</th>\n",
       "      <th>OverallQual</th>\n",
       "      <th>BsmtCond</th>\n",
       "      <th>GrLivArea</th>\n",
       "      <th>FullBath</th>\n",
       "      <th>HalfBath</th>\n",
       "      <th>KitchenQual</th>\n",
       "      <th>Fireplaces</th>\n",
       "      <th>GarageArea</th>\n",
       "      <th>GarageCond</th>\n",
       "      <th>YrSold</th>\n",
       "      <th>SalePrice</th>\n",
       "      <th>HouseAge</th>\n",
       "    </tr>\n",
       "  </thead>\n",
       "  <tbody>\n",
       "    <tr>\n",
       "      <th>0</th>\n",
       "      <td>RL</td>\n",
       "      <td>-0.254585</td>\n",
       "      <td>-0.218753</td>\n",
       "      <td>Gtl</td>\n",
       "      <td>CollgCr</td>\n",
       "      <td>0.587861</td>\n",
       "      <td>TA</td>\n",
       "      <td>0.331066</td>\n",
       "      <td>0.774633</td>\n",
       "      <td>1.184542</td>\n",
       "      <td>Gd</td>\n",
       "      <td>-1.006888</td>\n",
       "      <td>0.247741</td>\n",
       "      <td>TA</td>\n",
       "      <td>0.146391</td>\n",
       "      <td>0.274645</td>\n",
       "      <td>-0.540991</td>\n",
       "    </tr>\n",
       "    <tr>\n",
       "      <th>1</th>\n",
       "      <td>RL</td>\n",
       "      <td>0.422898</td>\n",
       "      <td>-0.107377</td>\n",
       "      <td>Gtl</td>\n",
       "      <td>Veenker</td>\n",
       "      <td>-0.167397</td>\n",
       "      <td>TA</td>\n",
       "      <td>-0.530400</td>\n",
       "      <td>0.774633</td>\n",
       "      <td>-0.799566</td>\n",
       "      <td>TA</td>\n",
       "      <td>0.543951</td>\n",
       "      <td>-0.223249</td>\n",
       "      <td>TA</td>\n",
       "      <td>-0.605197</td>\n",
       "      <td>-0.067689</td>\n",
       "      <td>-0.540991</td>\n",
       "    </tr>\n",
       "    <tr>\n",
       "      <th>2</th>\n",
       "      <td>RL</td>\n",
       "      <td>-0.119088</td>\n",
       "      <td>0.052422</td>\n",
       "      <td>Gtl</td>\n",
       "      <td>CollgCr</td>\n",
       "      <td>0.587861</td>\n",
       "      <td>TA</td>\n",
       "      <td>0.477207</td>\n",
       "      <td>0.774633</td>\n",
       "      <td>1.184542</td>\n",
       "      <td>Gd</td>\n",
       "      <td>0.543951</td>\n",
       "      <td>0.568871</td>\n",
       "      <td>TA</td>\n",
       "      <td>0.146391</td>\n",
       "      <td>0.464831</td>\n",
       "      <td>-0.498129</td>\n",
       "    </tr>\n",
       "  </tbody>\n",
       "</table>\n",
       "</div>"
      ],
      "text/plain": [
       "  MSZoning  LotFrontage   LotArea LandSlope Neighborhood  OverallQual  \\\n",
       "0       RL    -0.254585 -0.218753       Gtl      CollgCr     0.587861   \n",
       "1       RL     0.422898 -0.107377       Gtl      Veenker    -0.167397   \n",
       "2       RL    -0.119088  0.052422       Gtl      CollgCr     0.587861   \n",
       "\n",
       "  BsmtCond  GrLivArea  FullBath  HalfBath KitchenQual  Fireplaces  GarageArea  \\\n",
       "0       TA   0.331066  0.774633  1.184542          Gd   -1.006888    0.247741   \n",
       "1       TA  -0.530400  0.774633 -0.799566          TA    0.543951   -0.223249   \n",
       "2       TA   0.477207  0.774633  1.184542          Gd    0.543951    0.568871   \n",
       "\n",
       "  GarageCond    YrSold  SalePrice  HouseAge  \n",
       "0         TA  0.146391   0.274645 -0.540991  \n",
       "1         TA -0.605197  -0.067689 -0.540991  \n",
       "2         TA  0.146391   0.464831 -0.498129  "
      ]
     },
     "execution_count": 29,
     "metadata": {},
     "output_type": "execute_result"
    }
   ],
   "source": [
    "# Normailize dataframe to reduce bias\n",
    "\n",
    "from sklearn.preprocessing import StandardScaler\n",
    "for col in n_cols:\n",
    "    df[n_cols] = StandardScaler().fit_transform(df[n_cols])\n",
    "df.head(3)"
   ]
  },
  {
   "cell_type": "markdown",
   "metadata": {},
   "source": [
    "#### Transforming categorical variables"
   ]
  },
  {
   "cell_type": "code",
   "execution_count": 30,
   "metadata": {},
   "outputs": [
    {
     "data": {
      "text/plain": [
       "Index(['MSZoning', 'LandSlope', 'Neighborhood', 'BsmtCond', 'KitchenQual',\n",
       "       'GarageCond'],\n",
       "      dtype='object')"
      ]
     },
     "execution_count": 30,
     "metadata": {},
     "output_type": "execute_result"
    }
   ],
   "source": [
    "# Learn about the non-numeric variables\n",
    "s_cols = df.select_dtypes(include=['object']).columns\n",
    "s_cols"
   ]
  },
  {
   "cell_type": "code",
   "execution_count": 31,
   "metadata": {},
   "outputs": [
    {
     "data": {
      "text/plain": [
       "0    RL\n",
       "1    RL\n",
       "2    RL\n",
       "3    RL\n",
       "4    RL\n",
       "5    RL\n",
       "6    RL\n",
       "7    RL\n",
       "8    RM\n",
       "9    RL\n",
       "Name: MSZoning, dtype: object"
      ]
     },
     "execution_count": 31,
     "metadata": {},
     "output_type": "execute_result"
    }
   ],
   "source": [
    "df.MSZoning.head(10)"
   ]
  },
  {
   "cell_type": "code",
   "execution_count": 32,
   "metadata": {},
   "outputs": [
    {
     "name": "stdout",
     "output_type": "stream",
     "text": [
      "   MSZoning  LotFrontage   LotArea  LandSlope  Neighborhood  OverallQual  \\\n",
      "0         4    -0.254585 -0.218753          1             6     0.587861   \n",
      "1         4     0.422898 -0.107377          1            25    -0.167397   \n",
      "2         4    -0.119088  0.052422          1             6     0.587861   \n",
      "3         4    -0.480413 -0.112220          1             7     0.587861   \n",
      "4         4     0.603560  0.343935          1            16     1.343118   \n",
      "\n",
      "   BsmtCond  GrLivArea  FullBath  HalfBath  KitchenQual  Fireplaces  \\\n",
      "0         4   0.331066  0.774633  1.184542            3   -1.006888   \n",
      "1         4  -0.530400  0.774633 -0.799566            4    0.543951   \n",
      "2         4   0.477207  0.774633  1.184542            3    0.543951   \n",
      "3         2   0.344526 -1.052846 -0.799566            3    0.543951   \n",
      "4         4   1.269449  0.774633  1.184542            3    0.543951   \n",
      "\n",
      "   GarageArea  GarageCond    YrSold  SalePrice  HouseAge  \n",
      "0    0.247741           5  0.146391   0.274645 -0.540991  \n",
      "1   -0.223249           5 -0.605197  -0.067689 -0.540991  \n",
      "2    0.568871           5  0.146391   0.464831 -0.498129  \n",
      "3    0.750844           5 -1.356785  -0.593869  1.816427  \n",
      "4    1.789164           5  0.146391   0.800826 -0.540991  \n"
     ]
    }
   ],
   "source": [
    "# Convertinglabels to numeric values\n",
    "for col in s_cols:\n",
    "    labels = df[col].astype('category').cat.categories.tolist()\n",
    "    replace_map_comp = {col : {k: v for k,v in zip(labels,list(range(1,len(labels)+1)))}}\n",
    "    df.replace(replace_map_comp, inplace=True)\n",
    "    \n",
    "print(df.head())"
   ]
  },
  {
   "cell_type": "code",
   "execution_count": 33,
   "metadata": {},
   "outputs": [
    {
     "data": {
      "text/plain": [
       "(1340, 17)"
      ]
     },
     "execution_count": 33,
     "metadata": {},
     "output_type": "execute_result"
    }
   ],
   "source": [
    "df.shape"
   ]
  },
  {
   "cell_type": "code",
   "execution_count": 34,
   "metadata": {},
   "outputs": [
    {
     "data": {
      "text/plain": [
       "4    1068\n",
       "5     191\n",
       "2      62\n",
       "3      11\n",
       "1       8\n",
       "Name: MSZoning, dtype: int64"
      ]
     },
     "execution_count": 34,
     "metadata": {},
     "output_type": "execute_result"
    }
   ],
   "source": [
    "df.MSZoning.value_counts()"
   ]
  },
  {
   "cell_type": "code",
   "execution_count": 35,
   "metadata": {},
   "outputs": [
    {
     "data": {
      "text/html": [
       "<div>\n",
       "<style scoped>\n",
       "    .dataframe tbody tr th:only-of-type {\n",
       "        vertical-align: middle;\n",
       "    }\n",
       "\n",
       "    .dataframe tbody tr th {\n",
       "        vertical-align: top;\n",
       "    }\n",
       "\n",
       "    .dataframe thead th {\n",
       "        text-align: right;\n",
       "    }\n",
       "</style>\n",
       "<table border=\"1\" class=\"dataframe\">\n",
       "  <thead>\n",
       "    <tr style=\"text-align: right;\">\n",
       "      <th></th>\n",
       "      <th>MSZoning</th>\n",
       "      <th>LotFrontage</th>\n",
       "      <th>LotArea</th>\n",
       "      <th>LandSlope</th>\n",
       "      <th>Neighborhood</th>\n",
       "      <th>OverallQual</th>\n",
       "      <th>BsmtCond</th>\n",
       "      <th>GrLivArea</th>\n",
       "      <th>FullBath</th>\n",
       "      <th>HalfBath</th>\n",
       "      <th>KitchenQual</th>\n",
       "      <th>Fireplaces</th>\n",
       "      <th>GarageArea</th>\n",
       "      <th>GarageCond</th>\n",
       "      <th>YrSold</th>\n",
       "      <th>SalePrice</th>\n",
       "      <th>HouseAge</th>\n",
       "    </tr>\n",
       "  </thead>\n",
       "  <tbody>\n",
       "    <tr>\n",
       "      <th>0</th>\n",
       "      <td>4</td>\n",
       "      <td>-0.254585</td>\n",
       "      <td>-0.218753</td>\n",
       "      <td>1</td>\n",
       "      <td>6</td>\n",
       "      <td>0.587861</td>\n",
       "      <td>4</td>\n",
       "      <td>0.331066</td>\n",
       "      <td>0.774633</td>\n",
       "      <td>1.184542</td>\n",
       "      <td>3</td>\n",
       "      <td>-1.006888</td>\n",
       "      <td>0.247741</td>\n",
       "      <td>5</td>\n",
       "      <td>0.146391</td>\n",
       "      <td>0.274645</td>\n",
       "      <td>-0.540991</td>\n",
       "    </tr>\n",
       "    <tr>\n",
       "      <th>1</th>\n",
       "      <td>4</td>\n",
       "      <td>0.422898</td>\n",
       "      <td>-0.107377</td>\n",
       "      <td>1</td>\n",
       "      <td>25</td>\n",
       "      <td>-0.167397</td>\n",
       "      <td>4</td>\n",
       "      <td>-0.530400</td>\n",
       "      <td>0.774633</td>\n",
       "      <td>-0.799566</td>\n",
       "      <td>4</td>\n",
       "      <td>0.543951</td>\n",
       "      <td>-0.223249</td>\n",
       "      <td>5</td>\n",
       "      <td>-0.605197</td>\n",
       "      <td>-0.067689</td>\n",
       "      <td>-0.540991</td>\n",
       "    </tr>\n",
       "    <tr>\n",
       "      <th>2</th>\n",
       "      <td>4</td>\n",
       "      <td>-0.119088</td>\n",
       "      <td>0.052422</td>\n",
       "      <td>1</td>\n",
       "      <td>6</td>\n",
       "      <td>0.587861</td>\n",
       "      <td>4</td>\n",
       "      <td>0.477207</td>\n",
       "      <td>0.774633</td>\n",
       "      <td>1.184542</td>\n",
       "      <td>3</td>\n",
       "      <td>0.543951</td>\n",
       "      <td>0.568871</td>\n",
       "      <td>5</td>\n",
       "      <td>0.146391</td>\n",
       "      <td>0.464831</td>\n",
       "      <td>-0.498129</td>\n",
       "    </tr>\n",
       "  </tbody>\n",
       "</table>\n",
       "</div>"
      ],
      "text/plain": [
       "   MSZoning  LotFrontage   LotArea  LandSlope  Neighborhood  OverallQual  \\\n",
       "0         4    -0.254585 -0.218753          1             6     0.587861   \n",
       "1         4     0.422898 -0.107377          1            25    -0.167397   \n",
       "2         4    -0.119088  0.052422          1             6     0.587861   \n",
       "\n",
       "   BsmtCond  GrLivArea  FullBath  HalfBath  KitchenQual  Fireplaces  \\\n",
       "0         4   0.331066  0.774633  1.184542            3   -1.006888   \n",
       "1         4  -0.530400  0.774633 -0.799566            4    0.543951   \n",
       "2         4   0.477207  0.774633  1.184542            3    0.543951   \n",
       "\n",
       "   GarageArea  GarageCond    YrSold  SalePrice  HouseAge  \n",
       "0    0.247741           5  0.146391   0.274645 -0.540991  \n",
       "1   -0.223249           5 -0.605197  -0.067689 -0.540991  \n",
       "2    0.568871           5  0.146391   0.464831 -0.498129  "
      ]
     },
     "execution_count": 35,
     "metadata": {},
     "output_type": "execute_result"
    }
   ],
   "source": [
    "df.head(3)"
   ]
  },
  {
   "cell_type": "code",
   "execution_count": 36,
   "metadata": {},
   "outputs": [
    {
     "data": {
      "text/plain": [
       "Text(0, 0.5, 'numbers sold')"
      ]
     },
     "execution_count": 36,
     "metadata": {},
     "output_type": "execute_result"
    },
    {
     "data": {
      "image/png": "[encoded data removed]",
      "text/plain": [
       "<Figure size 432x288 with 1 Axes>"
      ]
     },
     "metadata": {
      "needs_background": "light"
     },
     "output_type": "display_data"
    }
   ],
   "source": [
    "nh_count = df['MSZoning'].value_counts()\n",
    "plt.bar(nh_count.index, nh_count.values, alpha=0.9)\n",
    "plt.ylabel('numbers sold')"
   ]
  },
  {
   "cell_type": "code",
   "execution_count": 37,
   "metadata": {},
   "outputs": [
    {
     "data": {
      "text/plain": [
       "Text(0, 0.5, 'numbers sold')"
      ]
     },
     "execution_count": 37,
     "metadata": {},
     "output_type": "execute_result"
    },
    {
     "data": {
      "image/png": "[encoded data removed]",
      "text/plain": [
       "<Figure size 432x288 with 1 Axes>"
      ]
     },
     "metadata": {
      "needs_background": "light"
     },
     "output_type": "display_data"
    }
   ],
   "source": [
    "nh_count = df['Neighborhood'].value_counts()\n",
    "plt.bar(nh_count.index, nh_count.values, alpha=0.9)\n",
    "plt.ylabel('numbers sold')"
   ]
  },
  {
   "cell_type": "code",
   "execution_count": 38,
   "metadata": {},
   "outputs": [
    {
     "data": {
      "text/plain": [
       "SalePrice       1.000000\n",
       "OverallQual     0.783738\n",
       "GrLivArea       0.711424\n",
       "KitchenQual     0.616826\n",
       "GarageArea      0.608110\n",
       "FullBath        0.569488\n",
       "Fireplaces      0.445613\n",
       "LotFrontage     0.328168\n",
       "HalfBath        0.257160\n",
       "LotArea         0.254615\n",
       "HouseAge        0.202945\n",
       "Neighborhood    0.199912\n",
       "MSZoning        0.163753\n",
       "GarageCond      0.148023\n",
       "BsmtCond        0.061846\n",
       "LandSlope       0.061369\n",
       "YrSold          0.019667\n",
       "Name: SalePrice, dtype: float64"
      ]
     },
     "execution_count": 38,
     "metadata": {},
     "output_type": "execute_result"
    }
   ],
   "source": [
    "# Check correlation again\n",
    "corr = df.corr()\n",
    "cor = corr['SalePrice'].abs().sort_values(ascending = False)\n",
    "cor"
   ]
  },
  {
   "cell_type": "code",
   "execution_count": 39,
   "metadata": {},
   "outputs": [
    {
     "data": {
      "text/plain": [
       "(1340, 14)"
      ]
     },
     "execution_count": 39,
     "metadata": {},
     "output_type": "execute_result"
    }
   ],
   "source": [
    "# drop ['BsmtCond', 'LandSlope','YrSold'] columns\n",
    "\n",
    "df = df.drop(['BsmtCond', 'LandSlope','YrSold'], axis = 1)\n",
    "df.shape"
   ]
  },
  {
   "cell_type": "markdown",
   "metadata": {},
   "source": [
    "## <b>Predicting sales price using linear regression  "
   ]
  },
  {
   "cell_type": "code",
   "execution_count": 40,
   "metadata": {},
   "outputs": [],
   "source": [
    "from sklearn.utils import shuffle\n",
    "import numpy as np\n",
    "from sklearn.metrics import mean_squared_error \n",
    "from sklearn import linear_model\n",
    "\n",
    "df = shuffle(df)\n",
    "df.reset_index(inplace = True, drop = True)"
   ]
  },
  {
   "cell_type": "code",
   "execution_count": 41,
   "metadata": {},
   "outputs": [
    {
     "data": {
      "text/plain": [
       "Index(['MSZoning', 'LotFrontage', 'LotArea', 'Neighborhood', 'OverallQual',\n",
       "       'GrLivArea', 'FullBath', 'HalfBath', 'KitchenQual', 'Fireplaces',\n",
       "       'GarageArea', 'GarageCond', 'SalePrice', 'HouseAge'],\n",
       "      dtype='object')"
      ]
     },
     "execution_count": 41,
     "metadata": {},
     "output_type": "execute_result"
    }
   ],
   "source": [
    "df.columns"
   ]
  },
  {
   "cell_type": "code",
   "execution_count": 42,
   "metadata": {},
   "outputs": [
    {
     "data": {
      "text/plain": [
       "Text(0.5, 1.0, 'Normalized Predicted vs. Sale Price \\n estimated From 10-fold split')"
      ]
     },
     "execution_count": 42,
     "metadata": {},
     "output_type": "execute_result"
    },
    {
     "data": {
      "image/png": "[encoded data removed]",
      "text/plain": [
       "<Figure size 1080x216 with 3 Axes>"
      ]
     },
     "metadata": {
      "needs_background": "light"
     },
     "output_type": "display_data"
    }
   ],
   "source": [
    "# Use k-fold cross-validation method to deterine the best way to split data for training.  \n",
    "\n",
    "from sklearn.model_selection import cross_val_score, cross_val_predict, KFold\n",
    "\n",
    "features = ['MSZoning', 'LotFrontage', 'LotArea', 'Neighborhood', 'OverallQual',\n",
    "       'GrLivArea', 'FullBath', 'HalfBath', 'KitchenQual', 'Fireplaces',\n",
    "       'GarageArea', 'GarageCond', 'HouseAge']\n",
    "num_folds = [3, 4, 5, 6, 8, 9, 10, 11, 13, 15, 17, 20]\n",
    "rmses_ls = []\n",
    "std_rmse_ls = []\n",
    "pred_ls = []\n",
    "\n",
    "for fold in num_folds:\n",
    "    kf = KFold(fold, shuffle = True, random_state = 1)\n",
    "    lr = linear_model.LinearRegression()\n",
    "    y_pred = cross_val_predict(lr, df[features], df['SalePrice'], cv = kf)\n",
    "    pred_ls.append(y_pred)\n",
    "    mses = cross_val_score(lr, df[features], df['SalePrice'], scoring = 'neg_mean_squared_error', cv = kf)\n",
    "    rmses = np.sqrt(np.abs(mses))\n",
    "    avg_rmse = np.mean(rmses)\n",
    "    rmses_ls.append(avg_rmse)\n",
    "    std_rmse = np.std(rmses)\n",
    "    std_rmse_ls.append(std_rmse)\n",
    "    \n",
    "fig = plt.figure(figsize = (15,3))\n",
    "fig.subplots_adjust(wspace=0.3)\n",
    "ax1 = fig.add_subplot(1, 3, 1)\n",
    "ax1.scatter(num_folds, rmses_ls)\n",
    "ax1.set_ylabel('avg RMSE')\n",
    "ax1.set_xlabel('folds split')\n",
    "\n",
    "ax2 = fig.add_subplot(1, 3, 2)\n",
    "ax2.scatter(num_folds, std_rmse_ls)\n",
    "ax2.set_ylabel('std RMSE')\n",
    "ax2.set_xlabel('folds split')\n",
    "\n",
    "ax3 = fig.add_subplot(1, 3, 3)\n",
    "sp = int(df.shape[0]*0.9)\n",
    "ax3.scatter(df.SalePrice, pred_ls[6])\n",
    "ax3.set_xlabel('Normalized Sales price')\n",
    "ax3.set_ylabel('Normalized Predicted Price')\n",
    "# ax3.set_xlim(0,2)\n",
    "# ax3.set_ylim(0,2)\n",
    "ax3.set_title('Normalized Predicted vs. Sale Price \\n estimated From 10-fold split')"
   ]
  },
  {
   "cell_type": "code",
   "execution_count": 43,
   "metadata": {},
   "outputs": [
    {
     "name": "stdout",
     "output_type": "stream",
     "text": [
      "min_rmse = 0.473\n",
      "max_rmse = 0.49\n",
      "overall_rmse = 0.482\n"
     ]
    }
   ],
   "source": [
    "import statistics \n",
    "print(f'min_rmse = {round(min(rmses_ls),3)}')\n",
    "print(f'max_rmse = {round(max(rmses_ls),3)}')\n",
    "print(f'overall_rmse = {round(statistics.mean(rmses_ls),3)}')"
   ]
  },
  {
   "cell_type": "code",
   "execution_count": 50,
   "metadata": {},
   "outputs": [],
   "source": [
    "# choose 10-fold split to further testing the effect of number of feaures on prediction\n",
    "\n",
    "sp = int(df.shape[0]*0.9)\n",
    "train = df[:sp]\n",
    "test = df[sp:]"
   ]
  },
  {
   "cell_type": "code",
   "execution_count": 53,
   "metadata": {
    "scrolled": true
   },
   "outputs": [],
   "source": [
    "# Define a function to run model fitting, prediction and checking errors automatically\n",
    "\n",
    "def train_and_test(train, features):\n",
    "    \"\"\" This function trains a model based on a set of given features using a training data set, \n",
    "    making prediction using the testing data set, and returns the rmse. \"\"\"\n",
    "    lr = linear_model.LinearRegression()\n",
    "    lr.fit(train[features], train['SalePrice'])\n",
    "    prediction = lr.predict(test[features])\n",
    "    mse = mean_squared_error(test['SalePrice'], prediction)\n",
    "    rmse = np.sqrt(mse)\n",
    "    return prediction, rmse"
   ]
  },
  {
   "cell_type": "code",
   "execution_count": 54,
   "metadata": {},
   "outputs": [
    {
     "name": "stdout",
     "output_type": "stream",
     "text": [
      "features-used = 1, RMSE = 1.131\n",
      "features-used = 2, RMSE = 1.063\n",
      "features-used = 3, RMSE = 1.048\n",
      "features-used = 4, RMSE = 1.012\n",
      "features-used = 5, RMSE = 0.556\n",
      "features-used = 6, RMSE = 0.514\n",
      "features-used = 7, RMSE = 0.517\n",
      "features-used = 8, RMSE = 0.513\n",
      "features-used = 9, RMSE = 0.476\n",
      "features-used = 10, RMSE = 0.47\n",
      "features-used = 11, RMSE = 0.438\n",
      "features-used = 12, RMSE = 0.437\n",
      "features-used = 13, RMSE = 0.443\n"
     ]
    },
    {
     "data": {
      "text/plain": [
       "Text(0, 0.5, 'rmse')"
      ]
     },
     "execution_count": 54,
     "metadata": {},
     "output_type": "execute_result"
    },
    {
     "data": {
      "image/png": "[encoded data removed]",
      "text/plain": [
       "<Figure size 288x216 with 1 Axes>"
      ]
     },
     "metadata": {
      "needs_background": "light"
     },
     "output_type": "display_data"
    }
   ],
   "source": [
    "# find out the relationship between the nubmer of features used and the model accuracy\n",
    "\n",
    "rmses = {}\n",
    "for i in range(1,len(features)+1):\n",
    "    t_col = features[0:i]\n",
    "    prediction, rmse = train_and_test(train,t_col)\n",
    "    rmses[i] = rmse\n",
    "    print(f\"features-used = {i}, RMSE = {round(rmse,3)}\")\n",
    "    \n",
    "# converting the rmses dictionary to a dataframe\n",
    "rms = pd.DataFrame(list(rmses.items()), columns = ['n_cols', 'rmse'])\n",
    "\n",
    "# plot the rmses verses the corresponsing number of features\n",
    "plt.figure(figsize =(4,3))\n",
    "plt.scatter(x = rms['n_cols'], y = rms['rmse'])\n",
    "plt.xlabel('number of features used')\n",
    "plt.ylabel('rmse')"
   ]
  },
  {
   "cell_type": "markdown",
   "metadata": {},
   "source": [
    "Acuracy increases as the number of features used increases.  However, larger improvement occurred when the number of features increased from 4 to 7."
   ]
  },
  {
   "cell_type": "code",
   "execution_count": 55,
   "metadata": {},
   "outputs": [],
   "source": [
    "# Use separate function to train model with train data then predicting using either the testing data or the train data.  \n",
    "\n",
    "def train_train(train, features):\n",
    "    \"\"\" This function trains a model using a train data set and making prediction \n",
    "    using the train data set, and returns the predicted values and rmse.  \"\"\"\n",
    "    lr = linear_model.LinearRegression()\n",
    "    lr.fit(train[features], train['SalePrice'])\n",
    "    tr_predictions = lr.predict(train[features])\n",
    "    mse = mean_squared_error(train['SalePrice'], tr_predictions)\n",
    "    rmse = np.sqrt(mse)\n",
    "    return tr_predictions, rmse\n",
    "\n",
    "def train_test(train, features):\n",
    "    \"\"\" This function trains a model using a train data set and making prediction \n",
    "    using the test data set, and returns the predicted values and rmse.  \"\"\"\n",
    "    lr = linear_model.LinearRegression()\n",
    "    lr.fit(train[features], train['SalePrice'])\n",
    "    te_predictions = lr.predict(test[features])\n",
    "    mse = mean_squared_error(test['SalePrice'], te_predictions)\n",
    "    rmse = np.sqrt(mse)\n",
    "    return te_predictions, rmse"
   ]
  },
  {
   "cell_type": "markdown",
   "metadata": {},
   "source": [
    "### Comparing predicted results based on either the train data or test data using different number of features"
   ]
  },
  {
   "cell_type": "code",
   "execution_count": 56,
   "metadata": {},
   "outputs": [
    {
     "name": "stdout",
     "output_type": "stream",
     "text": [
      "rmse using 3 features and train data= 0.906\n",
      "rmse using 3 features and test data= 1.048 \n",
      "\n",
      "rmse using 6 features and train data= 0.526\n",
      "rmse using 6 features and test data= 0.514 \n",
      "\n",
      "rmse using 9 features and train data= 0.503\n",
      "rmse using 9 features and test data= 0.476 \n",
      "\n",
      "rmse using 13 features and train data= 0.482\n",
      "rmse using 13 features and test data= 0.443\n"
     ]
    }
   ],
   "source": [
    "# Using 4 features\n",
    "tr_predictions3, tr_rmse3 = train_train(train, features[0:3])\n",
    "te_predictions3, te_rmse3 = train_test(train, features[0:3])\n",
    "\n",
    "# Using 6 features\n",
    "tr_predictions6, tr_rmse6 = train_train(train, features[0:6])\n",
    "te_predictions6, te_rmse6 = train_test(train, features[0:6])\n",
    "\n",
    "# Using 10 features\n",
    "tr_predictions9, tr_rmse9 = train_train(train, features[0:9])\n",
    "te_predictions9, te_rmse9 = train_test(train, features[0:9])\n",
    "\n",
    "# Using 13 features\n",
    "tr_predictions13, tr_rmse13 = train_train(train, features[0:13])\n",
    "te_predictions13, te_rmse13 = train_test(train, features[0:13])\n",
    "\n",
    "print(f'rmse using 3 features and train data= {round(tr_rmse3, 3)}')\n",
    "print(f'rmse using 3 features and test data= {round(te_rmse3, 3)}', '\\n')\n",
    "print(f'rmse using 6 features and train data= {round(tr_rmse6, 3)}')\n",
    "print(f'rmse using 6 features and test data= {round(te_rmse6, 3)}', '\\n')\n",
    "print(f'rmse using 9 features and train data= {round(tr_rmse9, 3)}')\n",
    "print(f'rmse using 9 features and test data= {round(te_rmse9, 3)}', '\\n')\n",
    "print(f'rmse using 13 features and train data= {round(tr_rmse13, 3)}')\n",
    "print(f'rmse using 13 features and test data= {round(te_rmse13, 3)}')"
   ]
  },
  {
   "cell_type": "code",
   "execution_count": 61,
   "metadata": {},
   "outputs": [
    {
     "name": "stdout",
     "output_type": "stream",
     "text": [
      "slope using 3 features = 0.119\n",
      "slope using 6 features = 0.71\n",
      "slope using 9 features = 0.749\n",
      "slope using 13 features = 0.779 \n",
      "\n"
     ]
    },
    {
     "data": {
      "image/png": "[encoded data removed]",
      "text/plain": [
       "<Figure size 576x576 with 4 Axes>"
      ]
     },
     "metadata": {
      "needs_background": "light"
     },
     "output_type": "display_data"
    }
   ],
   "source": [
    "fig, [[ax1, ax2],[ax3, ax4]] = plt.subplots(2, 2, figsize=(8,8), sharex=True, sharey=True)\n",
    "fig.subplots_adjust(hspace=0.2, wspace=0.1)\n",
    "fig.autofmt_xdate(rotation=90)\n",
    "                  \n",
    "ax1.scatter(train.SalePrice,  tr_predictions3, color = 'red', label='train')\n",
    "ax1.scatter(test.SalePrice,  te_predictions3, color = 'blue', label = 'test')\n",
    "ax1.set_ylabel('Predicted normalized price')\n",
    "ax1.title.set_text('Using 3 features')\n",
    "ax1.legend(loc='upper right')\n",
    "m, b = np.polyfit(test.SalePrice,  te_predictions3, 1)\n",
    "print(f'slope using 3 features = {round(m, 3)}')\n",
    "\n",
    "ax2.scatter(train.SalePrice,  tr_predictions6, color = 'red', label='train')\n",
    "ax2.scatter(test.SalePrice,  te_predictions6, color = 'blue',label = 'test')\n",
    "ax2.title.set_text('Using 6 features')\n",
    "ax2.legend(loc='upper right')\n",
    "m, b = np.polyfit(test.SalePrice,  te_predictions6, 1)\n",
    "print(f'slope using 6 features = {round(m, 3)}')\n",
    "\n",
    "ax3.scatter(train.SalePrice,  tr_predictions9, color = 'red', label='train')\n",
    "ax3.scatter(test.SalePrice,  te_predictions9, color = 'blue',label = 'test')\n",
    "ax3.set_xlabel('Normalized Sales price')\n",
    "ax3.set_ylabel('Predicted normalized price')\n",
    "ax3.title.set_text('Using 9 features')\n",
    "ax3.legend(loc='upper right')\n",
    "m_LG9, b = np.polyfit(test.SalePrice,  te_predictions9, 1)\n",
    "print(f'slope using 9 features = {round(m_LG9, 3)}')\n",
    "\n",
    "ax4.scatter(train.SalePrice,  tr_predictions13, color = 'red', label='train')\n",
    "ax4.scatter(test.SalePrice,  te_predictions13, color = 'blue',label = 'test')\n",
    "ax4.set_xlabel('Normalized Sales price')\n",
    "ax4.title.set_text('Using 13 features')\n",
    "ax4.legend(loc='upper right')\n",
    "m, b = np.polyfit(test.SalePrice,  te_predictions13, 1)\n",
    "print(f'slope using 13 features = {round(m, 3)}', '\\n')\n",
    "\n",
    "handles, labels = ax1.get_legend_handles_labels()"
   ]
  },
  {
   "cell_type": "markdown",
   "metadata": {},
   "source": [
    "As expected, using only four features resutled in poor performance even when using the training data for prediction.  Increasing the numbers of features increased the performance.  The best slope value for predicted price ploted against sales price is 0.772 with 13 features used.  It can also be seen that the predictions using the train data and test data are reasonability overlaped each other except at higher prices, indicating no obvious overfitting or underfitting of the model. "
   ]
  },
  {
   "cell_type": "markdown",
   "metadata": {},
   "source": [
    "## <b>Predicting sales price using knn"
   ]
  },
  {
   "cell_type": "code",
   "execution_count": 62,
   "metadata": {},
   "outputs": [
    {
     "name": "stdout",
     "output_type": "stream",
     "text": [
      "Index(['MSZoning', 'LotFrontage', 'LotArea', 'Neighborhood', 'OverallQual',\n",
      "       'GrLivArea', 'FullBath', 'HalfBath', 'KitchenQual', 'Fireplaces',\n",
      "       'GarageArea', 'GarageCond', 'SalePrice', 'HouseAge'],\n",
      "      dtype='object')\n",
      "(1206, 14)\n",
      "(134, 14)\n"
     ]
    }
   ],
   "source": [
    "print(df.columns)\n",
    "print(train.shape)\n",
    "print(test.shape)"
   ]
  },
  {
   "cell_type": "code",
   "execution_count": 63,
   "metadata": {},
   "outputs": [],
   "source": [
    "from sklearn.neighbors import KNeighborsRegressor\n",
    "from sklearn.metrics import mean_squared_error\n",
    "\n",
    "def knn_train_test(train_col, target_col, k):\n",
    "    knn = KNeighborsRegressor(n_neighbors = k)\n",
    "    knn.fit(train[train_col], train[target_col])\n",
    "    prediction = knn.predict(test[train_col])\n",
    "    mse = mean_squared_error(test[target_col], prediction)\n",
    "    rmse = np.sqrt(mse)\n",
    "    return prediction, rmse"
   ]
  },
  {
   "cell_type": "code",
   "execution_count": 64,
   "metadata": {},
   "outputs": [
    {
     "data": {
      "text/plain": [
       "Text(0, 0.5, 'rmse')"
      ]
     },
     "execution_count": 64,
     "metadata": {},
     "output_type": "execute_result"
    },
    {
     "data": {
      "image/png": "[encoded data removed]",
      "text/plain": [
       "<Figure size 288x216 with 1 Axes>"
      ]
     },
     "metadata": {
      "needs_background": "light"
     },
     "output_type": "display_data"
    }
   ],
   "source": [
    "rmses_ls = []\n",
    "prediction_ls = []\n",
    "for k in [1, 3, 5, 7, 9]:\n",
    "    prediction, rmse = knn_train_test(features, 'SalePrice', k)\n",
    "    rmses_ls.append(rmse)\n",
    "    prediction_ls.append(prediction)\n",
    "       \n",
    "plt.figure(figsize=(4,3))    \n",
    "plt.scatter([1, 3, 5, 7, 9], rmses_ls, color ='red', label='losses')\n",
    "plt.xlabel('number of neighbors')\n",
    "plt.xticks([1, 3, 5, 7, 9])\n",
    "plt.ylabel('rmse')"
   ]
  },
  {
   "cell_type": "code",
   "execution_count": 74,
   "metadata": {},
   "outputs": [
    {
     "name": "stdout",
     "output_type": "stream",
     "text": [
      "slope by knn prediction using 9 neighbors = 0.728\n",
      "slope using 9 features = 0.749 \n",
      "\n"
     ]
    },
    {
     "data": {
      "image/png": "[encoded data removed]",
      "text/plain": [
       "<Figure size 864x288 with 2 Axes>"
      ]
     },
     "metadata": {
      "needs_background": "light"
     },
     "output_type": "display_data"
    }
   ],
   "source": [
    "fig, (ax1, ax2) = plt.subplots(1, 2, figsize=(12,4), sharex=True, sharey=True)\n",
    "fig.subplots_adjust(hspace=0.2, wspace=0.1)\n",
    "fig.autofmt_xdate(rotation=90)\n",
    "                  \n",
    "ax1.scatter(test.SalePrice,  prediction_ls[1], color = 'red', label='3 neighbors')\n",
    "ax1.scatter(test.SalePrice,  prediction_ls[3], color = 'blue', label='7 neighbors')\n",
    "ax1.set_xlabel('Sales price')\n",
    "ax1.set_ylabel('Normalized Predicted price')\n",
    "ax1.title.set_text('Predicting using knn')\n",
    "ax1.legend(loc='upper right')\n",
    "m_knn7, b = np.polyfit(test.SalePrice,  prediction_ls[3], 1)\n",
    "print(f'slope by knn prediction using 9 neighbors = {round(m_knn7, 3)}')\n",
    "\n",
    "ax2.scatter(train.SalePrice,  tr_predictions9, color = 'red', label='train')\n",
    "ax2.scatter(test.SalePrice,  te_predictions9, color = 'blue',label = 'test')\n",
    "ax2.set_xlabel('Sales price')\n",
    "ax2.title.set_text('LR with 9 features')\n",
    "ax2.legend(loc='upper right')\n",
    "print(f'slope using 9 features = {round(m_LG9, 3)}', '\\n')"
   ]
  },
  {
   "cell_type": "markdown",
   "metadata": {},
   "source": [
    "## <b>Predicting sales price using random forest"
   ]
  },
  {
   "cell_type": "code",
   "execution_count": 67,
   "metadata": {},
   "outputs": [
    {
     "name": "stdout",
     "output_type": "stream",
     "text": [
      "rmse = 0.4657101699469743\n"
     ]
    }
   ],
   "source": [
    "from sklearn.ensemble import RandomForestRegressor\n",
    "\n",
    "reg = RandomForestRegressor(min_samples_leaf=5)\n",
    "reg.fit(train[features], train['SalePrice'])\n",
    "predictions = reg.predict(test[features])\n",
    "mse = mean_squared_error(test['SalePrice'], prediction)\n",
    "rmse_rf = np.sqrt(mse)\n",
    "print(f'rmse = {rmse_rf}')"
   ]
  },
  {
   "cell_type": "code",
   "execution_count": 75,
   "metadata": {},
   "outputs": [
    {
     "name": "stdout",
     "output_type": "stream",
     "text": [
      "slope by random forest = 0.795\n",
      "slope using 9 features = 0.749 \n",
      "\n"
     ]
    },
    {
     "data": {
      "image/png": "[encoded data removed]",
      "text/plain": [
       "<Figure size 432x288 with 1 Axes>"
      ]
     },
     "metadata": {
      "needs_background": "light"
     },
     "output_type": "display_data"
    }
   ],
   "source": [
    "plt.scatter(test.SalePrice,  predictions, color='red',label='RF')\n",
    "m_RF, b = np.polyfit(test.SalePrice,  predictions, 1)\n",
    "print(f'slope by random forest = {round(m_RF, 3)}')\n",
    "\n",
    "plt.scatter(test.SalePrice,  te_predictions9, color = 'blue',label = 'LG with 9 features')\n",
    "plt.xlabel('Normalized Sales price')\n",
    "plt.ylabel('Normalized Predicted price')\n",
    "plt.legend()\n",
    "print(f'slope using 9 features = {round(m_LG9, 3)}','\\n')"
   ]
  },
  {
   "cell_type": "markdown",
   "metadata": {},
   "source": [
    "## <b>Prediction using decision tree"
   ]
  },
  {
   "cell_type": "code",
   "execution_count": 70,
   "metadata": {},
   "outputs": [
    {
     "name": "stdout",
     "output_type": "stream",
     "text": [
      "rmse = 0.5135451742676471\n"
     ]
    }
   ],
   "source": [
    "from sklearn.tree import DecisionTreeRegressor\n",
    "reg = DecisionTreeRegressor(min_samples_leaf = 5)\n",
    "reg.fit(train[features], train['SalePrice'])\n",
    "prediction = reg.predict(test[features])\n",
    "mse = mean_squared_error(test['SalePrice'], prediction)\n",
    "rmse_dt = np.sqrt(mse)\n",
    "print(f'rmse = {rmse_dt}')"
   ]
  },
  {
   "cell_type": "code",
   "execution_count": 76,
   "metadata": {},
   "outputs": [
    {
     "name": "stdout",
     "output_type": "stream",
     "text": [
      "slope by decision tree = 0.77\n",
      "slope using 9 features = 0.749 \n",
      "\n"
     ]
    },
    {
     "data": {
      "image/png": "[encoded data removed]",
      "text/plain": [
       "<Figure size 432x288 with 1 Axes>"
      ]
     },
     "metadata": {
      "needs_background": "light"
     },
     "output_type": "display_data"
    }
   ],
   "source": [
    "plt.scatter(test.SalePrice,  predictions, color='red',label='decision tree')\n",
    "m_DT, b = np.polyfit(test.SalePrice,  prediction, 1)\n",
    "print(f'slope by decision tree = {round(m_DT, 3)}')\n",
    "\n",
    "plt.scatter(test.SalePrice,  te_predictions9, color = 'blue',label = 'LG with 9 features')\n",
    "plt.xlabel('Normalized Sales price')\n",
    "plt.ylabel('Normalized Predicted price')\n",
    "plt.legend()\n",
    "print(f'slope using 9 features = {round(m_LG9, 3)}','\\n')"
   ]
  },
  {
   "cell_type": "code",
   "execution_count": 73,
   "metadata": {},
   "outputs": [
    {
     "name": "stdout",
     "output_type": "stream",
     "text": [
      "rmse from linear regression using 9 features = 0.476\n",
      "rmse from knn using 3 neighbors = 0.0\n",
      "rmse from random forest = 0.0\n",
      "rmse from decision tree = 1.0 \n",
      "\n",
      "predicted vs sale price slope by LG using 9 features = 0.749\n",
      "predicted vs sale price slope by knn prediction (n=3) = 0.728\n",
      "predicted vs sale price slope by random forest = 0.795\n",
      "predicted vs sale price slope by decision tree = 0.77\n"
     ]
    }
   ],
   "source": [
    "print(f'rmse from linear regression using 9 features = {round(te_rmse9, 3)}')\n",
    "print(f'rmse from knn using 3 neighbors = {round(rmses_ls[2])}')\n",
    "print(f'rmse from random forest = {round(rmse_rf)}')\n",
    "print(f'rmse from decision tree = {round(rmse_dt)}', '\\n')\n",
    "\n",
    "print(f'predicted vs sale price slope by LG using 9 features = {round(m_LG9, 3)}')\n",
    "print(f'predicted vs sale price slope by knn prediction (n=3) = {round(m_knn7, 3)}')\n",
    "print(f'predicted vs sale price slope by random forest = {round(m_RF, 3)}')\n",
    "print(f'predicted vs sale price slope by decision tree = {round(m_DT, 3)}')"
   ]
  },
  {
   "cell_type": "markdown",
   "metadata": {},
   "source": [
    "Random forest provides the best prediction with the least rmse and the highest slope between actual and predicted data."
   ]
  }
 ],
 "metadata": {
  "kernelspec": {
   "display_name": "Python 3",
   "language": "python",
   "name": "python3"
  },
  "language_info": {
   "codemirror_mode": {
    "name": "ipython",
    "version": 3
   },
   "file_extension": ".py",
   "mimetype": "text/x-python",
   "name": "python",
   "nbconvert_exporter": "python",
   "pygments_lexer": "ipython3",
   "version": "3.7.6"
  }
 },
 "nbformat": 4,
 "nbformat_minor": 4
}
