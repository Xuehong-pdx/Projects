{
 "cells": [
  {
   "cell_type": "markdown",
   "metadata": {},
   "source": [
    "In this notebook, I will build a predictive model to predict sale price for housing.  To find the best model, I will compare the performace of various machine learning algorythms, including linear regression, knn and random forest. I will also determine the best set of features to use. \n",
    "https://machinelearningmastery.com/train-final-machine-learning-model/"
   ]
  },
  {
   "cell_type": "markdown",
   "metadata": {},
   "source": [
    "## <b>Importing and Preparing data"
   ]
  },
  {
   "cell_type": "code",
   "execution_count": 1,
   "metadata": {},
   "outputs": [
    {
     "data": {
      "text/html": [
       "<div>\n",
       "<style scoped>\n",
       "    .dataframe tbody tr th:only-of-type {\n",
       "        vertical-align: middle;\n",
       "    }\n",
       "\n",
       "    .dataframe tbody tr th {\n",
       "        vertical-align: top;\n",
       "    }\n",
       "\n",
       "    .dataframe thead th {\n",
       "        text-align: right;\n",
       "    }\n",
       "</style>\n",
       "<table border=\"1\" class=\"dataframe\">\n",
       "  <thead>\n",
       "    <tr style=\"text-align: right;\">\n",
       "      <th></th>\n",
       "      <th>Id</th>\n",
       "      <th>MSSubClass</th>\n",
       "      <th>MSZoning</th>\n",
       "      <th>LotFrontage</th>\n",
       "      <th>LotArea</th>\n",
       "      <th>Street</th>\n",
       "      <th>Alley</th>\n",
       "      <th>LotShape</th>\n",
       "      <th>LandContour</th>\n",
       "      <th>Utilities</th>\n",
       "      <th>...</th>\n",
       "      <th>PoolArea</th>\n",
       "      <th>PoolQC</th>\n",
       "      <th>Fence</th>\n",
       "      <th>MiscFeature</th>\n",
       "      <th>MiscVal</th>\n",
       "      <th>MoSold</th>\n",
       "      <th>YrSold</th>\n",
       "      <th>SaleType</th>\n",
       "      <th>SaleCondition</th>\n",
       "      <th>SalePrice</th>\n",
       "    </tr>\n",
       "  </thead>\n",
       "  <tbody>\n",
       "    <tr>\n",
       "      <th>0</th>\n",
       "      <td>1</td>\n",
       "      <td>60</td>\n",
       "      <td>RL</td>\n",
       "      <td>65.0</td>\n",
       "      <td>8450</td>\n",
       "      <td>Pave</td>\n",
       "      <td>NaN</td>\n",
       "      <td>Reg</td>\n",
       "      <td>Lvl</td>\n",
       "      <td>AllPub</td>\n",
       "      <td>...</td>\n",
       "      <td>0</td>\n",
       "      <td>NaN</td>\n",
       "      <td>NaN</td>\n",
       "      <td>NaN</td>\n",
       "      <td>0</td>\n",
       "      <td>2</td>\n",
       "      <td>2008</td>\n",
       "      <td>WD</td>\n",
       "      <td>Normal</td>\n",
       "      <td>208500</td>\n",
       "    </tr>\n",
       "    <tr>\n",
       "      <th>1</th>\n",
       "      <td>2</td>\n",
       "      <td>20</td>\n",
       "      <td>RL</td>\n",
       "      <td>80.0</td>\n",
       "      <td>9600</td>\n",
       "      <td>Pave</td>\n",
       "      <td>NaN</td>\n",
       "      <td>Reg</td>\n",
       "      <td>Lvl</td>\n",
       "      <td>AllPub</td>\n",
       "      <td>...</td>\n",
       "      <td>0</td>\n",
       "      <td>NaN</td>\n",
       "      <td>NaN</td>\n",
       "      <td>NaN</td>\n",
       "      <td>0</td>\n",
       "      <td>5</td>\n",
       "      <td>2007</td>\n",
       "      <td>WD</td>\n",
       "      <td>Normal</td>\n",
       "      <td>181500</td>\n",
       "    </tr>\n",
       "    <tr>\n",
       "      <th>2</th>\n",
       "      <td>3</td>\n",
       "      <td>60</td>\n",
       "      <td>RL</td>\n",
       "      <td>68.0</td>\n",
       "      <td>11250</td>\n",
       "      <td>Pave</td>\n",
       "      <td>NaN</td>\n",
       "      <td>IR1</td>\n",
       "      <td>Lvl</td>\n",
       "      <td>AllPub</td>\n",
       "      <td>...</td>\n",
       "      <td>0</td>\n",
       "      <td>NaN</td>\n",
       "      <td>NaN</td>\n",
       "      <td>NaN</td>\n",
       "      <td>0</td>\n",
       "      <td>9</td>\n",
       "      <td>2008</td>\n",
       "      <td>WD</td>\n",
       "      <td>Normal</td>\n",
       "      <td>223500</td>\n",
       "    </tr>\n",
       "  </tbody>\n",
       "</table>\n",
       "<p>3 rows × 81 columns</p>\n",
       "</div>"
      ],
      "text/plain": [
       "   Id  MSSubClass MSZoning  LotFrontage  LotArea Street Alley LotShape  \\\n",
       "0   1          60       RL         65.0     8450   Pave   NaN      Reg   \n",
       "1   2          20       RL         80.0     9600   Pave   NaN      Reg   \n",
       "2   3          60       RL         68.0    11250   Pave   NaN      IR1   \n",
       "\n",
       "  LandContour Utilities  ... PoolArea PoolQC Fence MiscFeature MiscVal MoSold  \\\n",
       "0         Lvl    AllPub  ...        0    NaN   NaN         NaN       0      2   \n",
       "1         Lvl    AllPub  ...        0    NaN   NaN         NaN       0      5   \n",
       "2         Lvl    AllPub  ...        0    NaN   NaN         NaN       0      9   \n",
       "\n",
       "  YrSold  SaleType  SaleCondition  SalePrice  \n",
       "0   2008        WD         Normal     208500  \n",
       "1   2007        WD         Normal     181500  \n",
       "2   2008        WD         Normal     223500  \n",
       "\n",
       "[3 rows x 81 columns]"
      ]
     },
     "execution_count": 1,
     "metadata": {},
     "output_type": "execute_result"
    }
   ],
   "source": [
    "import pandas as pd\n",
    "import numpy as np\n",
    "import matplotlib.pyplot as plt\n",
    "import seaborn as sns\n",
    "%matplotlib inline\n",
    "\n",
    "# Load the dataset into a dataframe using pandas\n",
    "df = pd.read_csv('dataset.csv')\n",
    "df.head(3)"
   ]
  },
  {
   "cell_type": "code",
   "execution_count": 2,
   "metadata": {},
   "outputs": [
    {
     "data": {
      "text/plain": [
       "(1460, 81)"
      ]
     },
     "execution_count": 2,
     "metadata": {},
     "output_type": "execute_result"
    }
   ],
   "source": [
    "# Get a sense of the size of the datasest\n",
    "df.shape"
   ]
  },
  {
   "cell_type": "code",
   "execution_count": 3,
   "metadata": {},
   "outputs": [
    {
     "name": "stdout",
     "output_type": "stream",
     "text": [
      "There are 19 columns that have missing values.\n"
     ]
    },
    {
     "data": {
      "text/html": [
       "<div>\n",
       "<style scoped>\n",
       "    .dataframe tbody tr th:only-of-type {\n",
       "        vertical-align: middle;\n",
       "    }\n",
       "\n",
       "    .dataframe tbody tr th {\n",
       "        vertical-align: top;\n",
       "    }\n",
       "\n",
       "    .dataframe thead th {\n",
       "        text-align: right;\n",
       "    }\n",
       "</style>\n",
       "<table border=\"1\" class=\"dataframe\">\n",
       "  <thead>\n",
       "    <tr style=\"text-align: right;\">\n",
       "      <th></th>\n",
       "      <th>Zero Values</th>\n",
       "      <th>Missing Values</th>\n",
       "      <th>% of Total Values</th>\n",
       "      <th>Total Zero Missing Values</th>\n",
       "      <th>% Total Zero Missing Values</th>\n",
       "      <th>Data Type</th>\n",
       "    </tr>\n",
       "  </thead>\n",
       "  <tbody>\n",
       "    <tr>\n",
       "      <th>PoolQC</th>\n",
       "      <td>0</td>\n",
       "      <td>1453</td>\n",
       "      <td>99.5</td>\n",
       "      <td>1453</td>\n",
       "      <td>99.5</td>\n",
       "      <td>object</td>\n",
       "    </tr>\n",
       "    <tr>\n",
       "      <th>MiscFeature</th>\n",
       "      <td>0</td>\n",
       "      <td>1406</td>\n",
       "      <td>96.3</td>\n",
       "      <td>1406</td>\n",
       "      <td>96.3</td>\n",
       "      <td>object</td>\n",
       "    </tr>\n",
       "    <tr>\n",
       "      <th>Alley</th>\n",
       "      <td>0</td>\n",
       "      <td>1369</td>\n",
       "      <td>93.8</td>\n",
       "      <td>1369</td>\n",
       "      <td>93.8</td>\n",
       "      <td>object</td>\n",
       "    </tr>\n",
       "    <tr>\n",
       "      <th>Fence</th>\n",
       "      <td>0</td>\n",
       "      <td>1179</td>\n",
       "      <td>80.8</td>\n",
       "      <td>1179</td>\n",
       "      <td>80.8</td>\n",
       "      <td>object</td>\n",
       "    </tr>\n",
       "    <tr>\n",
       "      <th>FireplaceQu</th>\n",
       "      <td>0</td>\n",
       "      <td>690</td>\n",
       "      <td>47.3</td>\n",
       "      <td>690</td>\n",
       "      <td>47.3</td>\n",
       "      <td>object</td>\n",
       "    </tr>\n",
       "    <tr>\n",
       "      <th>LotFrontage</th>\n",
       "      <td>0</td>\n",
       "      <td>259</td>\n",
       "      <td>17.7</td>\n",
       "      <td>259</td>\n",
       "      <td>17.7</td>\n",
       "      <td>float64</td>\n",
       "    </tr>\n",
       "    <tr>\n",
       "      <th>GarageType</th>\n",
       "      <td>0</td>\n",
       "      <td>81</td>\n",
       "      <td>5.5</td>\n",
       "      <td>81</td>\n",
       "      <td>5.5</td>\n",
       "      <td>object</td>\n",
       "    </tr>\n",
       "    <tr>\n",
       "      <th>GarageYrBlt</th>\n",
       "      <td>0</td>\n",
       "      <td>81</td>\n",
       "      <td>5.5</td>\n",
       "      <td>81</td>\n",
       "      <td>5.5</td>\n",
       "      <td>float64</td>\n",
       "    </tr>\n",
       "    <tr>\n",
       "      <th>GarageFinish</th>\n",
       "      <td>0</td>\n",
       "      <td>81</td>\n",
       "      <td>5.5</td>\n",
       "      <td>81</td>\n",
       "      <td>5.5</td>\n",
       "      <td>object</td>\n",
       "    </tr>\n",
       "    <tr>\n",
       "      <th>GarageQual</th>\n",
       "      <td>0</td>\n",
       "      <td>81</td>\n",
       "      <td>5.5</td>\n",
       "      <td>81</td>\n",
       "      <td>5.5</td>\n",
       "      <td>object</td>\n",
       "    </tr>\n",
       "    <tr>\n",
       "      <th>GarageCond</th>\n",
       "      <td>0</td>\n",
       "      <td>81</td>\n",
       "      <td>5.5</td>\n",
       "      <td>81</td>\n",
       "      <td>5.5</td>\n",
       "      <td>object</td>\n",
       "    </tr>\n",
       "    <tr>\n",
       "      <th>BsmtExposure</th>\n",
       "      <td>0</td>\n",
       "      <td>38</td>\n",
       "      <td>2.6</td>\n",
       "      <td>38</td>\n",
       "      <td>2.6</td>\n",
       "      <td>object</td>\n",
       "    </tr>\n",
       "    <tr>\n",
       "      <th>BsmtFinType2</th>\n",
       "      <td>0</td>\n",
       "      <td>38</td>\n",
       "      <td>2.6</td>\n",
       "      <td>38</td>\n",
       "      <td>2.6</td>\n",
       "      <td>object</td>\n",
       "    </tr>\n",
       "    <tr>\n",
       "      <th>BsmtFinType1</th>\n",
       "      <td>0</td>\n",
       "      <td>37</td>\n",
       "      <td>2.5</td>\n",
       "      <td>37</td>\n",
       "      <td>2.5</td>\n",
       "      <td>object</td>\n",
       "    </tr>\n",
       "    <tr>\n",
       "      <th>BsmtCond</th>\n",
       "      <td>0</td>\n",
       "      <td>37</td>\n",
       "      <td>2.5</td>\n",
       "      <td>37</td>\n",
       "      <td>2.5</td>\n",
       "      <td>object</td>\n",
       "    </tr>\n",
       "    <tr>\n",
       "      <th>BsmtQual</th>\n",
       "      <td>0</td>\n",
       "      <td>37</td>\n",
       "      <td>2.5</td>\n",
       "      <td>37</td>\n",
       "      <td>2.5</td>\n",
       "      <td>object</td>\n",
       "    </tr>\n",
       "    <tr>\n",
       "      <th>MasVnrArea</th>\n",
       "      <td>861</td>\n",
       "      <td>8</td>\n",
       "      <td>0.5</td>\n",
       "      <td>869</td>\n",
       "      <td>59.5</td>\n",
       "      <td>float64</td>\n",
       "    </tr>\n",
       "    <tr>\n",
       "      <th>MasVnrType</th>\n",
       "      <td>0</td>\n",
       "      <td>8</td>\n",
       "      <td>0.5</td>\n",
       "      <td>8</td>\n",
       "      <td>0.5</td>\n",
       "      <td>object</td>\n",
       "    </tr>\n",
       "    <tr>\n",
       "      <th>Electrical</th>\n",
       "      <td>0</td>\n",
       "      <td>1</td>\n",
       "      <td>0.1</td>\n",
       "      <td>1</td>\n",
       "      <td>0.1</td>\n",
       "      <td>object</td>\n",
       "    </tr>\n",
       "  </tbody>\n",
       "</table>\n",
       "</div>"
      ],
      "text/plain": [
       "              Zero Values  Missing Values  % of Total Values  \\\n",
       "PoolQC                  0            1453               99.5   \n",
       "MiscFeature             0            1406               96.3   \n",
       "Alley                   0            1369               93.8   \n",
       "Fence                   0            1179               80.8   \n",
       "FireplaceQu             0             690               47.3   \n",
       "LotFrontage             0             259               17.7   \n",
       "GarageType              0              81                5.5   \n",
       "GarageYrBlt             0              81                5.5   \n",
       "GarageFinish            0              81                5.5   \n",
       "GarageQual              0              81                5.5   \n",
       "GarageCond              0              81                5.5   \n",
       "BsmtExposure            0              38                2.6   \n",
       "BsmtFinType2            0              38                2.6   \n",
       "BsmtFinType1            0              37                2.5   \n",
       "BsmtCond                0              37                2.5   \n",
       "BsmtQual                0              37                2.5   \n",
       "MasVnrArea            861               8                0.5   \n",
       "MasVnrType              0               8                0.5   \n",
       "Electrical              0               1                0.1   \n",
       "\n",
       "              Total Zero Missing Values  % Total Zero Missing Values Data Type  \n",
       "PoolQC                             1453                         99.5    object  \n",
       "MiscFeature                        1406                         96.3    object  \n",
       "Alley                              1369                         93.8    object  \n",
       "Fence                              1179                         80.8    object  \n",
       "FireplaceQu                         690                         47.3    object  \n",
       "LotFrontage                         259                         17.7   float64  \n",
       "GarageType                           81                          5.5    object  \n",
       "GarageYrBlt                          81                          5.5   float64  \n",
       "GarageFinish                         81                          5.5    object  \n",
       "GarageQual                           81                          5.5    object  \n",
       "GarageCond                           81                          5.5    object  \n",
       "BsmtExposure                         38                          2.6    object  \n",
       "BsmtFinType2                         38                          2.6    object  \n",
       "BsmtFinType1                         37                          2.5    object  \n",
       "BsmtCond                             37                          2.5    object  \n",
       "BsmtQual                             37                          2.5    object  \n",
       "MasVnrArea                          869                         59.5   float64  \n",
       "MasVnrType                            8                          0.5    object  \n",
       "Electrical                            1                          0.1    object  "
      ]
     },
     "execution_count": 3,
     "metadata": {},
     "output_type": "execute_result"
    }
   ],
   "source": [
    "# Summarize columns with missing values\n",
    "\n",
    "def missing_zero_values_table(df):\n",
    "        zero_val = (df == 0.00).astype(int).sum(axis = 0)\n",
    "        mis_val = df.isnull().sum()\n",
    "        mis_val_percent = 100 * mis_val / len(df)\n",
    "        mz_table = pd.concat([zero_val, mis_val, mis_val_percent], axis = 1)\n",
    "        mz_table = mz_table.rename(\n",
    "        columns = {0 : 'Zero Values', 1 : 'Missing Values', 2 : '% of Total Values'})\n",
    "        mz_table['Total Zero Missing Values'] = mz_table['Zero Values'] + mz_table['Missing Values']\n",
    "        mz_table['% Total Zero Missing Values'] = 100 * mz_table['Total Zero Missing Values'] / len(df)\n",
    "        mz_table['Data Type'] = df.dtypes\n",
    "        mz_table = mz_table[\n",
    "            mz_table.iloc[:,1] != 0].sort_values(\n",
    "        '% of Total Values', ascending = False).round(1)\n",
    "        print (\"There are \" + str(mz_table.shape[0]) + \" columns that have missing values.\")\n",
    "        return mz_table\n",
    "\n",
    "missing_zero_values_table(df)"
   ]
  },
  {
   "cell_type": "code",
   "execution_count": 4,
   "metadata": {},
   "outputs": [
    {
     "data": {
      "text/plain": [
       "(1460, 76)"
      ]
     },
     "execution_count": 4,
     "metadata": {},
     "output_type": "execute_result"
    }
   ],
   "source": [
    "# Drop columns containing more than 60% null values\n",
    "\n",
    "df.dropna(thresh = df.shape[0]*0.6, how = 'all', inplace = True, axis=1)\n",
    "df.shape"
   ]
  },
  {
   "cell_type": "code",
   "execution_count": 5,
   "metadata": {},
   "outputs": [
    {
     "name": "stdout",
     "output_type": "stream",
     "text": [
      "MasVnrArea_median value =  0.0\n"
     ]
    },
    {
     "data": {
      "image/png": "[encoded data removed]",
      "text/plain": [
       "<Figure size 288x144 with 1 Axes>"
      ]
     },
     "metadata": {
      "needs_background": "light"
     },
     "output_type": "display_data"
    }
   ],
   "source": [
    "# Check the value distribution in MasVnrArea, which has 861 zero values, nearly 60%.  \n",
    "\n",
    "plt.figure(figsize=(4,2))\n",
    "df['MasVnrArea'].hist()\n",
    "print('MasVnrArea_median value = ', df['MasVnrArea'].median())"
   ]
  },
  {
   "cell_type": "code",
   "execution_count": 6,
   "metadata": {},
   "outputs": [
    {
     "name": "stdout",
     "output_type": "stream",
     "text": [
      "There are 13 columns that have missing values.\n"
     ]
    },
    {
     "data": {
      "text/html": [
       "<div>\n",
       "<style scoped>\n",
       "    .dataframe tbody tr th:only-of-type {\n",
       "        vertical-align: middle;\n",
       "    }\n",
       "\n",
       "    .dataframe tbody tr th {\n",
       "        vertical-align: top;\n",
       "    }\n",
       "\n",
       "    .dataframe thead th {\n",
       "        text-align: right;\n",
       "    }\n",
       "</style>\n",
       "<table border=\"1\" class=\"dataframe\">\n",
       "  <thead>\n",
       "    <tr style=\"text-align: right;\">\n",
       "      <th></th>\n",
       "      <th>Zero Values</th>\n",
       "      <th>Missing Values</th>\n",
       "      <th>% of Total Values</th>\n",
       "      <th>Total Zero Missing Values</th>\n",
       "      <th>% Total Zero Missing Values</th>\n",
       "      <th>Data Type</th>\n",
       "    </tr>\n",
       "  </thead>\n",
       "  <tbody>\n",
       "    <tr>\n",
       "      <th>LotFrontage</th>\n",
       "      <td>0</td>\n",
       "      <td>259</td>\n",
       "      <td>17.7</td>\n",
       "      <td>259</td>\n",
       "      <td>17.7</td>\n",
       "      <td>float64</td>\n",
       "    </tr>\n",
       "    <tr>\n",
       "      <th>GarageType</th>\n",
       "      <td>0</td>\n",
       "      <td>81</td>\n",
       "      <td>5.5</td>\n",
       "      <td>81</td>\n",
       "      <td>5.5</td>\n",
       "      <td>object</td>\n",
       "    </tr>\n",
       "    <tr>\n",
       "      <th>GarageYrBlt</th>\n",
       "      <td>0</td>\n",
       "      <td>81</td>\n",
       "      <td>5.5</td>\n",
       "      <td>81</td>\n",
       "      <td>5.5</td>\n",
       "      <td>float64</td>\n",
       "    </tr>\n",
       "    <tr>\n",
       "      <th>GarageFinish</th>\n",
       "      <td>0</td>\n",
       "      <td>81</td>\n",
       "      <td>5.5</td>\n",
       "      <td>81</td>\n",
       "      <td>5.5</td>\n",
       "      <td>object</td>\n",
       "    </tr>\n",
       "    <tr>\n",
       "      <th>GarageQual</th>\n",
       "      <td>0</td>\n",
       "      <td>81</td>\n",
       "      <td>5.5</td>\n",
       "      <td>81</td>\n",
       "      <td>5.5</td>\n",
       "      <td>object</td>\n",
       "    </tr>\n",
       "    <tr>\n",
       "      <th>GarageCond</th>\n",
       "      <td>0</td>\n",
       "      <td>81</td>\n",
       "      <td>5.5</td>\n",
       "      <td>81</td>\n",
       "      <td>5.5</td>\n",
       "      <td>object</td>\n",
       "    </tr>\n",
       "    <tr>\n",
       "      <th>BsmtExposure</th>\n",
       "      <td>0</td>\n",
       "      <td>38</td>\n",
       "      <td>2.6</td>\n",
       "      <td>38</td>\n",
       "      <td>2.6</td>\n",
       "      <td>object</td>\n",
       "    </tr>\n",
       "    <tr>\n",
       "      <th>BsmtFinType2</th>\n",
       "      <td>0</td>\n",
       "      <td>38</td>\n",
       "      <td>2.6</td>\n",
       "      <td>38</td>\n",
       "      <td>2.6</td>\n",
       "      <td>object</td>\n",
       "    </tr>\n",
       "    <tr>\n",
       "      <th>BsmtQual</th>\n",
       "      <td>0</td>\n",
       "      <td>37</td>\n",
       "      <td>2.5</td>\n",
       "      <td>37</td>\n",
       "      <td>2.5</td>\n",
       "      <td>object</td>\n",
       "    </tr>\n",
       "    <tr>\n",
       "      <th>BsmtCond</th>\n",
       "      <td>0</td>\n",
       "      <td>37</td>\n",
       "      <td>2.5</td>\n",
       "      <td>37</td>\n",
       "      <td>2.5</td>\n",
       "      <td>object</td>\n",
       "    </tr>\n",
       "    <tr>\n",
       "      <th>BsmtFinType1</th>\n",
       "      <td>0</td>\n",
       "      <td>37</td>\n",
       "      <td>2.5</td>\n",
       "      <td>37</td>\n",
       "      <td>2.5</td>\n",
       "      <td>object</td>\n",
       "    </tr>\n",
       "    <tr>\n",
       "      <th>MasVnrType</th>\n",
       "      <td>0</td>\n",
       "      <td>8</td>\n",
       "      <td>0.5</td>\n",
       "      <td>8</td>\n",
       "      <td>0.5</td>\n",
       "      <td>object</td>\n",
       "    </tr>\n",
       "    <tr>\n",
       "      <th>Electrical</th>\n",
       "      <td>0</td>\n",
       "      <td>1</td>\n",
       "      <td>0.1</td>\n",
       "      <td>1</td>\n",
       "      <td>0.1</td>\n",
       "      <td>object</td>\n",
       "    </tr>\n",
       "  </tbody>\n",
       "</table>\n",
       "</div>"
      ],
      "text/plain": [
       "              Zero Values  Missing Values  % of Total Values  \\\n",
       "LotFrontage             0             259               17.7   \n",
       "GarageType              0              81                5.5   \n",
       "GarageYrBlt             0              81                5.5   \n",
       "GarageFinish            0              81                5.5   \n",
       "GarageQual              0              81                5.5   \n",
       "GarageCond              0              81                5.5   \n",
       "BsmtExposure            0              38                2.6   \n",
       "BsmtFinType2            0              38                2.6   \n",
       "BsmtQual                0              37                2.5   \n",
       "BsmtCond                0              37                2.5   \n",
       "BsmtFinType1            0              37                2.5   \n",
       "MasVnrType              0               8                0.5   \n",
       "Electrical              0               1                0.1   \n",
       "\n",
       "              Total Zero Missing Values  % Total Zero Missing Values Data Type  \n",
       "LotFrontage                         259                         17.7   float64  \n",
       "GarageType                           81                          5.5    object  \n",
       "GarageYrBlt                          81                          5.5   float64  \n",
       "GarageFinish                         81                          5.5    object  \n",
       "GarageQual                           81                          5.5    object  \n",
       "GarageCond                           81                          5.5    object  \n",
       "BsmtExposure                         38                          2.6    object  \n",
       "BsmtFinType2                         38                          2.6    object  \n",
       "BsmtQual                             37                          2.5    object  \n",
       "BsmtCond                             37                          2.5    object  \n",
       "BsmtFinType1                         37                          2.5    object  \n",
       "MasVnrType                            8                          0.5    object  \n",
       "Electrical                            1                          0.1    object  "
      ]
     },
     "execution_count": 6,
     "metadata": {},
     "output_type": "execute_result"
    }
   ],
   "source": [
    "# Data in MasVnrArea column are largely zeros and unlikely to be useful.  Thus will be dropped.\n",
    "\n",
    "df.drop(['MasVnrArea'], axis = 1, inplace = True)\n",
    "missing_zero_values_table(df)"
   ]
  },
  {
   "cell_type": "code",
   "execution_count": 7,
   "metadata": {},
   "outputs": [
    {
     "data": {
      "text/html": [
       "<div>\n",
       "<style scoped>\n",
       "    .dataframe tbody tr th:only-of-type {\n",
       "        vertical-align: middle;\n",
       "    }\n",
       "\n",
       "    .dataframe tbody tr th {\n",
       "        vertical-align: top;\n",
       "    }\n",
       "\n",
       "    .dataframe thead th {\n",
       "        text-align: right;\n",
       "    }\n",
       "</style>\n",
       "<table border=\"1\" class=\"dataframe\">\n",
       "  <thead>\n",
       "    <tr style=\"text-align: right;\">\n",
       "      <th></th>\n",
       "      <th>Id</th>\n",
       "      <th>MSSubClass</th>\n",
       "      <th>LotFrontage</th>\n",
       "      <th>LotArea</th>\n",
       "      <th>OverallQual</th>\n",
       "      <th>OverallCond</th>\n",
       "      <th>YearBuilt</th>\n",
       "      <th>YearRemodAdd</th>\n",
       "      <th>BsmtFinSF1</th>\n",
       "      <th>BsmtFinSF2</th>\n",
       "      <th>...</th>\n",
       "      <th>WoodDeckSF</th>\n",
       "      <th>OpenPorchSF</th>\n",
       "      <th>EnclosedPorch</th>\n",
       "      <th>3SsnPorch</th>\n",
       "      <th>ScreenPorch</th>\n",
       "      <th>PoolArea</th>\n",
       "      <th>MiscVal</th>\n",
       "      <th>MoSold</th>\n",
       "      <th>YrSold</th>\n",
       "      <th>SalePrice</th>\n",
       "    </tr>\n",
       "  </thead>\n",
       "  <tbody>\n",
       "    <tr>\n",
       "      <th>count</th>\n",
       "      <td>1460.000000</td>\n",
       "      <td>1460.000000</td>\n",
       "      <td>1460.000000</td>\n",
       "      <td>1460.000000</td>\n",
       "      <td>1460.000000</td>\n",
       "      <td>1460.000000</td>\n",
       "      <td>1460.000000</td>\n",
       "      <td>1460.000000</td>\n",
       "      <td>1460.000000</td>\n",
       "      <td>1460.000000</td>\n",
       "      <td>...</td>\n",
       "      <td>1460.000000</td>\n",
       "      <td>1460.000000</td>\n",
       "      <td>1460.000000</td>\n",
       "      <td>1460.000000</td>\n",
       "      <td>1460.000000</td>\n",
       "      <td>1460.000000</td>\n",
       "      <td>1460.000000</td>\n",
       "      <td>1460.000000</td>\n",
       "      <td>1460.000000</td>\n",
       "      <td>1460.000000</td>\n",
       "    </tr>\n",
       "    <tr>\n",
       "      <th>mean</th>\n",
       "      <td>730.500000</td>\n",
       "      <td>56.897260</td>\n",
       "      <td>70.049958</td>\n",
       "      <td>10516.828082</td>\n",
       "      <td>6.099315</td>\n",
       "      <td>5.575342</td>\n",
       "      <td>1971.267808</td>\n",
       "      <td>1984.865753</td>\n",
       "      <td>443.639726</td>\n",
       "      <td>46.549315</td>\n",
       "      <td>...</td>\n",
       "      <td>94.244521</td>\n",
       "      <td>46.660274</td>\n",
       "      <td>21.954110</td>\n",
       "      <td>3.409589</td>\n",
       "      <td>15.060959</td>\n",
       "      <td>2.758904</td>\n",
       "      <td>43.489041</td>\n",
       "      <td>6.321918</td>\n",
       "      <td>2007.815753</td>\n",
       "      <td>180921.195890</td>\n",
       "    </tr>\n",
       "    <tr>\n",
       "      <th>std</th>\n",
       "      <td>421.610009</td>\n",
       "      <td>42.300571</td>\n",
       "      <td>22.024023</td>\n",
       "      <td>9981.264932</td>\n",
       "      <td>1.382997</td>\n",
       "      <td>1.112799</td>\n",
       "      <td>30.202904</td>\n",
       "      <td>20.645407</td>\n",
       "      <td>456.098091</td>\n",
       "      <td>161.319273</td>\n",
       "      <td>...</td>\n",
       "      <td>125.338794</td>\n",
       "      <td>66.256028</td>\n",
       "      <td>61.119149</td>\n",
       "      <td>29.317331</td>\n",
       "      <td>55.757415</td>\n",
       "      <td>40.177307</td>\n",
       "      <td>496.123024</td>\n",
       "      <td>2.703626</td>\n",
       "      <td>1.328095</td>\n",
       "      <td>79442.502883</td>\n",
       "    </tr>\n",
       "    <tr>\n",
       "      <th>min</th>\n",
       "      <td>1.000000</td>\n",
       "      <td>20.000000</td>\n",
       "      <td>21.000000</td>\n",
       "      <td>1300.000000</td>\n",
       "      <td>1.000000</td>\n",
       "      <td>1.000000</td>\n",
       "      <td>1872.000000</td>\n",
       "      <td>1950.000000</td>\n",
       "      <td>0.000000</td>\n",
       "      <td>0.000000</td>\n",
       "      <td>...</td>\n",
       "      <td>0.000000</td>\n",
       "      <td>0.000000</td>\n",
       "      <td>0.000000</td>\n",
       "      <td>0.000000</td>\n",
       "      <td>0.000000</td>\n",
       "      <td>0.000000</td>\n",
       "      <td>0.000000</td>\n",
       "      <td>1.000000</td>\n",
       "      <td>2006.000000</td>\n",
       "      <td>34900.000000</td>\n",
       "    </tr>\n",
       "    <tr>\n",
       "      <th>25%</th>\n",
       "      <td>365.750000</td>\n",
       "      <td>20.000000</td>\n",
       "      <td>60.000000</td>\n",
       "      <td>7553.500000</td>\n",
       "      <td>5.000000</td>\n",
       "      <td>5.000000</td>\n",
       "      <td>1954.000000</td>\n",
       "      <td>1967.000000</td>\n",
       "      <td>0.000000</td>\n",
       "      <td>0.000000</td>\n",
       "      <td>...</td>\n",
       "      <td>0.000000</td>\n",
       "      <td>0.000000</td>\n",
       "      <td>0.000000</td>\n",
       "      <td>0.000000</td>\n",
       "      <td>0.000000</td>\n",
       "      <td>0.000000</td>\n",
       "      <td>0.000000</td>\n",
       "      <td>5.000000</td>\n",
       "      <td>2007.000000</td>\n",
       "      <td>129975.000000</td>\n",
       "    </tr>\n",
       "    <tr>\n",
       "      <th>50%</th>\n",
       "      <td>730.500000</td>\n",
       "      <td>50.000000</td>\n",
       "      <td>70.049958</td>\n",
       "      <td>9478.500000</td>\n",
       "      <td>6.000000</td>\n",
       "      <td>5.000000</td>\n",
       "      <td>1973.000000</td>\n",
       "      <td>1994.000000</td>\n",
       "      <td>383.500000</td>\n",
       "      <td>0.000000</td>\n",
       "      <td>...</td>\n",
       "      <td>0.000000</td>\n",
       "      <td>25.000000</td>\n",
       "      <td>0.000000</td>\n",
       "      <td>0.000000</td>\n",
       "      <td>0.000000</td>\n",
       "      <td>0.000000</td>\n",
       "      <td>0.000000</td>\n",
       "      <td>6.000000</td>\n",
       "      <td>2008.000000</td>\n",
       "      <td>163000.000000</td>\n",
       "    </tr>\n",
       "    <tr>\n",
       "      <th>75%</th>\n",
       "      <td>1095.250000</td>\n",
       "      <td>70.000000</td>\n",
       "      <td>79.000000</td>\n",
       "      <td>11601.500000</td>\n",
       "      <td>7.000000</td>\n",
       "      <td>6.000000</td>\n",
       "      <td>2000.000000</td>\n",
       "      <td>2004.000000</td>\n",
       "      <td>712.250000</td>\n",
       "      <td>0.000000</td>\n",
       "      <td>...</td>\n",
       "      <td>168.000000</td>\n",
       "      <td>68.000000</td>\n",
       "      <td>0.000000</td>\n",
       "      <td>0.000000</td>\n",
       "      <td>0.000000</td>\n",
       "      <td>0.000000</td>\n",
       "      <td>0.000000</td>\n",
       "      <td>8.000000</td>\n",
       "      <td>2009.000000</td>\n",
       "      <td>214000.000000</td>\n",
       "    </tr>\n",
       "    <tr>\n",
       "      <th>max</th>\n",
       "      <td>1460.000000</td>\n",
       "      <td>190.000000</td>\n",
       "      <td>313.000000</td>\n",
       "      <td>215245.000000</td>\n",
       "      <td>10.000000</td>\n",
       "      <td>9.000000</td>\n",
       "      <td>2010.000000</td>\n",
       "      <td>2010.000000</td>\n",
       "      <td>5644.000000</td>\n",
       "      <td>1474.000000</td>\n",
       "      <td>...</td>\n",
       "      <td>857.000000</td>\n",
       "      <td>547.000000</td>\n",
       "      <td>552.000000</td>\n",
       "      <td>508.000000</td>\n",
       "      <td>480.000000</td>\n",
       "      <td>738.000000</td>\n",
       "      <td>15500.000000</td>\n",
       "      <td>12.000000</td>\n",
       "      <td>2010.000000</td>\n",
       "      <td>755000.000000</td>\n",
       "    </tr>\n",
       "  </tbody>\n",
       "</table>\n",
       "<p>8 rows × 37 columns</p>\n",
       "</div>"
      ],
      "text/plain": [
       "                Id   MSSubClass  LotFrontage        LotArea  OverallQual  \\\n",
       "count  1460.000000  1460.000000  1460.000000    1460.000000  1460.000000   \n",
       "mean    730.500000    56.897260    70.049958   10516.828082     6.099315   \n",
       "std     421.610009    42.300571    22.024023    9981.264932     1.382997   \n",
       "min       1.000000    20.000000    21.000000    1300.000000     1.000000   \n",
       "25%     365.750000    20.000000    60.000000    7553.500000     5.000000   \n",
       "50%     730.500000    50.000000    70.049958    9478.500000     6.000000   \n",
       "75%    1095.250000    70.000000    79.000000   11601.500000     7.000000   \n",
       "max    1460.000000   190.000000   313.000000  215245.000000    10.000000   \n",
       "\n",
       "       OverallCond    YearBuilt  YearRemodAdd   BsmtFinSF1   BsmtFinSF2  ...  \\\n",
       "count  1460.000000  1460.000000   1460.000000  1460.000000  1460.000000  ...   \n",
       "mean      5.575342  1971.267808   1984.865753   443.639726    46.549315  ...   \n",
       "std       1.112799    30.202904     20.645407   456.098091   161.319273  ...   \n",
       "min       1.000000  1872.000000   1950.000000     0.000000     0.000000  ...   \n",
       "25%       5.000000  1954.000000   1967.000000     0.000000     0.000000  ...   \n",
       "50%       5.000000  1973.000000   1994.000000   383.500000     0.000000  ...   \n",
       "75%       6.000000  2000.000000   2004.000000   712.250000     0.000000  ...   \n",
       "max       9.000000  2010.000000   2010.000000  5644.000000  1474.000000  ...   \n",
       "\n",
       "        WoodDeckSF  OpenPorchSF  EnclosedPorch    3SsnPorch  ScreenPorch  \\\n",
       "count  1460.000000  1460.000000    1460.000000  1460.000000  1460.000000   \n",
       "mean     94.244521    46.660274      21.954110     3.409589    15.060959   \n",
       "std     125.338794    66.256028      61.119149    29.317331    55.757415   \n",
       "min       0.000000     0.000000       0.000000     0.000000     0.000000   \n",
       "25%       0.000000     0.000000       0.000000     0.000000     0.000000   \n",
       "50%       0.000000    25.000000       0.000000     0.000000     0.000000   \n",
       "75%     168.000000    68.000000       0.000000     0.000000     0.000000   \n",
       "max     857.000000   547.000000     552.000000   508.000000   480.000000   \n",
       "\n",
       "          PoolArea       MiscVal       MoSold       YrSold      SalePrice  \n",
       "count  1460.000000   1460.000000  1460.000000  1460.000000    1460.000000  \n",
       "mean      2.758904     43.489041     6.321918  2007.815753  180921.195890  \n",
       "std      40.177307    496.123024     2.703626     1.328095   79442.502883  \n",
       "min       0.000000      0.000000     1.000000  2006.000000   34900.000000  \n",
       "25%       0.000000      0.000000     5.000000  2007.000000  129975.000000  \n",
       "50%       0.000000      0.000000     6.000000  2008.000000  163000.000000  \n",
       "75%       0.000000      0.000000     8.000000  2009.000000  214000.000000  \n",
       "max     738.000000  15500.000000    12.000000  2010.000000  755000.000000  \n",
       "\n",
       "[8 rows x 37 columns]"
      ]
     },
     "execution_count": 7,
     "metadata": {},
     "output_type": "execute_result"
    }
   ],
   "source": [
    "# Fill null values in LotFrontage column with the average value\n",
    "\n",
    "df['LotFrontage'].fillna((df['LotFrontage'].mean()), inplace = True)\n",
    "df.describe()"
   ]
  },
  {
   "cell_type": "markdown",
   "metadata": {},
   "source": [
    "Replacing NA values with the average in the LotFrontage column did not change the mean for the column, thus it is a reasonable approach to preserve the column."
   ]
  },
  {
   "cell_type": "code",
   "execution_count": 8,
   "metadata": {},
   "outputs": [
    {
     "data": {
      "text/plain": [
       "<matplotlib.axes._subplots.AxesSubplot at 0x19f9a671fc8>"
      ]
     },
     "execution_count": 8,
     "metadata": {},
     "output_type": "execute_result"
    },
    {
     "data": {
      "image/png": "[encoded data removed]",
      "text/plain": [
       "<Figure size 720x504 with 2 Axes>"
      ]
     },
     "metadata": {
      "needs_background": "light"
     },
     "output_type": "display_data"
    }
   ],
   "source": [
    "# Check correlations among columns\n",
    "corr = df.corr()\n",
    "\n",
    "# Plot heatmap for corr\n",
    "import seaborn as sns\n",
    "plt.figure(figsize = (10, 7))\n",
    "sns.heatmap(corr)"
   ]
  },
  {
   "cell_type": "markdown",
   "metadata": {},
   "source": [
    "Based on the heatmap, one can see that some fields correlate more with SalePrice than others.  There are also ohter columns that are highly correlated with each other."
   ]
  },
  {
   "cell_type": "code",
   "execution_count": 9,
   "metadata": {},
   "outputs": [
    {
     "data": {
      "text/plain": [
       "SalePrice       1.000000\n",
       "OverallQual     0.790982\n",
       "GrLivArea       0.708624\n",
       "GarageCars      0.640409\n",
       "GarageArea      0.623431\n",
       "TotalBsmtSF     0.613581\n",
       "1stFlrSF        0.605852\n",
       "FullBath        0.560664\n",
       "TotRmsAbvGrd    0.533723\n",
       "YearBuilt       0.522897\n",
       "YearRemodAdd    0.507101\n",
       "GarageYrBlt     0.486362\n",
       "Fireplaces      0.466929\n",
       "BsmtFinSF1      0.386420\n",
       "LotFrontage     0.334901\n",
       "WoodDeckSF      0.324413\n",
       "2ndFlrSF        0.319334\n",
       "OpenPorchSF     0.315856\n",
       "HalfBath        0.284108\n",
       "LotArea         0.263843\n",
       "Name: SalePrice, dtype: float64"
      ]
     },
     "execution_count": 9,
     "metadata": {},
     "output_type": "execute_result"
    }
   ],
   "source": [
    "# Columns with the highest coorelation with SalePrice\n",
    "\n",
    "corr.SalePrice.sort_values(ascending=False).head(20)"
   ]
  },
  {
   "cell_type": "code",
   "execution_count": 10,
   "metadata": {},
   "outputs": [
    {
     "data": {
      "text/plain": [
       "GarageCars    GarageArea      0.882475\n",
       "GarageArea    GarageCars      0.882475\n",
       "YearBuilt     GarageYrBlt     0.825667\n",
       "GarageYrBlt   YearBuilt       0.825667\n",
       "TotRmsAbvGrd  GrLivArea       0.825489\n",
       "GrLivArea     TotRmsAbvGrd    0.825489\n",
       "TotalBsmtSF   1stFlrSF        0.819530\n",
       "1stFlrSF      TotalBsmtSF     0.819530\n",
       "OverallQual   SalePrice       0.790982\n",
       "SalePrice     OverallQual     0.790982\n",
       "GrLivArea     SalePrice       0.708624\n",
       "SalePrice     GrLivArea       0.708624\n",
       "2ndFlrSF      GrLivArea       0.687501\n",
       "GrLivArea     2ndFlrSF        0.687501\n",
       "TotRmsAbvGrd  BedroomAbvGr    0.676620\n",
       "BedroomAbvGr  TotRmsAbvGrd    0.676620\n",
       "BsmtFullBath  BsmtFinSF1      0.649212\n",
       "BsmtFinSF1    BsmtFullBath    0.649212\n",
       "GarageYrBlt   YearRemodAdd    0.642277\n",
       "YearRemodAdd  GarageYrBlt     0.642277\n",
       "SalePrice     GarageCars      0.640409\n",
       "GarageCars    SalePrice       0.640409\n",
       "FullBath      GrLivArea       0.630012\n",
       "GrLivArea     FullBath        0.630012\n",
       "GarageArea    SalePrice       0.623431\n",
       "SalePrice     GarageArea      0.623431\n",
       "TotRmsAbvGrd  2ndFlrSF        0.616423\n",
       "2ndFlrSF      TotRmsAbvGrd    0.616423\n",
       "SalePrice     TotalBsmtSF     0.613581\n",
       "TotalBsmtSF   SalePrice       0.613581\n",
       "2ndFlrSF      HalfBath        0.609707\n",
       "HalfBath      2ndFlrSF        0.609707\n",
       "SalePrice     1stFlrSF        0.605852\n",
       "1stFlrSF      SalePrice       0.605852\n",
       "GarageCars    OverallQual     0.600671\n",
       "OverallQual   GarageCars      0.600671\n",
       "GrLivArea     OverallQual     0.593007\n",
       "OverallQual   GrLivArea       0.593007\n",
       "YearRemodAdd  YearBuilt       0.592855\n",
       "YearBuilt     YearRemodAdd    0.592855\n",
       "dtype: float64"
      ]
     },
     "execution_count": 10,
     "metadata": {},
     "output_type": "execute_result"
    }
   ],
   "source": [
    "# Find highly correlated columns\n",
    "\n",
    "s = corr.unstack()\n",
    "so = s.sort_values(ascending = False)\n",
    "so[so!=1].head(40)"
   ]
  },
  {
   "cell_type": "markdown",
   "metadata": {},
   "source": [
    "Based on the values and description of the data, the first eight pairs are likely duplicate data. For example,\n",
    "   GarageCars indicates the \"Size of garage in car capacity\" while GarageArea indicates the \"Size of garage in square   feet\", they are just different ways to measure the size of the garage.  \n",
    "   The same likely holds true for YearBuilt&GarageYrBlt, TotalBsmtSF&1stFlrSF, TotRmsAbvGrd&GrLivArea.  \n",
    "   Continue down the list, 2ndFlrSF, BedroomAbvGr, BsmtFinSF1 are also likely to have similar information as their pairs.\n",
    "   Id is also not a useful parameter for predicting sales price and will be dropped as well."
   ]
  },
  {
   "cell_type": "code",
   "execution_count": 11,
   "metadata": {},
   "outputs": [],
   "source": [
    "df = df.drop(['Id','GarageCars','GarageYrBlt','TotRmsAbvGrd','TotalBsmtSF'], axis = 1)"
   ]
  },
  {
   "cell_type": "code",
   "execution_count": 12,
   "metadata": {},
   "outputs": [
    {
     "name": "stdout",
     "output_type": "stream",
     "text": [
      "There are 11 columns that have missing values.\n"
     ]
    },
    {
     "data": {
      "text/html": [
       "<div>\n",
       "<style scoped>\n",
       "    .dataframe tbody tr th:only-of-type {\n",
       "        vertical-align: middle;\n",
       "    }\n",
       "\n",
       "    .dataframe tbody tr th {\n",
       "        vertical-align: top;\n",
       "    }\n",
       "\n",
       "    .dataframe thead th {\n",
       "        text-align: right;\n",
       "    }\n",
       "</style>\n",
       "<table border=\"1\" class=\"dataframe\">\n",
       "  <thead>\n",
       "    <tr style=\"text-align: right;\">\n",
       "      <th></th>\n",
       "      <th>Zero Values</th>\n",
       "      <th>Missing Values</th>\n",
       "      <th>% of Total Values</th>\n",
       "      <th>Total Zero Missing Values</th>\n",
       "      <th>% Total Zero Missing Values</th>\n",
       "      <th>Data Type</th>\n",
       "    </tr>\n",
       "  </thead>\n",
       "  <tbody>\n",
       "    <tr>\n",
       "      <th>GarageType</th>\n",
       "      <td>0</td>\n",
       "      <td>81</td>\n",
       "      <td>5.5</td>\n",
       "      <td>81</td>\n",
       "      <td>5.5</td>\n",
       "      <td>object</td>\n",
       "    </tr>\n",
       "    <tr>\n",
       "      <th>GarageFinish</th>\n",
       "      <td>0</td>\n",
       "      <td>81</td>\n",
       "      <td>5.5</td>\n",
       "      <td>81</td>\n",
       "      <td>5.5</td>\n",
       "      <td>object</td>\n",
       "    </tr>\n",
       "    <tr>\n",
       "      <th>GarageQual</th>\n",
       "      <td>0</td>\n",
       "      <td>81</td>\n",
       "      <td>5.5</td>\n",
       "      <td>81</td>\n",
       "      <td>5.5</td>\n",
       "      <td>object</td>\n",
       "    </tr>\n",
       "    <tr>\n",
       "      <th>GarageCond</th>\n",
       "      <td>0</td>\n",
       "      <td>81</td>\n",
       "      <td>5.5</td>\n",
       "      <td>81</td>\n",
       "      <td>5.5</td>\n",
       "      <td>object</td>\n",
       "    </tr>\n",
       "    <tr>\n",
       "      <th>BsmtExposure</th>\n",
       "      <td>0</td>\n",
       "      <td>38</td>\n",
       "      <td>2.6</td>\n",
       "      <td>38</td>\n",
       "      <td>2.6</td>\n",
       "      <td>object</td>\n",
       "    </tr>\n",
       "    <tr>\n",
       "      <th>BsmtFinType2</th>\n",
       "      <td>0</td>\n",
       "      <td>38</td>\n",
       "      <td>2.6</td>\n",
       "      <td>38</td>\n",
       "      <td>2.6</td>\n",
       "      <td>object</td>\n",
       "    </tr>\n",
       "    <tr>\n",
       "      <th>BsmtQual</th>\n",
       "      <td>0</td>\n",
       "      <td>37</td>\n",
       "      <td>2.5</td>\n",
       "      <td>37</td>\n",
       "      <td>2.5</td>\n",
       "      <td>object</td>\n",
       "    </tr>\n",
       "    <tr>\n",
       "      <th>BsmtCond</th>\n",
       "      <td>0</td>\n",
       "      <td>37</td>\n",
       "      <td>2.5</td>\n",
       "      <td>37</td>\n",
       "      <td>2.5</td>\n",
       "      <td>object</td>\n",
       "    </tr>\n",
       "    <tr>\n",
       "      <th>BsmtFinType1</th>\n",
       "      <td>0</td>\n",
       "      <td>37</td>\n",
       "      <td>2.5</td>\n",
       "      <td>37</td>\n",
       "      <td>2.5</td>\n",
       "      <td>object</td>\n",
       "    </tr>\n",
       "    <tr>\n",
       "      <th>MasVnrType</th>\n",
       "      <td>0</td>\n",
       "      <td>8</td>\n",
       "      <td>0.5</td>\n",
       "      <td>8</td>\n",
       "      <td>0.5</td>\n",
       "      <td>object</td>\n",
       "    </tr>\n",
       "    <tr>\n",
       "      <th>Electrical</th>\n",
       "      <td>0</td>\n",
       "      <td>1</td>\n",
       "      <td>0.1</td>\n",
       "      <td>1</td>\n",
       "      <td>0.1</td>\n",
       "      <td>object</td>\n",
       "    </tr>\n",
       "  </tbody>\n",
       "</table>\n",
       "</div>"
      ],
      "text/plain": [
       "              Zero Values  Missing Values  % of Total Values  \\\n",
       "GarageType              0              81                5.5   \n",
       "GarageFinish            0              81                5.5   \n",
       "GarageQual              0              81                5.5   \n",
       "GarageCond              0              81                5.5   \n",
       "BsmtExposure            0              38                2.6   \n",
       "BsmtFinType2            0              38                2.6   \n",
       "BsmtQual                0              37                2.5   \n",
       "BsmtCond                0              37                2.5   \n",
       "BsmtFinType1            0              37                2.5   \n",
       "MasVnrType              0               8                0.5   \n",
       "Electrical              0               1                0.1   \n",
       "\n",
       "              Total Zero Missing Values  % Total Zero Missing Values Data Type  \n",
       "GarageType                           81                          5.5    object  \n",
       "GarageFinish                         81                          5.5    object  \n",
       "GarageQual                           81                          5.5    object  \n",
       "GarageCond                           81                          5.5    object  \n",
       "BsmtExposure                         38                          2.6    object  \n",
       "BsmtFinType2                         38                          2.6    object  \n",
       "BsmtQual                             37                          2.5    object  \n",
       "BsmtCond                             37                          2.5    object  \n",
       "BsmtFinType1                         37                          2.5    object  \n",
       "MasVnrType                            8                          0.5    object  \n",
       "Electrical                            1                          0.1    object  "
      ]
     },
     "execution_count": 12,
     "metadata": {},
     "output_type": "execute_result"
    }
   ],
   "source": [
    "# Check for missing values again\n",
    "missing_zero_values_table(df)"
   ]
  },
  {
   "cell_type": "markdown",
   "metadata": {},
   "source": [
    "Among the four columns related to Garage that still have missing values, \"GarageType\" refers to the Garage \n",
    "location, \"GarageFinish\" refers to the Interior finish of the garage, \"GarageQual\" refers to Garage quality,\n",
    "\"GarageCond\" refers to Garage condition.  I concluded that \"GarageCond\" should be a sufficient parameter to evalute \n",
    "the garage condition.  The other three will be dropped."
   ]
  },
  {
   "cell_type": "code",
   "execution_count": 13,
   "metadata": {},
   "outputs": [],
   "source": [
    "df = df.drop(['GarageType', 'GarageFinish', 'GarageQual'], axis = 1)"
   ]
  },
  {
   "cell_type": "markdown",
   "metadata": {},
   "source": [
    "Among the five columns related to basement that still have missing values, \"BsmtExposure\" refers to walkout or \n",
    "garden level walls, \"BsmtFinType2\" is the rating of basement finished area (if multiple types), \"BsmtQual\" \n",
    "evaluates the height of the basement, \"BsmtCond\" evaluates the general condition of the basement, \n",
    "\"BsmtFinType1\" is the rating of basement finished area.  I concluded that \"BsmtCond\" should be a sufficient \n",
    "parameter to evalute the basement condition."
   ]
  },
  {
   "cell_type": "code",
   "execution_count": 14,
   "metadata": {},
   "outputs": [],
   "source": [
    "df = df.drop(['BsmtExposure', 'BsmtFinType2', 'BsmtQual', 'BsmtFinType1'], axis = 1)"
   ]
  },
  {
   "cell_type": "code",
   "execution_count": 15,
   "metadata": {},
   "outputs": [
    {
     "name": "stdout",
     "output_type": "stream",
     "text": [
      "There are 4 columns that have missing values.\n"
     ]
    },
    {
     "data": {
      "text/html": [
       "<div>\n",
       "<style scoped>\n",
       "    .dataframe tbody tr th:only-of-type {\n",
       "        vertical-align: middle;\n",
       "    }\n",
       "\n",
       "    .dataframe tbody tr th {\n",
       "        vertical-align: top;\n",
       "    }\n",
       "\n",
       "    .dataframe thead th {\n",
       "        text-align: right;\n",
       "    }\n",
       "</style>\n",
       "<table border=\"1\" class=\"dataframe\">\n",
       "  <thead>\n",
       "    <tr style=\"text-align: right;\">\n",
       "      <th></th>\n",
       "      <th>Zero Values</th>\n",
       "      <th>Missing Values</th>\n",
       "      <th>% of Total Values</th>\n",
       "      <th>Total Zero Missing Values</th>\n",
       "      <th>% Total Zero Missing Values</th>\n",
       "      <th>Data Type</th>\n",
       "    </tr>\n",
       "  </thead>\n",
       "  <tbody>\n",
       "    <tr>\n",
       "      <th>GarageCond</th>\n",
       "      <td>0</td>\n",
       "      <td>81</td>\n",
       "      <td>5.5</td>\n",
       "      <td>81</td>\n",
       "      <td>5.5</td>\n",
       "      <td>object</td>\n",
       "    </tr>\n",
       "    <tr>\n",
       "      <th>BsmtCond</th>\n",
       "      <td>0</td>\n",
       "      <td>37</td>\n",
       "      <td>2.5</td>\n",
       "      <td>37</td>\n",
       "      <td>2.5</td>\n",
       "      <td>object</td>\n",
       "    </tr>\n",
       "    <tr>\n",
       "      <th>MasVnrType</th>\n",
       "      <td>0</td>\n",
       "      <td>8</td>\n",
       "      <td>0.5</td>\n",
       "      <td>8</td>\n",
       "      <td>0.5</td>\n",
       "      <td>object</td>\n",
       "    </tr>\n",
       "    <tr>\n",
       "      <th>Electrical</th>\n",
       "      <td>0</td>\n",
       "      <td>1</td>\n",
       "      <td>0.1</td>\n",
       "      <td>1</td>\n",
       "      <td>0.1</td>\n",
       "      <td>object</td>\n",
       "    </tr>\n",
       "  </tbody>\n",
       "</table>\n",
       "</div>"
      ],
      "text/plain": [
       "            Zero Values  Missing Values  % of Total Values  \\\n",
       "GarageCond            0              81                5.5   \n",
       "BsmtCond              0              37                2.5   \n",
       "MasVnrType            0               8                0.5   \n",
       "Electrical            0               1                0.1   \n",
       "\n",
       "            Total Zero Missing Values  % Total Zero Missing Values Data Type  \n",
       "GarageCond                         81                          5.5    object  \n",
       "BsmtCond                           37                          2.5    object  \n",
       "MasVnrType                          8                          0.5    object  \n",
       "Electrical                          1                          0.1    object  "
      ]
     },
     "execution_count": 15,
     "metadata": {},
     "output_type": "execute_result"
    }
   ],
   "source": [
    "# Check for missing values again\n",
    "missing_zero_values_table(df)"
   ]
  },
  {
   "cell_type": "markdown",
   "metadata": {},
   "source": [
    "Since the total missing values now only comprised of less than 10% of the total data, I decided to preserve the features and drop the rows containing missing values."
   ]
  },
  {
   "cell_type": "code",
   "execution_count": 16,
   "metadata": {},
   "outputs": [
    {
     "name": "stdout",
     "output_type": "stream",
     "text": [
      "There are 0 columns that have missing values.\n"
     ]
    },
    {
     "data": {
      "text/html": [
       "<div>\n",
       "<style scoped>\n",
       "    .dataframe tbody tr th:only-of-type {\n",
       "        vertical-align: middle;\n",
       "    }\n",
       "\n",
       "    .dataframe tbody tr th {\n",
       "        vertical-align: top;\n",
       "    }\n",
       "\n",
       "    .dataframe thead th {\n",
       "        text-align: right;\n",
       "    }\n",
       "</style>\n",
       "<table border=\"1\" class=\"dataframe\">\n",
       "  <thead>\n",
       "    <tr style=\"text-align: right;\">\n",
       "      <th></th>\n",
       "      <th>Zero Values</th>\n",
       "      <th>Missing Values</th>\n",
       "      <th>% of Total Values</th>\n",
       "      <th>Total Zero Missing Values</th>\n",
       "      <th>% Total Zero Missing Values</th>\n",
       "      <th>Data Type</th>\n",
       "    </tr>\n",
       "  </thead>\n",
       "  <tbody>\n",
       "  </tbody>\n",
       "</table>\n",
       "</div>"
      ],
      "text/plain": [
       "Empty DataFrame\n",
       "Columns: [Zero Values, Missing Values, % of Total Values, Total Zero Missing Values, % Total Zero Missing Values, Data Type]\n",
       "Index: []"
      ]
     },
     "execution_count": 16,
     "metadata": {},
     "output_type": "execute_result"
    }
   ],
   "source": [
    "df.dropna(inplace = True)\n",
    "\n",
    "# Check for missing values again\n",
    "missing_zero_values_table(df)"
   ]
  },
  {
   "cell_type": "code",
   "execution_count": 17,
   "metadata": {},
   "outputs": [
    {
     "data": {
      "text/plain": [
       "True    1340\n",
       "dtype: int64"
      ]
     },
     "execution_count": 17,
     "metadata": {},
     "output_type": "execute_result"
    }
   ],
   "source": [
    "# Check to make sure that the dates make sense. \n",
    "\n",
    "c = df['YearRemodAdd'] >= df['YearBuilt']\n",
    "c.value_counts()"
   ]
  },
  {
   "cell_type": "code",
   "execution_count": 18,
   "metadata": {},
   "outputs": [
    {
     "data": {
      "text/html": [
       "<div>\n",
       "<style scoped>\n",
       "    .dataframe tbody tr th:only-of-type {\n",
       "        vertical-align: middle;\n",
       "    }\n",
       "\n",
       "    .dataframe tbody tr th {\n",
       "        vertical-align: top;\n",
       "    }\n",
       "\n",
       "    .dataframe thead th {\n",
       "        text-align: right;\n",
       "    }\n",
       "</style>\n",
       "<table border=\"1\" class=\"dataframe\">\n",
       "  <thead>\n",
       "    <tr style=\"text-align: right;\">\n",
       "      <th></th>\n",
       "      <th>MSSubClass</th>\n",
       "      <th>MSZoning</th>\n",
       "      <th>LotFrontage</th>\n",
       "      <th>LotArea</th>\n",
       "      <th>Street</th>\n",
       "      <th>LotShape</th>\n",
       "      <th>LandContour</th>\n",
       "      <th>Utilities</th>\n",
       "      <th>LotConfig</th>\n",
       "      <th>LandSlope</th>\n",
       "      <th>...</th>\n",
       "      <th>EnclosedPorch</th>\n",
       "      <th>3SsnPorch</th>\n",
       "      <th>ScreenPorch</th>\n",
       "      <th>PoolArea</th>\n",
       "      <th>MiscVal</th>\n",
       "      <th>MoSold</th>\n",
       "      <th>YrSold</th>\n",
       "      <th>SaleType</th>\n",
       "      <th>SaleCondition</th>\n",
       "      <th>SalePrice</th>\n",
       "    </tr>\n",
       "  </thead>\n",
       "  <tbody>\n",
       "    <tr>\n",
       "      <th>0</th>\n",
       "      <td>60</td>\n",
       "      <td>RL</td>\n",
       "      <td>65.0</td>\n",
       "      <td>8450</td>\n",
       "      <td>Pave</td>\n",
       "      <td>Reg</td>\n",
       "      <td>Lvl</td>\n",
       "      <td>AllPub</td>\n",
       "      <td>Inside</td>\n",
       "      <td>Gtl</td>\n",
       "      <td>...</td>\n",
       "      <td>0</td>\n",
       "      <td>0</td>\n",
       "      <td>0</td>\n",
       "      <td>0</td>\n",
       "      <td>0</td>\n",
       "      <td>2</td>\n",
       "      <td>2008</td>\n",
       "      <td>WD</td>\n",
       "      <td>Normal</td>\n",
       "      <td>208500</td>\n",
       "    </tr>\n",
       "    <tr>\n",
       "      <th>1</th>\n",
       "      <td>20</td>\n",
       "      <td>RL</td>\n",
       "      <td>80.0</td>\n",
       "      <td>9600</td>\n",
       "      <td>Pave</td>\n",
       "      <td>Reg</td>\n",
       "      <td>Lvl</td>\n",
       "      <td>AllPub</td>\n",
       "      <td>FR2</td>\n",
       "      <td>Gtl</td>\n",
       "      <td>...</td>\n",
       "      <td>0</td>\n",
       "      <td>0</td>\n",
       "      <td>0</td>\n",
       "      <td>0</td>\n",
       "      <td>0</td>\n",
       "      <td>5</td>\n",
       "      <td>2007</td>\n",
       "      <td>WD</td>\n",
       "      <td>Normal</td>\n",
       "      <td>181500</td>\n",
       "    </tr>\n",
       "    <tr>\n",
       "      <th>2</th>\n",
       "      <td>60</td>\n",
       "      <td>RL</td>\n",
       "      <td>68.0</td>\n",
       "      <td>11250</td>\n",
       "      <td>Pave</td>\n",
       "      <td>IR1</td>\n",
       "      <td>Lvl</td>\n",
       "      <td>AllPub</td>\n",
       "      <td>Inside</td>\n",
       "      <td>Gtl</td>\n",
       "      <td>...</td>\n",
       "      <td>0</td>\n",
       "      <td>0</td>\n",
       "      <td>0</td>\n",
       "      <td>0</td>\n",
       "      <td>0</td>\n",
       "      <td>9</td>\n",
       "      <td>2008</td>\n",
       "      <td>WD</td>\n",
       "      <td>Normal</td>\n",
       "      <td>223500</td>\n",
       "    </tr>\n",
       "  </tbody>\n",
       "</table>\n",
       "<p>3 rows × 63 columns</p>\n",
       "</div>"
      ],
      "text/plain": [
       "   MSSubClass MSZoning  LotFrontage  LotArea Street LotShape LandContour  \\\n",
       "0          60       RL         65.0     8450   Pave      Reg         Lvl   \n",
       "1          20       RL         80.0     9600   Pave      Reg         Lvl   \n",
       "2          60       RL         68.0    11250   Pave      IR1         Lvl   \n",
       "\n",
       "  Utilities LotConfig LandSlope  ... EnclosedPorch 3SsnPorch ScreenPorch  \\\n",
       "0    AllPub    Inside       Gtl  ...             0         0           0   \n",
       "1    AllPub       FR2       Gtl  ...             0         0           0   \n",
       "2    AllPub    Inside       Gtl  ...             0         0           0   \n",
       "\n",
       "  PoolArea MiscVal  MoSold  YrSold  SaleType  SaleCondition SalePrice  \n",
       "0        0       0       2    2008        WD         Normal    208500  \n",
       "1        0       0       5    2007        WD         Normal    181500  \n",
       "2        0       0       9    2008        WD         Normal    223500  \n",
       "\n",
       "[3 rows x 63 columns]"
      ]
     },
     "execution_count": 18,
     "metadata": {},
     "output_type": "execute_result"
    }
   ],
   "source": [
    "df.head(3)"
   ]
  },
  {
   "cell_type": "markdown",
   "metadata": {},
   "source": [
    "#### Transforming object columns to categorical variables"
   ]
  },
  {
   "cell_type": "code",
   "execution_count": 19,
   "metadata": {},
   "outputs": [
    {
     "data": {
      "text/plain": [
       "object     31\n",
       "int64      31\n",
       "float64     1\n",
       "dtype: int64"
      ]
     },
     "execution_count": 19,
     "metadata": {},
     "output_type": "execute_result"
    }
   ],
   "source": [
    "df.dtypes.value_counts()"
   ]
  },
  {
   "cell_type": "code",
   "execution_count": 20,
   "metadata": {},
   "outputs": [
    {
     "data": {
      "text/plain": [
       "Index(['1stFlrSF', '2ndFlrSF', '3SsnPorch', 'BedroomAbvGr', 'BsmtFinSF1',\n",
       "       'BsmtFinSF2', 'BsmtFullBath', 'BsmtHalfBath', 'BsmtUnfSF',\n",
       "       'EnclosedPorch', 'Fireplaces', 'FullBath', 'GarageArea', 'GrLivArea',\n",
       "       'HalfBath', 'KitchenAbvGr', 'LotArea', 'LotFrontage', 'LowQualFinSF',\n",
       "       'MSSubClass', 'MiscVal', 'MoSold', 'OpenPorchSF', 'OverallCond',\n",
       "       'OverallQual', 'PoolArea', 'SalePrice', 'ScreenPorch', 'WoodDeckSF',\n",
       "       'YearBuilt', 'YearRemodAdd', 'YrSold'],\n",
       "      dtype='object')"
      ]
     },
     "execution_count": 20,
     "metadata": {},
     "output_type": "execute_result"
    }
   ],
   "source": [
    "# List of numeric columns\n",
    "\n",
    "numerics = ['int64', 'float64']\n",
    "n_cols = df.select_dtypes(include = numerics).columns\n",
    "n_cols.sort_values()"
   ]
  },
  {
   "cell_type": "code",
   "execution_count": 21,
   "metadata": {},
   "outputs": [
    {
     "data": {
      "text/plain": [
       "32"
      ]
     },
     "execution_count": 21,
     "metadata": {},
     "output_type": "execute_result"
    }
   ],
   "source": [
    "len(n_cols)"
   ]
  },
  {
   "cell_type": "code",
   "execution_count": 22,
   "metadata": {},
   "outputs": [
    {
     "data": {
      "text/plain": [
       "Index(['BldgType', 'BsmtCond', 'CentralAir', 'Condition1', 'Condition2',\n",
       "       'Electrical', 'ExterCond', 'ExterQual', 'Exterior1st', 'Exterior2nd',\n",
       "       'Foundation', 'Functional', 'GarageCond', 'Heating', 'HeatingQC',\n",
       "       'HouseStyle', 'KitchenQual', 'LandContour', 'LandSlope', 'LotConfig',\n",
       "       'LotShape', 'MSZoning', 'MasVnrType', 'Neighborhood', 'PavedDrive',\n",
       "       'RoofMatl', 'RoofStyle', 'SaleCondition', 'SaleType', 'Street',\n",
       "       'Utilities'],\n",
       "      dtype='object')"
      ]
     },
     "execution_count": 22,
     "metadata": {},
     "output_type": "execute_result"
    }
   ],
   "source": [
    "# List of non-numeric columns\n",
    "\n",
    "o_cols = df.select_dtypes(include=['object']).columns\n",
    "o_cols.sort_values()"
   ]
  },
  {
   "cell_type": "code",
   "execution_count": 23,
   "metadata": {},
   "outputs": [
    {
     "data": {
      "text/plain": [
       "31"
      ]
     },
     "execution_count": 23,
     "metadata": {},
     "output_type": "execute_result"
    }
   ],
   "source": [
    "len(o_cols)"
   ]
  },
  {
   "cell_type": "code",
   "execution_count": 24,
   "metadata": {},
   "outputs": [
    {
     "data": {
      "text/html": [
       "<div>\n",
       "<style scoped>\n",
       "    .dataframe tbody tr th:only-of-type {\n",
       "        vertical-align: middle;\n",
       "    }\n",
       "\n",
       "    .dataframe tbody tr th {\n",
       "        vertical-align: top;\n",
       "    }\n",
       "\n",
       "    .dataframe thead th {\n",
       "        text-align: right;\n",
       "    }\n",
       "</style>\n",
       "<table border=\"1\" class=\"dataframe\">\n",
       "  <thead>\n",
       "    <tr style=\"text-align: right;\">\n",
       "      <th></th>\n",
       "      <th>MSSubClass</th>\n",
       "      <th>LotFrontage</th>\n",
       "      <th>LotArea</th>\n",
       "      <th>OverallQual</th>\n",
       "      <th>OverallCond</th>\n",
       "      <th>YearBuilt</th>\n",
       "      <th>YearRemodAdd</th>\n",
       "      <th>BsmtFinSF1</th>\n",
       "      <th>BsmtFinSF2</th>\n",
       "      <th>BsmtUnfSF</th>\n",
       "      <th>...</th>\n",
       "      <th>SaleTypeConLw</th>\n",
       "      <th>SaleTypeNew</th>\n",
       "      <th>SaleTypeOth</th>\n",
       "      <th>SaleTypeWD</th>\n",
       "      <th>SaleConditionAbnorml</th>\n",
       "      <th>SaleConditionAdjLand</th>\n",
       "      <th>SaleConditionAlloca</th>\n",
       "      <th>SaleConditionFamily</th>\n",
       "      <th>SaleConditionNormal</th>\n",
       "      <th>SaleConditionPartial</th>\n",
       "    </tr>\n",
       "  </thead>\n",
       "  <tbody>\n",
       "    <tr>\n",
       "      <th>0</th>\n",
       "      <td>60</td>\n",
       "      <td>65.0</td>\n",
       "      <td>8450</td>\n",
       "      <td>7</td>\n",
       "      <td>5</td>\n",
       "      <td>2003</td>\n",
       "      <td>2003</td>\n",
       "      <td>706</td>\n",
       "      <td>0</td>\n",
       "      <td>150</td>\n",
       "      <td>...</td>\n",
       "      <td>0</td>\n",
       "      <td>0</td>\n",
       "      <td>0</td>\n",
       "      <td>1</td>\n",
       "      <td>0</td>\n",
       "      <td>0</td>\n",
       "      <td>0</td>\n",
       "      <td>0</td>\n",
       "      <td>1</td>\n",
       "      <td>0</td>\n",
       "    </tr>\n",
       "    <tr>\n",
       "      <th>1</th>\n",
       "      <td>20</td>\n",
       "      <td>80.0</td>\n",
       "      <td>9600</td>\n",
       "      <td>6</td>\n",
       "      <td>8</td>\n",
       "      <td>1976</td>\n",
       "      <td>1976</td>\n",
       "      <td>978</td>\n",
       "      <td>0</td>\n",
       "      <td>284</td>\n",
       "      <td>...</td>\n",
       "      <td>0</td>\n",
       "      <td>0</td>\n",
       "      <td>0</td>\n",
       "      <td>1</td>\n",
       "      <td>0</td>\n",
       "      <td>0</td>\n",
       "      <td>0</td>\n",
       "      <td>0</td>\n",
       "      <td>1</td>\n",
       "      <td>0</td>\n",
       "    </tr>\n",
       "    <tr>\n",
       "      <th>2</th>\n",
       "      <td>60</td>\n",
       "      <td>68.0</td>\n",
       "      <td>11250</td>\n",
       "      <td>7</td>\n",
       "      <td>5</td>\n",
       "      <td>2001</td>\n",
       "      <td>2002</td>\n",
       "      <td>486</td>\n",
       "      <td>0</td>\n",
       "      <td>434</td>\n",
       "      <td>...</td>\n",
       "      <td>0</td>\n",
       "      <td>0</td>\n",
       "      <td>0</td>\n",
       "      <td>1</td>\n",
       "      <td>0</td>\n",
       "      <td>0</td>\n",
       "      <td>0</td>\n",
       "      <td>0</td>\n",
       "      <td>1</td>\n",
       "      <td>0</td>\n",
       "    </tr>\n",
       "  </tbody>\n",
       "</table>\n",
       "<p>3 rows × 227 columns</p>\n",
       "</div>"
      ],
      "text/plain": [
       "   MSSubClass  LotFrontage  LotArea  OverallQual  OverallCond  YearBuilt  \\\n",
       "0          60         65.0     8450            7            5       2003   \n",
       "1          20         80.0     9600            6            8       1976   \n",
       "2          60         68.0    11250            7            5       2001   \n",
       "\n",
       "   YearRemodAdd  BsmtFinSF1  BsmtFinSF2  BsmtUnfSF  ...  SaleTypeConLw  \\\n",
       "0          2003         706           0        150  ...              0   \n",
       "1          1976         978           0        284  ...              0   \n",
       "2          2002         486           0        434  ...              0   \n",
       "\n",
       "   SaleTypeNew  SaleTypeOth  SaleTypeWD  SaleConditionAbnorml  \\\n",
       "0            0            0           1                     0   \n",
       "1            0            0           1                     0   \n",
       "2            0            0           1                     0   \n",
       "\n",
       "   SaleConditionAdjLand  SaleConditionAlloca  SaleConditionFamily  \\\n",
       "0                     0                    0                    0   \n",
       "1                     0                    0                    0   \n",
       "2                     0                    0                    0   \n",
       "\n",
       "   SaleConditionNormal  SaleConditionPartial  \n",
       "0                    1                     0  \n",
       "1                    1                     0  \n",
       "2                    1                     0  \n",
       "\n",
       "[3 rows x 227 columns]"
      ]
     },
     "execution_count": 24,
     "metadata": {},
     "output_type": "execute_result"
    }
   ],
   "source": [
    "# Change string data type to categorical values and create dummy variable for the text columns\n",
    "\n",
    "for col in o_cols:\n",
    "    df[col] = df[col].astype('category')\n",
    "\n",
    "for col in o_cols:\n",
    "    col_dummies = pd.get_dummies(df[col]).rename(columns = lambda x: col + str(x))\n",
    "    df = pd.concat([df, col_dummies], axis=1)\n",
    "    del df[col]\n",
    "\n",
    "df.head(3)"
   ]
  },
  {
   "cell_type": "code",
   "execution_count": 25,
   "metadata": {},
   "outputs": [
    {
     "data": {
      "text/html": [
       "<div>\n",
       "<style scoped>\n",
       "    .dataframe tbody tr th:only-of-type {\n",
       "        vertical-align: middle;\n",
       "    }\n",
       "\n",
       "    .dataframe tbody tr th {\n",
       "        vertical-align: top;\n",
       "    }\n",
       "\n",
       "    .dataframe thead th {\n",
       "        text-align: right;\n",
       "    }\n",
       "</style>\n",
       "<table border=\"1\" class=\"dataframe\">\n",
       "  <thead>\n",
       "    <tr style=\"text-align: right;\">\n",
       "      <th></th>\n",
       "      <th>SalePrice</th>\n",
       "      <th>OverallQual</th>\n",
       "      <th>GrLivArea</th>\n",
       "      <th>GarageArea</th>\n",
       "      <th>1stFlrSF</th>\n",
       "      <th>FullBath</th>\n",
       "      <th>KitchenQualEx</th>\n",
       "      <th>YearBuilt</th>\n",
       "      <th>YearRemodAdd</th>\n",
       "      <th>FoundationPConc</th>\n",
       "      <th>...</th>\n",
       "      <th>NeighborhoodNAmes</th>\n",
       "      <th>RoofStyleGable</th>\n",
       "      <th>SaleTypeWD</th>\n",
       "      <th>LotShapeReg</th>\n",
       "      <th>MSZoningRM</th>\n",
       "      <th>HeatingQCTA</th>\n",
       "      <th>MasVnrTypeNone</th>\n",
       "      <th>FoundationCBlock</th>\n",
       "      <th>KitchenQualTA</th>\n",
       "      <th>ExterQualTA</th>\n",
       "    </tr>\n",
       "  </thead>\n",
       "  <tbody>\n",
       "    <tr>\n",
       "      <th>0</th>\n",
       "      <td>208500</td>\n",
       "      <td>7</td>\n",
       "      <td>1710</td>\n",
       "      <td>548</td>\n",
       "      <td>856</td>\n",
       "      <td>2</td>\n",
       "      <td>0</td>\n",
       "      <td>2003</td>\n",
       "      <td>2003</td>\n",
       "      <td>1</td>\n",
       "      <td>...</td>\n",
       "      <td>0</td>\n",
       "      <td>1</td>\n",
       "      <td>1</td>\n",
       "      <td>1</td>\n",
       "      <td>0</td>\n",
       "      <td>0</td>\n",
       "      <td>0</td>\n",
       "      <td>0</td>\n",
       "      <td>0</td>\n",
       "      <td>0</td>\n",
       "    </tr>\n",
       "    <tr>\n",
       "      <th>1</th>\n",
       "      <td>181500</td>\n",
       "      <td>6</td>\n",
       "      <td>1262</td>\n",
       "      <td>460</td>\n",
       "      <td>1262</td>\n",
       "      <td>2</td>\n",
       "      <td>0</td>\n",
       "      <td>1976</td>\n",
       "      <td>1976</td>\n",
       "      <td>0</td>\n",
       "      <td>...</td>\n",
       "      <td>0</td>\n",
       "      <td>1</td>\n",
       "      <td>1</td>\n",
       "      <td>1</td>\n",
       "      <td>0</td>\n",
       "      <td>0</td>\n",
       "      <td>1</td>\n",
       "      <td>1</td>\n",
       "      <td>1</td>\n",
       "      <td>1</td>\n",
       "    </tr>\n",
       "    <tr>\n",
       "      <th>2</th>\n",
       "      <td>223500</td>\n",
       "      <td>7</td>\n",
       "      <td>1786</td>\n",
       "      <td>608</td>\n",
       "      <td>920</td>\n",
       "      <td>2</td>\n",
       "      <td>0</td>\n",
       "      <td>2001</td>\n",
       "      <td>2002</td>\n",
       "      <td>1</td>\n",
       "      <td>...</td>\n",
       "      <td>0</td>\n",
       "      <td>1</td>\n",
       "      <td>1</td>\n",
       "      <td>0</td>\n",
       "      <td>0</td>\n",
       "      <td>0</td>\n",
       "      <td>0</td>\n",
       "      <td>0</td>\n",
       "      <td>0</td>\n",
       "      <td>0</td>\n",
       "    </tr>\n",
       "  </tbody>\n",
       "</table>\n",
       "<p>3 rows × 227 columns</p>\n",
       "</div>"
      ],
      "text/plain": [
       "   SalePrice  OverallQual  GrLivArea  GarageArea  1stFlrSF  FullBath  \\\n",
       "0     208500            7       1710         548       856         2   \n",
       "1     181500            6       1262         460      1262         2   \n",
       "2     223500            7       1786         608       920         2   \n",
       "\n",
       "   KitchenQualEx  YearBuilt  YearRemodAdd  FoundationPConc  ...  \\\n",
       "0              0       2003          2003                1  ...   \n",
       "1              0       1976          1976                0  ...   \n",
       "2              0       2001          2002                1  ...   \n",
       "\n",
       "   NeighborhoodNAmes  RoofStyleGable  SaleTypeWD  LotShapeReg  MSZoningRM  \\\n",
       "0                  0               1           1            1           0   \n",
       "1                  0               1           1            1           0   \n",
       "2                  0               1           1            0           0   \n",
       "\n",
       "   HeatingQCTA  MasVnrTypeNone  FoundationCBlock  KitchenQualTA  ExterQualTA  \n",
       "0            0               0                 0              0            0  \n",
       "1            0               1                 1              1            1  \n",
       "2            0               0                 0              0            0  \n",
       "\n",
       "[3 rows x 227 columns]"
      ]
     },
     "execution_count": 25,
     "metadata": {},
     "output_type": "execute_result"
    }
   ],
   "source": [
    "# Reorder dataframe to have the columns with the highest correlation with sale price listed first\n",
    "\n",
    "cor_ls = df.corr().SalePrice.sort_values(ascending=False)\n",
    "new_col = list(cor_ls.index)\n",
    "df = df[new_col]\n",
    "df.head(3)"
   ]
  },
  {
   "cell_type": "code",
   "execution_count": 26,
   "metadata": {},
   "outputs": [
    {
     "data": {
      "text/html": [
       "<div>\n",
       "<style scoped>\n",
       "    .dataframe tbody tr th:only-of-type {\n",
       "        vertical-align: middle;\n",
       "    }\n",
       "\n",
       "    .dataframe tbody tr th {\n",
       "        vertical-align: top;\n",
       "    }\n",
       "\n",
       "    .dataframe thead th {\n",
       "        text-align: right;\n",
       "    }\n",
       "</style>\n",
       "<table border=\"1\" class=\"dataframe\">\n",
       "  <thead>\n",
       "    <tr style=\"text-align: right;\">\n",
       "      <th></th>\n",
       "      <th>SalePrice</th>\n",
       "      <th>OverallQual</th>\n",
       "      <th>GrLivArea</th>\n",
       "      <th>GarageArea</th>\n",
       "      <th>1stFlrSF</th>\n",
       "      <th>FullBath</th>\n",
       "      <th>KitchenQualEx</th>\n",
       "      <th>YearBuilt</th>\n",
       "      <th>YearRemodAdd</th>\n",
       "      <th>FoundationPConc</th>\n",
       "      <th>...</th>\n",
       "      <th>NeighborhoodNAmes</th>\n",
       "      <th>RoofStyleGable</th>\n",
       "      <th>SaleTypeWD</th>\n",
       "      <th>LotShapeReg</th>\n",
       "      <th>MSZoningRM</th>\n",
       "      <th>HeatingQCTA</th>\n",
       "      <th>MasVnrTypeNone</th>\n",
       "      <th>FoundationCBlock</th>\n",
       "      <th>KitchenQualTA</th>\n",
       "      <th>ExterQualTA</th>\n",
       "    </tr>\n",
       "  </thead>\n",
       "  <tbody>\n",
       "    <tr>\n",
       "      <th>count</th>\n",
       "      <td>1340.000000</td>\n",
       "      <td>1340.000000</td>\n",
       "      <td>1340.000000</td>\n",
       "      <td>1340.000000</td>\n",
       "      <td>1340.000000</td>\n",
       "      <td>1340.000000</td>\n",
       "      <td>1340.000000</td>\n",
       "      <td>1340.000000</td>\n",
       "      <td>1340.000000</td>\n",
       "      <td>1340.000000</td>\n",
       "      <td>...</td>\n",
       "      <td>1340.000000</td>\n",
       "      <td>1340.000000</td>\n",
       "      <td>1340.000000</td>\n",
       "      <td>1340.000000</td>\n",
       "      <td>1340.000000</td>\n",
       "      <td>1340.000000</td>\n",
       "      <td>1340.000000</td>\n",
       "      <td>1340.000000</td>\n",
       "      <td>1340.000000</td>\n",
       "      <td>1340.000000</td>\n",
       "    </tr>\n",
       "    <tr>\n",
       "      <th>mean</th>\n",
       "      <td>186838.630597</td>\n",
       "      <td>6.221642</td>\n",
       "      <td>1537.831343</td>\n",
       "      <td>501.711940</td>\n",
       "      <td>1176.380597</td>\n",
       "      <td>1.576119</td>\n",
       "      <td>0.072388</td>\n",
       "      <td>1973.073134</td>\n",
       "      <td>1985.694776</td>\n",
       "      <td>0.464179</td>\n",
       "      <td>...</td>\n",
       "      <td>0.155970</td>\n",
       "      <td>0.775373</td>\n",
       "      <td>0.865672</td>\n",
       "      <td>0.618657</td>\n",
       "      <td>0.142537</td>\n",
       "      <td>0.283582</td>\n",
       "      <td>0.569403</td>\n",
       "      <td>0.432836</td>\n",
       "      <td>0.485075</td>\n",
       "      <td>0.599254</td>\n",
       "    </tr>\n",
       "    <tr>\n",
       "      <th>std</th>\n",
       "      <td>78899.771325</td>\n",
       "      <td>1.324546</td>\n",
       "      <td>520.237774</td>\n",
       "      <td>186.910163</td>\n",
       "      <td>386.609919</td>\n",
       "      <td>0.547406</td>\n",
       "      <td>0.259226</td>\n",
       "      <td>29.563375</td>\n",
       "      <td>20.292377</td>\n",
       "      <td>0.498901</td>\n",
       "      <td>...</td>\n",
       "      <td>0.362963</td>\n",
       "      <td>0.417492</td>\n",
       "      <td>0.341132</td>\n",
       "      <td>0.485898</td>\n",
       "      <td>0.349731</td>\n",
       "      <td>0.450905</td>\n",
       "      <td>0.495345</td>\n",
       "      <td>0.495653</td>\n",
       "      <td>0.499964</td>\n",
       "      <td>0.490233</td>\n",
       "    </tr>\n",
       "    <tr>\n",
       "      <th>min</th>\n",
       "      <td>35311.000000</td>\n",
       "      <td>2.000000</td>\n",
       "      <td>438.000000</td>\n",
       "      <td>160.000000</td>\n",
       "      <td>438.000000</td>\n",
       "      <td>0.000000</td>\n",
       "      <td>0.000000</td>\n",
       "      <td>1880.000000</td>\n",
       "      <td>1950.000000</td>\n",
       "      <td>0.000000</td>\n",
       "      <td>...</td>\n",
       "      <td>0.000000</td>\n",
       "      <td>0.000000</td>\n",
       "      <td>0.000000</td>\n",
       "      <td>0.000000</td>\n",
       "      <td>0.000000</td>\n",
       "      <td>0.000000</td>\n",
       "      <td>0.000000</td>\n",
       "      <td>0.000000</td>\n",
       "      <td>0.000000</td>\n",
       "      <td>0.000000</td>\n",
       "    </tr>\n",
       "    <tr>\n",
       "      <th>25%</th>\n",
       "      <td>135000.000000</td>\n",
       "      <td>5.000000</td>\n",
       "      <td>1162.000000</td>\n",
       "      <td>378.500000</td>\n",
       "      <td>894.000000</td>\n",
       "      <td>1.000000</td>\n",
       "      <td>0.000000</td>\n",
       "      <td>1956.000000</td>\n",
       "      <td>1968.000000</td>\n",
       "      <td>0.000000</td>\n",
       "      <td>...</td>\n",
       "      <td>0.000000</td>\n",
       "      <td>1.000000</td>\n",
       "      <td>1.000000</td>\n",
       "      <td>0.000000</td>\n",
       "      <td>0.000000</td>\n",
       "      <td>0.000000</td>\n",
       "      <td>0.000000</td>\n",
       "      <td>0.000000</td>\n",
       "      <td>0.000000</td>\n",
       "      <td>0.000000</td>\n",
       "    </tr>\n",
       "    <tr>\n",
       "      <th>50%</th>\n",
       "      <td>168750.000000</td>\n",
       "      <td>6.000000</td>\n",
       "      <td>1481.500000</td>\n",
       "      <td>484.000000</td>\n",
       "      <td>1098.000000</td>\n",
       "      <td>2.000000</td>\n",
       "      <td>0.000000</td>\n",
       "      <td>1976.000000</td>\n",
       "      <td>1995.000000</td>\n",
       "      <td>0.000000</td>\n",
       "      <td>...</td>\n",
       "      <td>0.000000</td>\n",
       "      <td>1.000000</td>\n",
       "      <td>1.000000</td>\n",
       "      <td>1.000000</td>\n",
       "      <td>0.000000</td>\n",
       "      <td>0.000000</td>\n",
       "      <td>1.000000</td>\n",
       "      <td>0.000000</td>\n",
       "      <td>0.000000</td>\n",
       "      <td>1.000000</td>\n",
       "    </tr>\n",
       "    <tr>\n",
       "      <th>75%</th>\n",
       "      <td>220000.000000</td>\n",
       "      <td>7.000000</td>\n",
       "      <td>1790.500000</td>\n",
       "      <td>583.750000</td>\n",
       "      <td>1414.500000</td>\n",
       "      <td>2.000000</td>\n",
       "      <td>0.000000</td>\n",
       "      <td>2001.000000</td>\n",
       "      <td>2004.000000</td>\n",
       "      <td>1.000000</td>\n",
       "      <td>...</td>\n",
       "      <td>0.000000</td>\n",
       "      <td>1.000000</td>\n",
       "      <td>1.000000</td>\n",
       "      <td>1.000000</td>\n",
       "      <td>0.000000</td>\n",
       "      <td>1.000000</td>\n",
       "      <td>1.000000</td>\n",
       "      <td>1.000000</td>\n",
       "      <td>1.000000</td>\n",
       "      <td>1.000000</td>\n",
       "    </tr>\n",
       "    <tr>\n",
       "      <th>max</th>\n",
       "      <td>755000.000000</td>\n",
       "      <td>10.000000</td>\n",
       "      <td>5642.000000</td>\n",
       "      <td>1418.000000</td>\n",
       "      <td>4692.000000</td>\n",
       "      <td>3.000000</td>\n",
       "      <td>1.000000</td>\n",
       "      <td>2010.000000</td>\n",
       "      <td>2010.000000</td>\n",
       "      <td>1.000000</td>\n",
       "      <td>...</td>\n",
       "      <td>1.000000</td>\n",
       "      <td>1.000000</td>\n",
       "      <td>1.000000</td>\n",
       "      <td>1.000000</td>\n",
       "      <td>1.000000</td>\n",
       "      <td>1.000000</td>\n",
       "      <td>1.000000</td>\n",
       "      <td>1.000000</td>\n",
       "      <td>1.000000</td>\n",
       "      <td>1.000000</td>\n",
       "    </tr>\n",
       "  </tbody>\n",
       "</table>\n",
       "<p>8 rows × 227 columns</p>\n",
       "</div>"
      ],
      "text/plain": [
       "           SalePrice  OverallQual    GrLivArea   GarageArea     1stFlrSF  \\\n",
       "count    1340.000000  1340.000000  1340.000000  1340.000000  1340.000000   \n",
       "mean   186838.630597     6.221642  1537.831343   501.711940  1176.380597   \n",
       "std     78899.771325     1.324546   520.237774   186.910163   386.609919   \n",
       "min     35311.000000     2.000000   438.000000   160.000000   438.000000   \n",
       "25%    135000.000000     5.000000  1162.000000   378.500000   894.000000   \n",
       "50%    168750.000000     6.000000  1481.500000   484.000000  1098.000000   \n",
       "75%    220000.000000     7.000000  1790.500000   583.750000  1414.500000   \n",
       "max    755000.000000    10.000000  5642.000000  1418.000000  4692.000000   \n",
       "\n",
       "          FullBath  KitchenQualEx    YearBuilt  YearRemodAdd  FoundationPConc  \\\n",
       "count  1340.000000    1340.000000  1340.000000   1340.000000      1340.000000   \n",
       "mean      1.576119       0.072388  1973.073134   1985.694776         0.464179   \n",
       "std       0.547406       0.259226    29.563375     20.292377         0.498901   \n",
       "min       0.000000       0.000000  1880.000000   1950.000000         0.000000   \n",
       "25%       1.000000       0.000000  1956.000000   1968.000000         0.000000   \n",
       "50%       2.000000       0.000000  1976.000000   1995.000000         0.000000   \n",
       "75%       2.000000       0.000000  2001.000000   2004.000000         1.000000   \n",
       "max       3.000000       1.000000  2010.000000   2010.000000         1.000000   \n",
       "\n",
       "       ...  NeighborhoodNAmes  RoofStyleGable   SaleTypeWD  LotShapeReg  \\\n",
       "count  ...        1340.000000     1340.000000  1340.000000  1340.000000   \n",
       "mean   ...           0.155970        0.775373     0.865672     0.618657   \n",
       "std    ...           0.362963        0.417492     0.341132     0.485898   \n",
       "min    ...           0.000000        0.000000     0.000000     0.000000   \n",
       "25%    ...           0.000000        1.000000     1.000000     0.000000   \n",
       "50%    ...           0.000000        1.000000     1.000000     1.000000   \n",
       "75%    ...           0.000000        1.000000     1.000000     1.000000   \n",
       "max    ...           1.000000        1.000000     1.000000     1.000000   \n",
       "\n",
       "        MSZoningRM  HeatingQCTA  MasVnrTypeNone  FoundationCBlock  \\\n",
       "count  1340.000000  1340.000000     1340.000000       1340.000000   \n",
       "mean      0.142537     0.283582        0.569403          0.432836   \n",
       "std       0.349731     0.450905        0.495345          0.495653   \n",
       "min       0.000000     0.000000        0.000000          0.000000   \n",
       "25%       0.000000     0.000000        0.000000          0.000000   \n",
       "50%       0.000000     0.000000        1.000000          0.000000   \n",
       "75%       0.000000     1.000000        1.000000          1.000000   \n",
       "max       1.000000     1.000000        1.000000          1.000000   \n",
       "\n",
       "       KitchenQualTA  ExterQualTA  \n",
       "count    1340.000000  1340.000000  \n",
       "mean        0.485075     0.599254  \n",
       "std         0.499964     0.490233  \n",
       "min         0.000000     0.000000  \n",
       "25%         0.000000     0.000000  \n",
       "50%         0.000000     1.000000  \n",
       "75%         1.000000     1.000000  \n",
       "max         1.000000     1.000000  \n",
       "\n",
       "[8 rows x 227 columns]"
      ]
     },
     "execution_count": 26,
     "metadata": {},
     "output_type": "execute_result"
    }
   ],
   "source": [
    "df.describe()"
   ]
  },
  {
   "cell_type": "markdown",
   "metadata": {},
   "source": [
    "## <b>Split data to training and test data sets"
   ]
  },
  {
   "cell_type": "code",
   "execution_count": 27,
   "metadata": {},
   "outputs": [],
   "source": [
    "# split data into train and test sets.  X contains feature columns, y contains the target column\n",
    "from sklearn.model_selection import train_test_split\n",
    "\n",
    "features = df.columns[1:]\n",
    "X = df[features]\n",
    "y = df.SalePrice\n",
    "X_train, X_test, y_train, y_test = train_test_split(df[features], df.SalePrice, test_size=0.2, random_state=42)"
   ]
  },
  {
   "cell_type": "code",
   "execution_count": 28,
   "metadata": {},
   "outputs": [
    {
     "name": "stdout",
     "output_type": "stream",
     "text": [
      "755000\n",
      "35311\n"
     ]
    }
   ],
   "source": [
    "print(df.SalePrice.max())\n",
    "print(df.SalePrice.min())"
   ]
  },
  {
   "cell_type": "markdown",
   "metadata": {},
   "source": [
    "## <b>Predicting sales price using linear regression  "
   ]
  },
  {
   "cell_type": "markdown",
   "metadata": {},
   "source": [
    "### <font color='green'>Use 10-fold cross-validation method to evaluate the model.</font>"
   ]
  },
  {
   "cell_type": "code",
   "execution_count": 29,
   "metadata": {},
   "outputs": [
    {
     "name": "stdout",
     "output_type": "stream",
     "text": [
      "rmses= [32220403.542, 25742.956, 856557264.977, 1712617.623, 4280225071.148, 8323092.364, 311240880.993, 129579912.581, 71272978.967, 24788333.916]\n",
      "mean rmses =  571594629.907\n",
      "std of rmse =  1261240631.254\n"
     ]
    }
   ],
   "source": [
    "# 10-fold was chosen based on convention\n",
    "\n",
    "from sklearn import linear_model\n",
    "from sklearn.model_selection import cross_val_score, cross_val_predict, KFold\n",
    "\n",
    "kf = KFold(10, shuffle = True, random_state = 1)\n",
    "lr = linear_model.LinearRegression()\n",
    "y_pred = cross_val_predict(lr, X_train[features], y_train, cv = kf)\n",
    "mses = cross_val_score(lr, X_train[features], y_train, scoring = 'neg_mean_squared_error', cv = kf)\n",
    "rmses = np.sqrt(np.abs(mses))\n",
    "mean_rmse = np.mean(rmses)\n",
    "rmse_std = np.std(rmses)\n",
    "print('rmses=', [round(x, 3) for x in rmses])\n",
    "print('mean rmses = % .3f' %mean_rmse)\n",
    "print('std of rmse = % .3f' %rmse_std)"
   ]
  },
  {
   "cell_type": "markdown",
   "metadata": {},
   "source": [
    "Cross validation confirmed that there are large variance in the data set.  Normalization might mitigate this problem.  Another issues is the number of features used.  Because there are over 200 features in the dataset, it might not scale well due to computation cost.  In addition, more features might not be necessary to build a good model.  To determine weather it is reasonable to remove some features, I will use the forward feature selection method where I will start with one feature that has the highest correlation with SalePrice, then adding more feaures one-by-one according to the correlaiton ranking.  The best number of features will be determined as the one that result in the least error."
   ]
  },
  {
   "cell_type": "markdown",
   "metadata": {},
   "source": [
    "### <font color='green'>Feature selection using forward selection method</font>"
   ]
  },
  {
   "cell_type": "code",
   "execution_count": 30,
   "metadata": {},
   "outputs": [],
   "source": [
    "mean_rmse_dict = {}\n",
    "std_rmse_dict = {}\n",
    "max_col = len(X_train.columns[0:100]) # my computer locks up when more than 120 features are used here.\n",
    "for i in range(1, max_col):  \n",
    "    kf = KFold(10, shuffle = True, random_state = 1)\n",
    "    lr = linear_model.LinearRegression()\n",
    "    y_pred = cross_val_predict(lr, X_train.iloc[:, 0:i], y_train, cv = kf)\n",
    "    mses = cross_val_score(lr, X_train.iloc[:, 0:i], y_train, scoring = 'neg_mean_squared_error', cv = kf)\n",
    "    rmses = np.sqrt(np.abs(mses))\n",
    "    avg_rmse = np.mean(rmses)\n",
    "    std_rmse = np.std(rmses)\n",
    "    mean_rmse_dict[i] = round(avg_rmse, 3)\n",
    "    std_rmse_dict[i] = round(std_rmse, 3)\n",
    "                       \n",
    "mean_df = pd.DataFrame(mean_rmse_dict.items(), columns = ['n_features', 'rmse'])\n",
    "std_df = pd.DataFrame(std_rmse_dict.items(), columns = ['n_features', 'std_rmse'])"
   ]
  },
  {
   "cell_type": "code",
   "execution_count": 31,
   "metadata": {},
   "outputs": [
    {
     "data": {
      "text/plain": [
       "Text(0.5, 0, 'number of features used')"
      ]
     },
     "execution_count": 31,
     "metadata": {},
     "output_type": "execute_result"
    },
    {
     "data": {
      "image/png": "[encoded data removed]",
      "text/plain": [
       "<Figure size 1080x288 with 2 Axes>"
      ]
     },
     "metadata": {
      "needs_background": "light"
     },
     "output_type": "display_data"
    }
   ],
   "source": [
    "# plot the relationship between the nubmer of features and the error\n",
    "\n",
    "fig = plt.figure(figsize = (15,4))\n",
    "fig.subplots_adjust(wspace=0.3)\n",
    "ax1 = fig.add_subplot(1, 2, 1)\n",
    "ax1.scatter(mean_df.n_features, mean_df.rmse)\n",
    "ax1.set_ylabel('mean rmse')\n",
    "ax1.set_xlabel('number of features used')\n",
    "\n",
    "ax2 = fig.add_subplot(1, 2, 2)\n",
    "ax2.scatter(std_df.n_features, std_df.std_rmse)\n",
    "ax2.set_ylabel('std of the rmse')\n",
    "ax2.set_xlabel('number of features used')"
   ]
  },
  {
   "cell_type": "code",
   "execution_count": 32,
   "metadata": {},
   "outputs": [
    {
     "name": "stdout",
     "output_type": "stream",
     "text": [
      "The minimum rmse of 29606.835 was achived using 61 features.\n"
     ]
    }
   ],
   "source": [
    "# find the index and value for the number of features that result in the least error.\n",
    "\n",
    "min_idx = int(mean_df[['rmse']].idxmin())+1\n",
    "min_rmse = mean_df.rmse.min()\n",
    "print('The minimum rmse of', min_rmse, 'was achived using', min_idx, 'features.')"
   ]
  },
  {
   "cell_type": "code",
   "execution_count": 33,
   "metadata": {},
   "outputs": [
    {
     "name": "stdout",
     "output_type": "stream",
     "text": [
      "rmse = 45376.479\n",
      "R2_score = 0.731\n"
     ]
    }
   ],
   "source": [
    "# Train the model using the training set and the best features determined above.\n",
    "\n",
    "from sklearn.utils import shuffle\n",
    "import numpy as np\n",
    "from sklearn.metrics import mean_squared_error \n",
    "\n",
    "lr = linear_model.LinearRegression()\n",
    "lr.fit(X_train.iloc[:,0:min_idx], y_train)\n",
    "prediction = lr.predict(X_test.iloc[:, 0:(min_idx)])\n",
    "mse = mean_squared_error(y_test, prediction)\n",
    "lr_rmse = np.sqrt(mse)\n",
    "lr_R2_score = lr.score(X_test.iloc[:,0:min_idx], y_test)\n",
    "\n",
    "intercept = round(lr.intercept_, 3)\n",
    "coefficients = lr.coef_\n",
    "print('rmse =', round(lr_rmse, 3))\n",
    "print('R2_score =', round(lr_R2_score, 3))"
   ]
  },
  {
   "cell_type": "code",
   "execution_count": 34,
   "metadata": {},
   "outputs": [
    {
     "data": {
      "text/plain": [
       "(array([     0., 100000., 200000., 300000., 400000., 500000., 600000.,\n",
       "        700000., 800000.]),\n",
       " <a list of 9 Text xticklabel objects>)"
      ]
     },
     "execution_count": 34,
     "metadata": {},
     "output_type": "execute_result"
    },
    {
     "data": {
      "image/png": "[encoded data removed]",
      "text/plain": [
       "<Figure size 864x288 with 1 Axes>"
      ]
     },
     "metadata": {
      "needs_background": "light"
     },
     "output_type": "display_data"
    }
   ],
   "source": [
    "# Visualizing the coorelation between the raw and predicted data\n",
    "\n",
    "fig = plt.figure(figsize = (12,4))\n",
    "fig.subplots_adjust(wspace=0.3)\n",
    "\n",
    "ax1 = fig.add_subplot(1, 2, 2)\n",
    "ax1.scatter(y_test, prediction)\n",
    "ax1.set_ylabel('Predicted')\n",
    "ax1.set_xlabel('SalePrice')\n",
    "m, b = np.polyfit(y_test, prediction, 1)\n",
    "abline_values = [m * i + b for i in y_test]\n",
    "plt.plot(y_test, abline_values, color='red')\n",
    "plt.xticks(rotation=90)"
   ]
  },
  {
   "cell_type": "markdown",
   "metadata": {},
   "source": [
    "This model make preptty good prediction for SalePrice where nearly 90% data can be predicted by selected features.  It is also of interest to check out how the model is trained by normalized data."
   ]
  },
  {
   "cell_type": "markdown",
   "metadata": {},
   "source": [
    "### <font color='green'>Predictions using normalized data<font>"
   ]
  },
  {
   "cell_type": "code",
   "execution_count": 35,
   "metadata": {},
   "outputs": [
    {
     "data": {
      "text/html": [
       "<div>\n",
       "<style scoped>\n",
       "    .dataframe tbody tr th:only-of-type {\n",
       "        vertical-align: middle;\n",
       "    }\n",
       "\n",
       "    .dataframe tbody tr th {\n",
       "        vertical-align: top;\n",
       "    }\n",
       "\n",
       "    .dataframe thead th {\n",
       "        text-align: right;\n",
       "    }\n",
       "</style>\n",
       "<table border=\"1\" class=\"dataframe\">\n",
       "  <thead>\n",
       "    <tr style=\"text-align: right;\">\n",
       "      <th></th>\n",
       "      <th>SalePrice</th>\n",
       "      <th>OverallQual</th>\n",
       "      <th>GrLivArea</th>\n",
       "      <th>GarageArea</th>\n",
       "      <th>1stFlrSF</th>\n",
       "      <th>FullBath</th>\n",
       "      <th>KitchenQualEx</th>\n",
       "      <th>YearBuilt</th>\n",
       "      <th>YearRemodAdd</th>\n",
       "      <th>FoundationPConc</th>\n",
       "      <th>...</th>\n",
       "      <th>NeighborhoodNAmes</th>\n",
       "      <th>RoofStyleGable</th>\n",
       "      <th>SaleTypeWD</th>\n",
       "      <th>LotShapeReg</th>\n",
       "      <th>MSZoningRM</th>\n",
       "      <th>HeatingQCTA</th>\n",
       "      <th>MasVnrTypeNone</th>\n",
       "      <th>FoundationCBlock</th>\n",
       "      <th>KitchenQualTA</th>\n",
       "      <th>ExterQualTA</th>\n",
       "    </tr>\n",
       "  </thead>\n",
       "  <tbody>\n",
       "    <tr>\n",
       "      <th>0</th>\n",
       "      <td>0.276159</td>\n",
       "      <td>0.7</td>\n",
       "      <td>0.303084</td>\n",
       "      <td>0.386460</td>\n",
       "      <td>0.182438</td>\n",
       "      <td>0.666667</td>\n",
       "      <td>0</td>\n",
       "      <td>0.996517</td>\n",
       "      <td>0.996517</td>\n",
       "      <td>1</td>\n",
       "      <td>...</td>\n",
       "      <td>0</td>\n",
       "      <td>1</td>\n",
       "      <td>1</td>\n",
       "      <td>1</td>\n",
       "      <td>0</td>\n",
       "      <td>0</td>\n",
       "      <td>0</td>\n",
       "      <td>0</td>\n",
       "      <td>0</td>\n",
       "      <td>0</td>\n",
       "    </tr>\n",
       "    <tr>\n",
       "      <th>1</th>\n",
       "      <td>0.240397</td>\n",
       "      <td>0.6</td>\n",
       "      <td>0.223680</td>\n",
       "      <td>0.324401</td>\n",
       "      <td>0.268968</td>\n",
       "      <td>0.666667</td>\n",
       "      <td>0</td>\n",
       "      <td>0.983085</td>\n",
       "      <td>0.983085</td>\n",
       "      <td>0</td>\n",
       "      <td>...</td>\n",
       "      <td>0</td>\n",
       "      <td>1</td>\n",
       "      <td>1</td>\n",
       "      <td>1</td>\n",
       "      <td>0</td>\n",
       "      <td>0</td>\n",
       "      <td>1</td>\n",
       "      <td>1</td>\n",
       "      <td>1</td>\n",
       "      <td>1</td>\n",
       "    </tr>\n",
       "    <tr>\n",
       "      <th>2</th>\n",
       "      <td>0.296026</td>\n",
       "      <td>0.7</td>\n",
       "      <td>0.316554</td>\n",
       "      <td>0.428773</td>\n",
       "      <td>0.196078</td>\n",
       "      <td>0.666667</td>\n",
       "      <td>0</td>\n",
       "      <td>0.995522</td>\n",
       "      <td>0.996020</td>\n",
       "      <td>1</td>\n",
       "      <td>...</td>\n",
       "      <td>0</td>\n",
       "      <td>1</td>\n",
       "      <td>1</td>\n",
       "      <td>0</td>\n",
       "      <td>0</td>\n",
       "      <td>0</td>\n",
       "      <td>0</td>\n",
       "      <td>0</td>\n",
       "      <td>0</td>\n",
       "      <td>0</td>\n",
       "    </tr>\n",
       "  </tbody>\n",
       "</table>\n",
       "<p>3 rows × 227 columns</p>\n",
       "</div>"
      ],
      "text/plain": [
       "   SalePrice  OverallQual  GrLivArea  GarageArea  1stFlrSF  FullBath  \\\n",
       "0   0.276159          0.7   0.303084    0.386460  0.182438  0.666667   \n",
       "1   0.240397          0.6   0.223680    0.324401  0.268968  0.666667   \n",
       "2   0.296026          0.7   0.316554    0.428773  0.196078  0.666667   \n",
       "\n",
       "   KitchenQualEx  YearBuilt  YearRemodAdd  FoundationPConc  ...  \\\n",
       "0              0   0.996517      0.996517                1  ...   \n",
       "1              0   0.983085      0.983085                0  ...   \n",
       "2              0   0.995522      0.996020                1  ...   \n",
       "\n",
       "   NeighborhoodNAmes  RoofStyleGable  SaleTypeWD  LotShapeReg  MSZoningRM  \\\n",
       "0                  0               1           1            1           0   \n",
       "1                  0               1           1            1           0   \n",
       "2                  0               1           1            0           0   \n",
       "\n",
       "   HeatingQCTA  MasVnrTypeNone  FoundationCBlock  KitchenQualTA  ExterQualTA  \n",
       "0            0               0                 0              0            0  \n",
       "1            0               1                 1              1            1  \n",
       "2            0               0                 0              0            0  \n",
       "\n",
       "[3 rows x 227 columns]"
      ]
     },
     "execution_count": 35,
     "metadata": {},
     "output_type": "execute_result"
    }
   ],
   "source": [
    "# Scale numerical columns\n",
    "\n",
    "norm_df = df.copy()\n",
    "dfn = norm_df[n_cols]\n",
    "col_max = dfn.max()\n",
    "dfn = dfn / col_max\n",
    "norm_df[n_cols] = dfn\n",
    "norm_df.head(3)"
   ]
  },
  {
   "cell_type": "code",
   "execution_count": 36,
   "metadata": {},
   "outputs": [],
   "source": [
    "# split normalized data to train test sets\n",
    "\n",
    "X_n = norm_df[features]\n",
    "y_n = norm_df.SalePrice\n",
    "X_train_n, X_test_n, y_train_n, y_test_n = train_test_split(X_n, y_n, test_size=0.2, random_state=42)"
   ]
  },
  {
   "cell_type": "code",
   "execution_count": 37,
   "metadata": {},
   "outputs": [
    {
     "name": "stdout",
     "output_type": "stream",
     "text": [
      "rmses= [0.027, 0.034, 0.051, 0.038, 77978548135.494, 0.031, 0.036, 0.059, 0.067, 0.04]\n",
      "mean rmses =  7797854813.588\n",
      "std of rmse =  23393564440.635\n"
     ]
    }
   ],
   "source": [
    "# Evaluate the model using 10-fold splits and 100 features.\n",
    "\n",
    "from sklearn import linear_model\n",
    "from sklearn.model_selection import cross_val_score, cross_val_predict, KFold\n",
    "\n",
    "features = X_train_n.columns[0:100]  \n",
    "kf = KFold(10, shuffle = True, random_state = 1)\n",
    "lr = linear_model.LinearRegression()\n",
    "y_pred = cross_val_predict(lr, X_train_n[features], y_train_n, cv = kf)\n",
    "mses = cross_val_score(lr, X_train_n[features], y_train_n, scoring = 'neg_mean_squared_error', cv = kf)\n",
    "rmses = np.sqrt(np.abs(mses))\n",
    "mean_rmse = np.mean(rmses)\n",
    "rmse_std = np.std(rmses)\n",
    "print('rmses=', [round(x, 3) for x in rmses])\n",
    "print('mean rmses = % .3f' %mean_rmse)\n",
    "print('std of rmse = % .3f' %rmse_std)"
   ]
  },
  {
   "cell_type": "code",
   "execution_count": 38,
   "metadata": {},
   "outputs": [],
   "source": [
    "# feature selection using forward selection method.  \n",
    "\n",
    "mean_rmse_dict = {}\n",
    "std_rmse_dict = {}\n",
    "for i in range(1, len(features)):\n",
    "    kf = KFold(10, shuffle = True, random_state = 1)\n",
    "    lr = linear_model.LinearRegression()\n",
    "    y_pred = cross_val_predict(lr, X_train_n.iloc[:, 0:i], y_train_n, cv = kf)\n",
    "    mses = cross_val_score(lr, X_train_n.iloc[:, 0:i], y_train_n, scoring = 'neg_mean_squared_error', cv = kf)\n",
    "    rmses = np.sqrt(np.abs(mses))\n",
    "    avg_rmse = np.mean(rmses)\n",
    "    std_rmse = np.std(rmses)\n",
    "    mean_rmse_dict[i] = round(avg_rmse, 3)\n",
    "    std_rmse_dict[i] = round(std_rmse, 3)\n",
    "                       \n",
    "mean_norm_df = pd.DataFrame(mean_rmse_dict.items(), columns = ['n_features', 'rmse'])\n",
    "std_norm_df = pd.DataFrame(std_rmse_dict.items(), columns = ['n_features', 'std_rmse'])"
   ]
  },
  {
   "cell_type": "code",
   "execution_count": 39,
   "metadata": {},
   "outputs": [
    {
     "data": {
      "text/plain": [
       "Text(0.5, 0, 'number of features used')"
      ]
     },
     "execution_count": 39,
     "metadata": {},
     "output_type": "execute_result"
    },
    {
     "data": {
      "image/png": "[encoded data removed]",
      "text/plain": [
       "<Figure size 1080x288 with 2 Axes>"
      ]
     },
     "metadata": {
      "needs_background": "light"
     },
     "output_type": "display_data"
    }
   ],
   "source": [
    "fig = plt.figure(figsize = (15,4))\n",
    "fig.subplots_adjust(wspace=0.3)\n",
    "ax1 = fig.add_subplot(1, 2, 1)\n",
    "ax1.scatter(mean_norm_df.n_features, mean_norm_df.rmse)\n",
    "ax1.set_ylabel('mean rmse')\n",
    "ax1.set_xlabel('number of features used')\n",
    "\n",
    "ax2 = fig.add_subplot(1, 2, 2)\n",
    "ax2.scatter(std_norm_df.n_features, std_norm_df.std_rmse)\n",
    "ax2.set_ylabel('std of the rmse')\n",
    "ax2.set_xlabel('number of features used')"
   ]
  },
  {
   "cell_type": "code",
   "execution_count": 40,
   "metadata": {},
   "outputs": [
    {
     "name": "stdout",
     "output_type": "stream",
     "text": [
      "The minimum rmse of 0.039 was achived using 52 features.\n"
     ]
    }
   ],
   "source": [
    "# find the index and value for the number of features that related to the smallest error.\n",
    "\n",
    "min_idx_n = int(mean_norm_df[['rmse']].idxmin())+1\n",
    "min_rmse_n = mean_norm_df.rmse.min()\n",
    "print('The minimum rmse of', min_rmse_n, 'was achived using', min_idx_n, 'features.')"
   ]
  },
  {
   "cell_type": "code",
   "execution_count": 41,
   "metadata": {},
   "outputs": [
    {
     "name": "stdout",
     "output_type": "stream",
     "text": [
      "rmse = 0.06\n",
      "R2_score = 0.728\n"
     ]
    }
   ],
   "source": [
    "# Train the model using the training set and the best features determined above.\n",
    "\n",
    "lr = linear_model.LinearRegression()\n",
    "lr.fit(X_train_n.iloc[:,0:min_idx_n], y_train_n)\n",
    "prediction = lr.predict(X_test_n.iloc[:, 0:(min_idx_n)])\n",
    "mse = mean_squared_error(y_test_n, prediction)\n",
    "lrn_rmse = np.sqrt(mse)\n",
    "lrn_R2_score = lr.score(X_test_n.iloc[:, 0:(min_idx_n)], y_test_n)\n",
    "\n",
    "intercept = round(lr.intercept_, 3)\n",
    "coefficients = lr.coef_\n",
    "print('rmse =', round(lrn_rmse, 3))\n",
    "print('R2_score =', round(lrn_R2_score, 3))"
   ]
  },
  {
   "cell_type": "code",
   "execution_count": 42,
   "metadata": {},
   "outputs": [
    {
     "data": {
      "text/plain": [
       "(array([-0.2,  0. ,  0.2,  0.4,  0.6,  0.8,  1. ,  1.2]),\n",
       " <a list of 8 Text xticklabel objects>)"
      ]
     },
     "execution_count": 42,
     "metadata": {},
     "output_type": "execute_result"
    },
    {
     "data": {
      "image/png": "[encoded data removed]",
      "text/plain": [
       "<Figure size 864x288 with 1 Axes>"
      ]
     },
     "metadata": {
      "needs_background": "light"
     },
     "output_type": "display_data"
    }
   ],
   "source": [
    "# Visualizing the coorelation between the raw and predicted data\n",
    "\n",
    "fig = plt.figure(figsize = (12,4))\n",
    "fig.subplots_adjust(wspace=0.3)\n",
    "\n",
    "ax1 = fig.add_subplot(1, 2, 2)\n",
    "ax1.scatter(y_test_n, prediction)\n",
    "ax1.set_ylabel('Predicted')\n",
    "ax1.set_xlabel('SalePrice')\n",
    "m, b = np.polyfit(y_test_n, prediction, 1)\n",
    "abline_values = [m * i + b for i in y_test_n]\n",
    "plt.plot(y_test_n, abline_values, color='red')\n",
    "plt.xticks(rotation=90)"
   ]
  },
  {
   "cell_type": "markdown",
   "metadata": {},
   "source": [
    "Cross validation and feature selection using the original data and the normalized data resulted in different number of features that produced the smallest rmses.  Much less features are needed to achieve nearly as good as as using more features when the raw data were used.  The R squared scores are similar, both near 90%.  But using normalized data for training might be better for scaling since less features are needed."
   ]
  },
  {
   "cell_type": "markdown",
   "metadata": {},
   "source": [
    "## <b>Predicting sales price using knn"
   ]
  },
  {
   "cell_type": "markdown",
   "metadata": {},
   "source": [
    "### <font color='green'>Use 10-fold cross-validation method to evaluate the model.</font>"
   ]
  },
  {
   "cell_type": "code",
   "execution_count": 43,
   "metadata": {},
   "outputs": [
    {
     "name": "stdout",
     "output_type": "stream",
     "text": [
      "rmses= [37898.585, 36977.586, 72666.129, 43285.313, 51392.307, 47448.289, 43158.33, 37398.818, 47691.6, 45325.317]\n",
      "mean rmses =  46324.227\n",
      "std of rmse =  9904.465\n"
     ]
    }
   ],
   "source": [
    "# start with three neighbors\n",
    "\n",
    "from sklearn.neighbors import KNeighborsRegressor\n",
    "from sklearn.model_selection import cross_val_score, cross_val_predict, KFold \n",
    "\n",
    "kf = KFold(10, shuffle = True, random_state = 1)\n",
    "knn = KNeighborsRegressor(n_neighbors = 3)\n",
    "y_pred = cross_val_predict(knn, X_train[features], y_train, cv = kf)\n",
    "mses = cross_val_score(knn, X_train[features], y_train, scoring = 'neg_mean_squared_error', cv = kf)\n",
    "rmses = np.sqrt(np.abs(mses))\n",
    "mean_rmse = np.mean(rmses)\n",
    "rmse_std = np.std(rmses)\n",
    "print('rmses=', [round(x, 3) for x in rmses])\n",
    "print('mean rmses = % .3f' %mean_rmse)\n",
    "print('std of rmse = % .3f' %rmse_std)"
   ]
  },
  {
   "cell_type": "markdown",
   "metadata": {},
   "source": [
    "The rmse estiamted is higher than what was estimated by the linear regression model.  I will perform both feature selection and hyperparameter tuning to see whether the model can be improved."
   ]
  },
  {
   "cell_type": "code",
   "execution_count": 44,
   "metadata": {},
   "outputs": [],
   "source": [
    "# feature selection using forward selection method with 10 fold cv and 3 neighbors.  \n",
    "\n",
    "score_dict = {}\n",
    "mean_rmse_dict = {}\n",
    "std_rmse_dict = {}\n",
    "for i in range(2, len(features[0:100])):  # my computer locks up when more than 100 features are used here.\n",
    "    kf = KFold(10, shuffle = True, random_state = 1)\n",
    "    knn = KNeighborsRegressor(n_neighbors = 3)\n",
    "    \n",
    "    scores = cross_val_score(knn, X_train[features].iloc[:, 0:i], y_train, cv=kf)\n",
    "    mean_score = np.mean(scores)\n",
    "    score_dict[i] = mean_score\n",
    "    mses = cross_val_score(knn, X_train.iloc[:, 0:i], y_train, scoring = 'neg_mean_squared_error', cv = kf)\n",
    "    rmses = np.sqrt(np.abs(mses))\n",
    "    avg_rmse = np.mean(rmses)\n",
    "    std_rmse = np.std(rmses)\n",
    "    mean_rmse_dict[i] = round(avg_rmse, 3)\n",
    "    std_rmse_dict[i] = round(std_rmse, 3)\n",
    "    std_rmse_dict[i] = rmse_std\n",
    "\n",
    "score_df = pd.DataFrame(score_dict.items(), columns = ['n_features', 'score'])\n",
    "mean_df = pd.DataFrame(mean_rmse_dict.items(), columns = ['n_features', 'rmse'])\n",
    "std_df = pd.DataFrame(std_rmse_dict.items(), columns = ['n_features', 'std_rmse'])"
   ]
  },
  {
   "cell_type": "code",
   "execution_count": 45,
   "metadata": {},
   "outputs": [
    {
     "data": {
      "text/plain": [
       "Text(0.5, 0, 'number of features used')"
      ]
     },
     "execution_count": 45,
     "metadata": {},
     "output_type": "execute_result"
    },
    {
     "data": {
      "image/png": "[encoded data removed]",
      "text/plain": [
       "<Figure size 1080x216 with 3 Axes>"
      ]
     },
     "metadata": {
      "needs_background": "light"
     },
     "output_type": "display_data"
    }
   ],
   "source": [
    "fig = plt.figure(figsize = (15,3))\n",
    "fig.subplots_adjust(wspace=0.3)\n",
    "ax1 = fig.add_subplot(1, 3, 1)\n",
    "ax1.scatter(score_df.n_features, score_df.score)\n",
    "ax1.set_ylabel('score')\n",
    "ax1.set_xlabel('number of features used')\n",
    "\n",
    "ax2 = fig.add_subplot(1, 3, 2)\n",
    "ax2.scatter(mean_df.n_features, mean_df.rmse)\n",
    "ax2.set_ylabel('mean rmse')\n",
    "ax2.set_xlabel('number of features used')\n",
    "\n",
    "ax3 = fig.add_subplot(1, 3, 3)\n",
    "ax3.scatter(std_df.n_features, std_df.std_rmse)\n",
    "ax3.set_ylabel('std of the rmse')\n",
    "ax3.set_xlabel('number of features used')"
   ]
  },
  {
   "cell_type": "code",
   "execution_count": 46,
   "metadata": {},
   "outputs": [
    {
     "name": "stdout",
     "output_type": "stream",
     "text": [
      "The maximum score of 0.637 was achieved using 22 features.\n",
      "The minimum rmse of 43683.195 was achieved using 22 features.\n"
     ]
    }
   ],
   "source": [
    "# find the index and value for the number of features that result in the least error.\n",
    "\n",
    "max_idx = int(score_df[['score']].idxmax())+1\n",
    "max_score = round(score_df.score.max(), 3)\n",
    "print('The maximum score of', max_score, 'was achieved using', max_idx, 'features.')\n",
    "\n",
    "min_idx = int(mean_df[['rmse']].idxmin())+1\n",
    "min_rmse = round(mean_df.rmse.min(), 3)\n",
    "print('The minimum rmse of', min_rmse, 'was achieved using', min_idx, 'features.')"
   ]
  },
  {
   "cell_type": "code",
   "execution_count": 125,
   "metadata": {},
   "outputs": [
    {
     "name": "stdout",
     "output_type": "stream",
     "text": [
      "{'n_neighbors': 19}\n",
      "42096.559\n"
     ]
    }
   ],
   "source": [
    "# Using grid search to find best model parameter k using the best number of fearures estimated above and 10 fold cross-validation.\n",
    "\n",
    "from sklearn.model_selection import GridSearchCV\n",
    "\n",
    "knn = KNeighborsRegressor()\n",
    "param_grid = {'n_neighbors': np.arange(1, 25)} \n",
    "knn_gscv = GridSearchCV(knn, param_grid, scoring = 'neg_mean_squared_error', cv=10) \n",
    "knn_gscv.fit(X_train.iloc[:, 1:min_idx], y_train)\n",
    "mse = knn_gscv.best_score_\n",
    "knn_rmse_tr = np.sqrt(np.abs(mse))\n",
    "knn_best_param = knn_gscv.best_params_\n",
    "print(knn_best_param)\n",
    "print(round(knn_rmse_tr, 3))"
   ]
  },
  {
   "cell_type": "code",
   "execution_count": 123,
   "metadata": {},
   "outputs": [
    {
     "name": "stdout",
     "output_type": "stream",
     "text": [
      "rmse= 53073.712\n"
     ]
    }
   ],
   "source": [
    "# Evaluating the model using test dataset with the best number of neighbors and the best number of features.\n",
    "from sklearn.metrics import mean_squared_error \n",
    "\n",
    "prediction = knn_gscv.predict(X_test.iloc[:, 1:min_idx])\n",
    "mse = mean_squared_error(y_test, prediction)\n",
    "knn_rmse = np.sqrt(mse)\n",
    "\n",
    "print('rmse=', round(knn_rmse, 3))"
   ]
  },
  {
   "cell_type": "code",
   "execution_count": 124,
   "metadata": {},
   "outputs": [
    {
     "data": {
      "text/plain": [
       "(array([     0., 100000., 200000., 300000., 400000., 500000., 600000.,\n",
       "        700000., 800000.]),\n",
       " <a list of 9 Text xticklabel objects>)"
      ]
     },
     "execution_count": 124,
     "metadata": {},
     "output_type": "execute_result"
    },
    {
     "data": {
      "image/png": "[encoded data removed]",
      "text/plain": [
       "<Figure size 864x288 with 1 Axes>"
      ]
     },
     "metadata": {
      "needs_background": "light"
     },
     "output_type": "display_data"
    }
   ],
   "source": [
    "# Visualizing the coorelation between the raw and predicted data\n",
    "\n",
    "fig = plt.figure(figsize = (12,4))\n",
    "fig.subplots_adjust(wspace=0.3)\n",
    "ax1 = fig.add_subplot(1, 2, 1)\n",
    "ax1.scatter(y_test, prediction)\n",
    "ax1.set_ylabel('mean rmse')\n",
    "ax1.set_xlabel('SalePrice')\n",
    "m, b = np.polyfit(y_test, prediction, 1)\n",
    "abline_values = [m * i + b for i in y_test]\n",
    "plt.plot(y_test, abline_values, color='red')\n",
    "plt.xticks(rotation=90)"
   ]
  },
  {
   "cell_type": "code",
   "execution_count": 128,
   "metadata": {},
   "outputs": [
    {
     "name": "stdout",
     "output_type": "stream",
     "text": [
      "{'n_neighbors': 19}\n",
      "42096.559\n"
     ]
    }
   ],
   "source": [
    "# Including weight in grid search.\n",
    "\n",
    "weight_options = ['uniform', 'distance']\n",
    "param_grid = dict(n_neighbors = np.arange(1, 25), weights = weight_options)\n",
    "knn = KNeighborsRegressor()\n",
    "param_grid = {'n_neighbors': np.arange(1, 25)} \n",
    "knn_gscv = GridSearchCV(knn, param_grid, scoring = 'neg_mean_squared_error', cv=10) \n",
    "knn_gscv.fit(X_train.iloc[:, 1:min_idx], y_train)\n",
    "mse = knn_gscv.best_score_\n",
    "knn_rmse_tr = np.sqrt(np.abs(mse))\n",
    "knn_best_param = knn_gscv.best_params_\n",
    "print(knn_best_param)\n",
    "print(round(knn_rmse_tr, 3))"
   ]
  },
  {
   "cell_type": "markdown",
   "metadata": {},
   "source": [
    "Using the weight option didn't improved the model.  The rmse valus is the same as before.  The Grid search took a long time for this model.  Below, I will attempt to use Randomized search for comparison."
   ]
  },
  {
   "cell_type": "code",
   "execution_count": 129,
   "metadata": {},
   "outputs": [
    {
     "name": "stdout",
     "output_type": "stream",
     "text": [
      "{'n_neighbors': 19}\n",
      "42096.559\n"
     ]
    }
   ],
   "source": [
    "from sklearn.model_selection import RandomizedSearchCV\n",
    "\n",
    "param_dist = dict(n_neighbors = np.arange(1, 25), weights = weight_options)\n",
    "knn_rand = RandomizedSearchCV(knn, param_dist, n_iter=10, scoring = 'neg_mean_squared_error', random_state = 42, cv=10)\n",
    "knn_rand.fit(X_train.iloc[:, 1:min_idx], y_train)\n",
    "mse = knn_gscv.best_score_\n",
    "knn_rmse_tr = np.sqrt(np.abs(mse))\n",
    "knn_best_param = knn_gscv.best_params_\n",
    "print(knn_best_param)\n",
    "print(round(knn_rmse_tr, 3))"
   ]
  },
  {
   "cell_type": "markdown",
   "metadata": {},
   "source": [
    "Randomized search identified the same value for the optimum numbe of neighrbors as that identified using Grid search.  But it ran much quicker. "
   ]
  },
  {
   "cell_type": "markdown",
   "metadata": {},
   "source": [
    "## <b>Predicting sales price using random forest"
   ]
  },
  {
   "cell_type": "code",
   "execution_count": 52,
   "metadata": {},
   "outputs": [
    {
     "name": "stdout",
     "output_type": "stream",
     "text": [
      "rmses= [34137.684, 44299.961, 74800.956, 53788.309, 48764.633, 41188.773, 35973.422, 40225.149, 57136.47, 48969.045]\n",
      "mean rmses =  47928.440\n",
      "std of rmse =  11375.751\n"
     ]
    }
   ],
   "source": [
    "# evaluate the model using 10 fold cross validation\n",
    "\n",
    "from sklearn.ensemble import RandomForestClassifier\n",
    "import numpy as np\n",
    "from sklearn.model_selection import cross_val_score, cross_val_predict, KFold \n",
    "\n",
    "rf = KFold(10, shuffle = True, random_state = 1)\n",
    "rf = RandomForestClassifier(max_depth=10, random_state=42)\n",
    "y_pred = cross_val_predict(rf, X_train[features], y_train, cv = kf)\n",
    "mses = cross_val_score(rf, X_train[features], y_train, scoring = 'neg_mean_squared_error', cv = kf)\n",
    "rmses = np.sqrt(np.abs(mses))\n",
    "mean_rmse = np.mean(rmses)\n",
    "rmse_std = np.std(rmses)\n",
    "print('rmses=', [round(x, 3) for x in rmses])\n",
    "print('mean rmses = % .3f' %mean_rmse)\n",
    "print('std of rmse = % .3f' %rmse_std)"
   ]
  },
  {
   "cell_type": "code",
   "execution_count": 53,
   "metadata": {},
   "outputs": [],
   "source": [
    "# feature selection using forward selection method.  \n",
    "\n",
    "score_dict = {}\n",
    "mean_rmse_dict = {}\n",
    "std_rmse_dict = {}\n",
    "for i in range(2, len(features[1:100])): \n",
    "    kf = KFold(10, shuffle = True, random_state = 1)\n",
    "    rf = RandomForestClassifier(max_depth=2, random_state=42)\n",
    "    scores = cross_val_score(rf, X_train[features].iloc[:, 0:i], y_train, cv=kf)\n",
    "    mean_score = np.mean(scores)\n",
    "    score_dict[i] = mean_score\n",
    "    mses = cross_val_score(rf, X_train.iloc[:, 0:i], y_train, scoring = 'neg_mean_squared_error', cv = kf)\n",
    "    rmses = np.sqrt(np.abs(mses))\n",
    "    avg_rmse = np.mean(rmses)\n",
    "    std_rmse = np.std(rmses)\n",
    "    mean_rmse_dict[i] = round(avg_rmse, 3)\n",
    "    std_rmse_dict[i] = round(std_rmse, 3)\n",
    "    std_rmse_dict[i] = rmse_std\n",
    "\n",
    "score_df = pd.DataFrame(score_dict.items(), columns = ['n_features', 'score'])\n",
    "mean_df = pd.DataFrame(mean_rmse_dict.items(), columns = ['n_features', 'rmse'])\n",
    "std_df = pd.DataFrame(std_rmse_dict.items(), columns = ['n_features', 'std_rmse'])"
   ]
  },
  {
   "cell_type": "code",
   "execution_count": 54,
   "metadata": {},
   "outputs": [
    {
     "data": {
      "text/plain": [
       "Text(0.5, 0, 'number of features used')"
      ]
     },
     "execution_count": 54,
     "metadata": {},
     "output_type": "execute_result"
    },
    {
     "data": {
      "image/png": "[encoded data removed]",
      "text/plain": [
       "<Figure size 1080x216 with 3 Axes>"
      ]
     },
     "metadata": {
      "needs_background": "light"
     },
     "output_type": "display_data"
    }
   ],
   "source": [
    "fig = plt.figure(figsize = (15,3))\n",
    "fig.subplots_adjust(wspace=0.3)\n",
    "ax1 = fig.add_subplot(1, 3, 1)\n",
    "ax1.scatter(score_df.n_features, score_df.score)\n",
    "ax1.set_ylabel('score')\n",
    "ax1.set_xlabel('number of features used')\n",
    "\n",
    "ax2 = fig.add_subplot(1, 3, 2)\n",
    "ax2.scatter(mean_df.n_features, mean_df.rmse)\n",
    "ax2.set_ylabel('mean rmse')\n",
    "ax2.set_xlabel('number of features used')\n",
    "\n",
    "ax3 = fig.add_subplot(1, 3, 3)\n",
    "ax3.scatter(std_df.n_features, std_df.std_rmse)\n",
    "ax3.set_ylabel('std of the rmse')\n",
    "ax3.set_xlabel('number of features used')"
   ]
  },
  {
   "cell_type": "code",
   "execution_count": 55,
   "metadata": {},
   "outputs": [
    {
     "name": "stdout",
     "output_type": "stream",
     "text": [
      "The maximum score of 0.019 was achieved using 71 features.\n",
      "The minimum rmse of 53772.848 was achieved using 1 features.\n"
     ]
    }
   ],
   "source": [
    "# find the index and value for the number of features that result in the least error.\n",
    "\n",
    "max_idx = int(score_df[['score']].idxmax())+1\n",
    "max_score = round(score_df.score.max(), 3)\n",
    "print('The maximum score of', max_score, 'was achieved using', max_idx, 'features.')\n",
    "\n",
    "min_idx = int(mean_df[['rmse']].idxmin())+1\n",
    "min_rmse = round(mean_df.rmse.min(), 3)\n",
    "print('The minimum rmse of', min_rmse, 'was achieved using', min_idx, 'features.')"
   ]
  },
  {
   "cell_type": "code",
   "execution_count": 133,
   "metadata": {},
   "outputs": [
    {
     "name": "stderr",
     "output_type": "stream",
     "text": [
      "C:\\ProgramData\\Anaconda3\\lib\\site-packages\\sklearn\\model_selection\\_split.py:667: UserWarning: The least populated class in y has only 1 members, which is less than n_splits=10.\n",
      "  % (min_groups, self.n_splits)), UserWarning)\n"
     ]
    },
    {
     "name": "stdout",
     "output_type": "stream",
     "text": [
      "{'max_depth': 9, 'n_estimators': 5}\n",
      "48192.735\n"
     ]
    }
   ],
   "source": [
    "# hyperparameter search using the best features\n",
    "\n",
    "rf = RandomForestClassifier() \n",
    "param_grid = {'n_estimators': [5, 10, 15, 20], 'max_depth': [2, 5, 7, 9]}\n",
    "\n",
    "grid_rf = GridSearchCV(rf, param_grid, scoring = 'neg_mean_squared_error', cv=10)\n",
    "grid_rf.fit(X_train.iloc[:, 0:min_idx], y_train)\n",
    "rf_bp = grid_rf.best_params_\n",
    "mse = grid_rf.best_score_\n",
    "rf_rmse_tr = np.sqrt(np.abs(mse))\n",
    "print(rf_bp)\n",
    "print(round(rf_rmse_tr,3))"
   ]
  },
  {
   "cell_type": "code",
   "execution_count": 134,
   "metadata": {},
   "outputs": [
    {
     "name": "stdout",
     "output_type": "stream",
     "text": [
      "rmse= 58009.22\n"
     ]
    }
   ],
   "source": [
    "# Evaluating the model using test dataset with 13 neighbors and the best features.\n",
    "\n",
    "prediction = grid_rf.predict(X_test.iloc[:, 0:min_idx])\n",
    "mse = mean_squared_error(y_test, prediction)\n",
    "rf_rmse = np.sqrt(mse)\n",
    "print('rmse=', round(rf_rmse, 3))"
   ]
  },
  {
   "cell_type": "code",
   "execution_count": 135,
   "metadata": {},
   "outputs": [
    {
     "data": {
      "text/plain": [
       "(array([     0., 100000., 200000., 300000., 400000., 500000., 600000.,\n",
       "        700000., 800000.]),\n",
       " <a list of 9 Text xticklabel objects>)"
      ]
     },
     "execution_count": 135,
     "metadata": {},
     "output_type": "execute_result"
    },
    {
     "data": {
      "image/png": "[encoded data removed]",
      "text/plain": [
       "<Figure size 864x288 with 1 Axes>"
      ]
     },
     "metadata": {
      "needs_background": "light"
     },
     "output_type": "display_data"
    }
   ],
   "source": [
    "# Visualizing the coorelation between the raw and predicted data\n",
    "\n",
    "fig = plt.figure(figsize = (12,4))\n",
    "fig.subplots_adjust(wspace=0.3)\n",
    "ax1 = fig.add_subplot(1, 2, 1)\n",
    "ax1.scatter(y_test, prediction)\n",
    "ax1.set_ylabel('mean rmse')\n",
    "ax1.set_xlabel('SalePrice')\n",
    "m, b = np.polyfit(y_test, prediction, 1)\n",
    "abline_values = [m * i + b for i in y_test]\n",
    "plt.plot(y_test, abline_values, color='red')\n",
    "plt.xticks(rotation=90)"
   ]
  },
  {
   "cell_type": "markdown",
   "metadata": {},
   "source": [
    "The predictions made by Random Forest algorythm is not as good as the linear regression and knn.  "
   ]
  },
  {
   "cell_type": "markdown",
   "metadata": {},
   "source": [
    "## <b>Prediction using decision tree"
   ]
  },
  {
   "cell_type": "markdown",
   "metadata": {},
   "source": [
    "### <font color='green'>Use 10-fold cross-validation method to evaluate the model.</font>"
   ]
  },
  {
   "cell_type": "code",
   "execution_count": 59,
   "metadata": {},
   "outputs": [
    {
     "name": "stdout",
     "output_type": "stream",
     "text": [
      "rmses= [33834.599, 35672.501, 45797.62, 36249.165, 40382.525, 42046.917, 42734.987, 33339.464, 56161.216, 38340.38]\n",
      "mean rmses =  40455.937\n",
      "std of rmse =  6499.693\n"
     ]
    }
   ],
   "source": [
    "# start with three neighbors\n",
    "\n",
    "from sklearn.tree import DecisionTreeRegressor\n",
    "from sklearn.model_selection import cross_val_score, cross_val_predict, KFold \n",
    "\n",
    "kf = KFold(10, shuffle = True, random_state = 1)\n",
    "dt = DecisionTreeRegressor(random_state=42)\n",
    "y_pred = cross_val_predict(dt, X_train[features], y_train, cv = kf)\n",
    "mses = cross_val_score(dt, X_train[features], y_train, scoring = 'neg_mean_squared_error', cv = kf)\n",
    "rmses = np.sqrt(np.abs(mses))\n",
    "mean_rmse = np.mean(rmses)\n",
    "rmse_std = np.std(rmses)\n",
    "print('rmses=', [round(x, 3) for x in rmses])\n",
    "print('mean rmses = % .3f' %mean_rmse)\n",
    "print('std of rmse = % .3f' %rmse_std)"
   ]
  },
  {
   "cell_type": "markdown",
   "metadata": {},
   "source": [
    "The rmse estiamted is higher than what was estimated by the linear regression model.  I will perform both feature selection and hyperparameter tuning to see whether the model can be improved."
   ]
  },
  {
   "cell_type": "code",
   "execution_count": 60,
   "metadata": {},
   "outputs": [],
   "source": [
    "# feature selection using forward selection method with 10 fold cv and 3 neighbors.  \n",
    "\n",
    "score_dict = {}\n",
    "mean_rmse_dict = {}\n",
    "std_rmse_dict = {}\n",
    "for i in range(2, len(features[0:100])):  # my computer locks up when more than 100 features are used here.\n",
    "    kf = KFold(10, shuffle = True, random_state = 1)\n",
    "    dt = DecisionTreeRegressor(random_state=42)    \n",
    "    scores = cross_val_score(dt, X_train[features].iloc[:, 0:i], y_train, cv=kf)\n",
    "    mean_score = np.mean(scores)\n",
    "    score_dict[i] = mean_score\n",
    "    mses = cross_val_score(dt, X_train.iloc[:, 0:i], y_train, scoring = 'neg_mean_squared_error', cv = kf)\n",
    "    rmses = np.sqrt(np.abs(mses))\n",
    "    avg_rmse = np.mean(rmses)\n",
    "    std_rmse = np.std(rmses)\n",
    "    mean_rmse_dict[i] = round(avg_rmse, 3)\n",
    "    std_rmse_dict[i] = round(std_rmse, 3)\n",
    "    std_rmse_dict[i] = rmse_std\n",
    "\n",
    "score_df = pd.DataFrame(score_dict.items(), columns = ['n_features', 'score'])\n",
    "mean_df = pd.DataFrame(mean_rmse_dict.items(), columns = ['n_features', 'rmse'])\n",
    "std_df = pd.DataFrame(std_rmse_dict.items(), columns = ['n_features', 'std_rmse'])"
   ]
  },
  {
   "cell_type": "code",
   "execution_count": 61,
   "metadata": {},
   "outputs": [
    {
     "data": {
      "text/plain": [
       "Text(0.5, 0, 'number of features used')"
      ]
     },
     "execution_count": 61,
     "metadata": {},
     "output_type": "execute_result"
    },
    {
     "data": {
      "image/png": "[encoded data removed]",
      "text/plain": [
       "<Figure size 1080x216 with 3 Axes>"
      ]
     },
     "metadata": {
      "needs_background": "light"
     },
     "output_type": "display_data"
    }
   ],
   "source": [
    "fig = plt.figure(figsize = (15,3))\n",
    "fig.subplots_adjust(wspace=0.3)\n",
    "ax1 = fig.add_subplot(1, 3, 1)\n",
    "ax1.scatter(score_df.n_features, score_df.score)\n",
    "ax1.set_ylabel('score')\n",
    "ax1.set_xlabel('number of features used')\n",
    "\n",
    "ax2 = fig.add_subplot(1, 3, 2)\n",
    "ax2.scatter(mean_df.n_features, mean_df.rmse)\n",
    "ax2.set_ylabel('mean rmse')\n",
    "ax2.set_xlabel('number of features used')\n",
    "\n",
    "ax3 = fig.add_subplot(1, 3, 3)\n",
    "ax3.scatter(std_df.n_features, std_df.std_rmse)\n",
    "ax3.set_ylabel('std of the rmse')\n",
    "ax3.set_xlabel('number of features used')"
   ]
  },
  {
   "cell_type": "markdown",
   "metadata": {},
   "source": [
    "Due to the noise in the score and rmse values, based on their trends, it is reasonalbe to limit features within 20 to reduce the complexity of the model."
   ]
  },
  {
   "cell_type": "code",
   "execution_count": 62,
   "metadata": {},
   "outputs": [],
   "source": [
    "# feature selection using forward selection using max of 20 features.  \n",
    "\n",
    "score_dict = {}\n",
    "mean_rmse_dict = {}\n",
    "std_rmse_dict = {}\n",
    "for i in range(2, len(features[0:20])):  # my computer locks up when more than 100 features are used here.\n",
    "    kf = KFold(10, shuffle = True, random_state = 1)\n",
    "    dt = DecisionTreeRegressor(random_state=42)    \n",
    "    scores = cross_val_score(dt, X_train[features].iloc[:, 0:i], y_train, cv=kf)\n",
    "    mean_score = np.mean(scores)\n",
    "    score_dict[i] = mean_score\n",
    "    mses = cross_val_score(dt, X_train.iloc[:, 0:i], y_train, scoring = 'neg_mean_squared_error', cv = kf)\n",
    "    rmses = np.sqrt(np.abs(mses))\n",
    "    avg_rmse = np.mean(rmses)\n",
    "    std_rmse = np.std(rmses)\n",
    "    mean_rmse_dict[i] = round(avg_rmse, 3)\n",
    "    std_rmse_dict[i] = round(std_rmse, 3)\n",
    "    std_rmse_dict[i] = rmse_std\n",
    "\n",
    "score_df = pd.DataFrame(score_dict.items(), columns = ['n_features', 'score'])\n",
    "mean_df = pd.DataFrame(mean_rmse_dict.items(), columns = ['n_features', 'rmse'])\n",
    "std_df = pd.DataFrame(std_rmse_dict.items(), columns = ['n_features', 'std_rmse'])"
   ]
  },
  {
   "cell_type": "code",
   "execution_count": 63,
   "metadata": {},
   "outputs": [
    {
     "data": {
      "text/plain": [
       "Text(0.5, 0, 'number of features used')"
      ]
     },
     "execution_count": 63,
     "metadata": {},
     "output_type": "execute_result"
    },
    {
     "data": {
      "image/png": "[encoded data removed]",
      "text/plain": [
       "<Figure size 1080x216 with 3 Axes>"
      ]
     },
     "metadata": {
      "needs_background": "light"
     },
     "output_type": "display_data"
    }
   ],
   "source": [
    "fig = plt.figure(figsize = (15,3))\n",
    "fig.subplots_adjust(wspace=0.3)\n",
    "ax1 = fig.add_subplot(1, 3, 1)\n",
    "ax1.scatter(score_df.n_features, score_df.score)\n",
    "ax1.set_ylabel('score')\n",
    "ax1.set_xlabel('number of features used')\n",
    "\n",
    "ax2 = fig.add_subplot(1, 3, 2)\n",
    "ax2.scatter(mean_df.n_features, mean_df.rmse)\n",
    "ax2.set_ylabel('mean rmse')\n",
    "ax2.set_xlabel('number of features used')\n",
    "\n",
    "ax3 = fig.add_subplot(1, 3, 3)\n",
    "ax3.scatter(std_df.n_features, std_df.std_rmse)\n",
    "ax3.set_ylabel('std of the rmse')\n",
    "ax3.set_xlabel('number of features used')"
   ]
  },
  {
   "cell_type": "code",
   "execution_count": 64,
   "metadata": {},
   "outputs": [
    {
     "name": "stdout",
     "output_type": "stream",
     "text": [
      "The maximum score of 0.687 was achieved using 12 features.\n",
      "The minimum rmse of 39945.153 was achieved using 16 features.\n"
     ]
    }
   ],
   "source": [
    "# find the index and value for the number of features that result in the least error.\n",
    "\n",
    "max_idx = int(score_df[['score']].idxmax())+1\n",
    "max_score = round(score_df.score.max(), 3)\n",
    "print('The maximum score of', max_score, 'was achieved using', max_idx, 'features.')\n",
    "\n",
    "min_idx = int(mean_df[['rmse']].idxmin())+1\n",
    "min_rmse = round(mean_df.rmse.min(), 3)\n",
    "print('The minimum rmse of', min_rmse, 'was achieved using', min_idx, 'features.')"
   ]
  },
  {
   "cell_type": "code",
   "execution_count": 139,
   "metadata": {},
   "outputs": [
    {
     "name": "stderr",
     "output_type": "stream",
     "text": [
      "C:\\ProgramData\\Anaconda3\\lib\\site-packages\\sklearn\\model_selection\\_split.py:667: UserWarning: The least populated class in y has only 1 members, which is less than n_splits=5.\n",
      "  % (min_groups, self.n_splits)), UserWarning)\n"
     ]
    },
    {
     "name": "stdout",
     "output_type": "stream",
     "text": [
      "rmse =  47303.606\n",
      "best parameters =  {'max_depth': 15, 'min_samples_leaf': 1}\n"
     ]
    }
   ],
   "source": [
    "# hyperparameter search using the best features.  \n",
    "from sklearn import tree\n",
    "from sklearn.model_selection import GridSearchCV\n",
    "\n",
    "dt = tree.DecisionTreeClassifier()\n",
    "parameters = {'max_depth':range(2,20), 'min_samples_leaf':range(1,20)}\n",
    "grid_dt = GridSearchCV(dt, parameters, scoring = 'neg_mean_squared_error', n_jobs=4)\n",
    "grid_dt.fit(X_train.iloc[:, 0:min_idx], y_train)\n",
    "tree_model = grid_dt.best_estimator_\n",
    "mse = grid_dt.best_score_\n",
    "dt_rmse = np.sqrt(abs(mse))\n",
    "dt_bp = grid_dt.best_params_\n",
    "print ('rmse = ', round(dt_rmse,3))\n",
    "print ('best parameters = ', dt_bp) "
   ]
  },
  {
   "cell_type": "code",
   "execution_count": 141,
   "metadata": {},
   "outputs": [
    {
     "data": {
      "image/png": "[encoded data removed]",
      "text/plain": [
       "<Figure size 1080x1080 with 1 Axes>"
      ]
     },
     "metadata": {
      "needs_background": "light"
     },
     "output_type": "display_data"
    }
   ],
   "source": [
    "plt.figure(figsize=(15,15))\n",
    "tree.plot_tree(tree_model, filled=True)"
   ]
  },
  {
   "cell_type": "code",
   "execution_count": 142,
   "metadata": {},
   "outputs": [
    {
     "name": "stdout",
     "output_type": "stream",
     "text": [
      "rmse= 69288.327\n"
     ]
    }
   ],
   "source": [
    "# Evaluating the model using test dataset with the best parameters and the best features.\n",
    "\n",
    "prediction = grid_dt.predict(X_test.iloc[:, 0:min_idx])\n",
    "mse = mean_squared_error(y_test, prediction)\n",
    "dt_rmse = np.sqrt(mse)\n",
    "print('rmse=', round(dt_rmse, 3))"
   ]
  },
  {
   "cell_type": "code",
   "execution_count": 69,
   "metadata": {},
   "outputs": [
    {
     "data": {
      "text/plain": [
       "(array([     0., 100000., 200000., 300000., 400000., 500000., 600000.,\n",
       "        700000., 800000.]),\n",
       " <a list of 9 Text xticklabel objects>)"
      ]
     },
     "execution_count": 69,
     "metadata": {},
     "output_type": "execute_result"
    },
    {
     "data": {
      "image/png": "[encoded data removed]",
      "text/plain": [
       "<Figure size 864x288 with 1 Axes>"
      ]
     },
     "metadata": {
      "needs_background": "light"
     },
     "output_type": "display_data"
    }
   ],
   "source": [
    "# Visualizing the coorelation between the raw and predicted data\n",
    "\n",
    "fig = plt.figure(figsize = (12,4))\n",
    "fig.subplots_adjust(wspace=0.3)\n",
    "ax1 = fig.add_subplot(1, 2, 1)\n",
    "ax1.scatter(y_test, prediction)\n",
    "ax1.set_ylabel('mean rmse')\n",
    "ax1.set_xlabel('SalePrice')\n",
    "m, b = np.polyfit(y_test, prediction, 1)\n",
    "abline_values = [m * i + b for i in y_test]\n",
    "plt.plot(y_test, abline_values, color='red')\n",
    "plt.xticks(rotation=90)"
   ]
  },
  {
   "cell_type": "code",
   "execution_count": 151,
   "metadata": {},
   "outputs": [
    {
     "name": "stdout",
     "output_type": "stream",
     "text": [
      "rmse from linear regression = 45376.479\n",
      "rmse from linear regression using normalized data = 0.06\n",
      "R2 score from linear regression = 0.731\n",
      "R2 score from linear regression using normalized data = 0.728 \n",
      "\n",
      "rmse from knn = 53073.712\n",
      "rmse from random forest = 58009.0\n",
      "rmse from decision tree = 69288.0 \n",
      "\n"
     ]
    }
   ],
   "source": [
    "# Summary error from al lmodels\n",
    "\n",
    "print(f'rmse from linear regression = {round(lr_rmse, 3)}')\n",
    "print(f'rmse from linear regression using normalized data = {round(lrn_rmse, 3)}')\n",
    "print(f'R2 score from linear regression = {round(lr_R2_score, 3)}')\n",
    "print(f'R2 score from linear regression using normalized data = {round(lrn_R2_score, 3)}', '\\n')\n",
    "\n",
    "print(f'rmse from knn = {round(knn_rmse,3)}')\n",
    "print(f'rmse from random forest = {round(rf_rmse)}')\n",
    "print(f'rmse from decision tree = {round(dt_rmse)}', '\\n')"
   ]
  },
  {
   "cell_type": "markdown",
   "metadata": {},
   "source": [
    "### Conclusion\n",
    "\n",
    "1. The analysis above indicates that linear regression is the best model for predicting Sale Prices for housing  It has the smallest rmse.\n",
    "2. Using normalized data, the trained linear model used less number of features but reached a similar accuracy to the model trained with the raw data, thus it is a better choice.  It is also better in terms of scalability since it uses less features."
   ]
  }
 ],
 "metadata": {
  "kernelspec": {
   "display_name": "Python 3",
   "language": "python",
   "name": "python3"
  },
  "language_info": {
   "codemirror_mode": {
    "name": "ipython",
    "version": 3
   },
   "file_extension": ".py",
   "mimetype": "text/x-python",
   "name": "python",
   "nbconvert_exporter": "python",
   "pygments_lexer": "ipython3",
   "version": "3.7.6"
  }
 },
 "nbformat": 4,
 "nbformat_minor": 4
}
